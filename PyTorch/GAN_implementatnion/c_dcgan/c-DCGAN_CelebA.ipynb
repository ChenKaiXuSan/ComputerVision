{
 "metadata": {
  "language_info": {
   "codemirror_mode": {
    "name": "ipython",
    "version": 3
   },
   "file_extension": ".py",
   "mimetype": "text/x-python",
   "name": "python",
   "nbconvert_exporter": "python",
   "pygments_lexer": "ipython3",
   "version": "3.7.7-final"
  },
  "orig_nbformat": 2,
  "kernelspec": {
   "name": "python3",
   "display_name": "Python 3",
   "language": "python"
  }
 },
 "nbformat": 4,
 "nbformat_minor": 2,
 "cells": [
  {
   "source": [
    "# c-DCGAN with CelebA\n",
    "https://github.com/znxlwm/pytorch-MNIST-CelebA-cGAN-cDCGAN/blob/master/pytorch_CelebA_cDCGAN.py"
   ],
   "cell_type": "markdown",
   "metadata": {}
  },
  {
   "cell_type": "code",
   "execution_count": 1,
   "metadata": {},
   "outputs": [],
   "source": [
    "import os, time, sys\n",
    "import matplotlib.pyplot as plt\n",
    "import itertools\n",
    "import pickle\n",
    "import imageio\n",
    "import torch\n",
    "import torch.nn as nn\n",
    "import torch.nn.functional as F\n",
    "import torch.optim as optim\n",
    "from torchvision import datasets, transforms\n",
    "from torch.autograd import Variable\n",
    "\n"
   ]
  },
  {
   "cell_type": "code",
   "execution_count": 2,
   "metadata": {},
   "outputs": [],
   "source": [
    "# G(z)\n",
    "class generator(nn.Module):\n",
    "    # initial\n",
    "    def __init__(self, d=128):\n",
    "        super(generator, self).__init__()\n",
    "        # z, 100\n",
    "        self.deconv1_1 = nn.ConvTranspose2d(100, d*4, 4, 1, 0)\n",
    "        self.devonv1_1_bn = nn.BatchNorm2d(d*4)\n",
    "        # y (label 变为2，female and male)\n",
    "        self.devonv1_2 = nn.ConvTranspose2d(2, d*4, 4, 1, 0)\n",
    "        self.devonv1_2_bn = nn.BatchNorm2d(d*4)\n",
    "\n",
    "        self.devonv2 = nn.ConvTranspose2d(d*8, d*4, 4, 2, 1)\n",
    "        self.devonv2_bn = nn.BatchNorm2d(d*4)\n",
    "        self.deconv3 = nn.ConvTranspose2d(d*4, d*2, 4, 2, 1)\n",
    "        self.deconv3_bn = nn.BatchNorm2d(d*2)\n",
    "        self.deconv4 = nn.ConvTranspose2d(d*2, d, 4, 2, 1)\n",
    "        self.devonv4_bn = nn.BatchNorm2d(d)\n",
    "        self.deconv5 = nn.ConvTranspose2d(d, 3, 4, 2, 1)\n",
    "\n",
    "    # weight_init \n",
    "    def weight_init(self, mean, std):\n",
    "        for m in self._modules:\n",
    "            normal_init(self._modules[m], mean, std)\n",
    "\n",
    "    # forward method\n",
    "    def forward(self, input, label):\n",
    "        x = F.leaky_relu(self.deconv1_1_bn(self.deconv1_1(input)), 0.2)\n",
    "        y = F.leaky_relu(self.deconv1_2_bn(self.devonv1_2(label)), 0.2)\n",
    "        \n",
    "        x = torch.cat([x, y], 1)\n",
    "\n",
    "        x = F.leaky_relu(self.deconv2_bn(self.deconv2(x)), 0.2)\n",
    "        x = F.leaky_relu(self.deconv3_bn(self.deconv(x)), 0.2)\n",
    "        x = F.leaky_relu(self.deconv4_bn(self.deconv4(x)), 0.2)\n",
    "        x = F.tanh(self.deconv5(x))\n",
    "\n",
    "        return x"
   ]
  },
  {
   "cell_type": "code",
   "execution_count": 3,
   "metadata": {},
   "outputs": [],
   "source": [
    "class discriminator(nn.Module):\n",
    "    # initial\n",
    "    def __init__(self, d = 128):\n",
    "        super(discriminator, self).__init__()\n",
    "        self.conv1_1 = nn.Conv2d(3, d/2, 4, 2, 1)\n",
    "        self.conv1_2 = nn.Conv2d(2, d/2, 4, 2, 1)\n",
    "        self.conv2 = nn.Conv2d(d, d*2, 4, 2, 1)\n",
    "        self.conv2_bn = nn.BatchNorm2d(d*2)\n",
    "        self.conv3 = nn.Conv2d(d*2, d*4, 4, 2, 1)\n",
    "        self.conv3_bn = nn.BatchNorm2d(d*4)\n",
    "        self.conv4 = nn.Conv2d(d*4, d*8, 4, 2, 1)\n",
    "        self.conv4_bn = nn.BatchNorm2d(d*8)\n",
    "        self.conv5 = nn.Conv2d(d*8, 1, 4, 1, 0)\n",
    "\n",
    "    # weight_init\n",
    "    def weight_init(self, mean, std):\n",
    "        for m in self._modules:\n",
    "            normal_init(self._modules[m], mean, std)\n",
    "\n",
    "    # forward method\n",
    "    def forward(self, input, label):\n",
    "        x = F.leaky_relu(self.conv1_1(input), 0.2)\n",
    "        y = F.leaky_relu(self.conv1_2(label), 0.2)\n",
    "\n",
    "        x = torch.cat([x, y], 1)\n",
    "        \n",
    "        x = F.leaky_relu(self.conv2_bn(self.conv2(x)), 0.2)\n",
    "        x = F.leaky_relu(self.conv3_bn(self.conv3(x)), 0.2)\n",
    "        x = F.leaky_relu(self.conv4_bn(self.conv4(x)), 0.2)\n",
    "        x = F.sigmoid(self.conv5(x))\n",
    "\n",
    "        return x"
   ]
  },
  {
   "cell_type": "code",
   "execution_count": 4,
   "metadata": {},
   "outputs": [],
   "source": [
    "def normal_init(m, mean, std):\n",
    "    # isinstance() 函数来判断一个对象是否是一个已知的类型\n",
    "    if isinstance(m, nn.ConvTranspose2d) or isinstance(m, nn.Conv2d):\n",
    "        m.weight.data.normal_(mean, std)\n",
    "        m.bias.data.zero_()"
   ]
  },
  {
   "cell_type": "code",
   "execution_count": 5,
   "metadata": {},
   "outputs": [],
   "source": [
    "# label preprocess\n",
    "img_size = 64\n",
    "onehot = torch.zeros(2, 2) # 2 * 2\n",
    "onehot = onehot.scatter_(1, torch.LongTensor([0, 1]).view(2, 1), 1).view(2, 2, 1, 1) # 2 2 1 1维度\n",
    "\n",
    "fill = torch.zeros([2, 2, img_size, img_size])\n",
    "for i in range(2):\n",
    "    fill[i, i, :, :] = 1\n",
    "\n",
    "# print(fill)\n",
    "\n",
    "with open(r'../data/resized_celebA/gender_label.pkl', 'rb') as fp:\n",
    "    y_gender_ = pickle.load(fp)\n",
    "\n",
    "y_gender_ = torch.LongTensor(y_gender_).squeeze() # 在给定的维度上进行压缩"
   ]
  },
  {
   "cell_type": "code",
   "execution_count": 6,
   "metadata": {},
   "outputs": [],
   "source": [
    "# fixed noise & label\n",
    "temp_z0_ = torch.randn(4, 100)\n",
    "temp_z0_ = torch.cat([temp_z0_, temp_z0_], 0)\n",
    "temp_z1_ = torch.randn(4, 100)\n",
    "temp_z1_ = torch.cat([temp_z1_, temp_z1_], 0)\n",
    "\n",
    "fixed_z_ = torch.cat([temp_z0_, temp_z1_], 0)\n",
    "fixed_y_ = torch.cat([torch.zeros(4), torch.ones(4), torch.zeros(4), torch.ones(4)], 0).type(torch.LongTensor).squeeze()\n",
    "\n",
    "fixed_z_ = fixed_z_.view(-1, 100, 1, 1)\n",
    "fixed_y_label = onehot[fixed_y_]\n",
    "fixed_z_, fixed_y_label = Variable(fixed_z_.cuda(), volatile = True), Variable(fixed_y_label.cuda(), volatile=True)\n"
   ]
  },
  {
   "cell_type": "code",
   "execution_count": 7,
   "metadata": {},
   "outputs": [],
   "source": [
    "def show_result(num_epoch, show = False, save = False, path = 'result.png'):\n",
    "    G.eval()\n",
    "    test_images = G(fixed_z_, fixed_y_label)\n",
    "    G.train()\n",
    "\n",
    "    size_figure_grid = 4\n",
    "    fig, ax = plt.subplots(size_figure_grid, size_figure_grid, figsize=(5, 5))\n",
    "    for i, j in itertools.product(range(size_figure_grid), range(size_figure_grid)):\n",
    "        ax[i, j].get_xaxis().set_visible(False)\n",
    "        ax[i, j].get_yaxis().set_visible(False)\n",
    "\n",
    "    for k in range(size_figure_grid*size_figure_grid):\n",
    "        i = k // size_figure_grid\n",
    "        j = k % size_figure_grid\n",
    "        ax[i, j].cla() # clear axis\n",
    "        ax[i, j].imshow((test_images[k].cpu().data.numpy().transposes(1, 2, 0) + 1) / 2)\n",
    "\n",
    "    label = 'Epoch {0}'.format(num_epoch)\n",
    "    fig.text(0.5, 0.04, label, ha='center') # add text to the axes\n",
    "    \n",
    "    if save:\n",
    "        plt.savefig(path)\n",
    "\n",
    "    if show:\n",
    "        plt.show()\n",
    "    else:\n",
    "        plt.close()"
   ]
  },
  {
   "cell_type": "code",
   "execution_count": 8,
   "metadata": {},
   "outputs": [],
   "source": [
    "def show_train_hist(hist, show = False, save = False, path = 'Train_hist.png'):\n",
    "    x = range(len(hist['D_losses']))\n",
    "\n",
    "    y1 = hist['D_losses']\n",
    "    y2 = hist['G_losses']\n",
    "\n",
    "    plt.plot(x, y1, label='D_loss')\n",
    "    plt.plot(x, y2, label='G_loss')\n",
    "\n",
    "    plt.xlabel('Epoch')\n",
    "    plt.ylabel('Loss')\n",
    "\n",
    "    plt.legend(loc=4)\n",
    "    plt.grid(True)\n",
    "    plt.tight_layout()\n",
    "\n",
    "    if save:\n",
    "        plt.savefig(path)\n",
    "\n",
    "    if show:\n",
    "        plt.show()\n",
    "    else:\n",
    "        plt.close()\n"
   ]
  },
  {
   "cell_type": "code",
   "execution_count": 10,
   "metadata": {},
   "outputs": [],
   "source": [
    "def show_noise_morp(show=False, save=False, path='result.png'):\n",
    "    source_z_ = torch.rand(10, 100)\n",
    "    z_ = torch.zeros(100, 100)\n",
    "    for i in range(5):\n",
    "        for j in range(5):\n",
    "            z_[i*20 + j] = (source_z_[i*2+1] - source_z_[i*2]) / 9 *(j+1) + source_z_[i*2]\n",
    "\n",
    "    for i in range(5):\n",
    "        z_[i*20 + 10:i*20 + 20] = z_[i*20 : i*20+10]\n",
    "\n",
    "    y_ = torch.cat([torch.zeros(10, 1), torch.ones(10, 1)], 0).type(torch.LongTensor).squeeze()\n",
    "    y_ = torch.cat([y_, y_, y_, y_, y_], 0)\n",
    "    y_label_ = onehot[y_]"
   ]
  },
  {
   "cell_type": "code",
   "execution_count": 61,
   "metadata": {},
   "outputs": [
    {
     "output_type": "stream",
     "name": "stdout",
     "text": [
      "tensor([0.1308, 0.6893, 0.0700])\n"
     ]
    }
   ],
   "source": [
    "x = torch.rand(3)\n",
    "print(x)"
   ]
  }
 ]
}