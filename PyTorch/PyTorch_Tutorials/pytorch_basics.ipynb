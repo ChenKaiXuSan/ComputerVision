{
 "cells": [
  {
   "cell_type": "code",
   "execution_count": 7,
   "source": [
    "import torch \r\n",
    "import torchvision\r\n",
    "import torch.nn as nn \r\n",
    "import numpy as np \r\n",
    "import torchvision.transforms as transforms"
   ],
   "outputs": [],
   "metadata": {}
  },
  {
   "cell_type": "code",
   "execution_count": 8,
   "source": [
    "# create tensors \r\n",
    "x = torch.tensor(1., requires_grad=True)\r\n",
    "w = torch.tensor(2., requires_grad=True)\r\n",
    "b = torch.tensor(3., requires_grad=True)\r\n",
    "\r\n",
    "# build a computational graph\r\n",
    "y = w * x + b \r\n",
    "\r\n",
    "# compute gradients \r\n",
    "y.backward()\r\n",
    "\r\n",
    "# print out the gradients \r\n",
    "print(x.grad)\r\n",
    "print(w.grad)\r\n",
    "print(b.grad)"
   ],
   "outputs": [
    {
     "output_type": "stream",
     "name": "stdout",
     "text": [
      "tensor(2.)\n",
      "tensor(1.)\n",
      "tensor(1.)\n"
     ]
    }
   ],
   "metadata": {}
  },
  {
   "cell_type": "code",
   "execution_count": 9,
   "source": [
    "x = torch.randn(10, 3)\r\n",
    "y = torch.randn(10, 2)\r\n",
    "\r\n",
    "# fully connected layer \r\n",
    "linear = nn.Linear(3, 2)\r\n",
    "print('w', linear.weight)\r\n",
    "print('b', linear.bias)"
   ],
   "outputs": [
    {
     "output_type": "stream",
     "name": "stdout",
     "text": [
      "w Parameter containing:\n",
      "tensor([[ 0.4309, -0.3151,  0.0963],\n",
      "        [-0.5225, -0.5210,  0.3435]], requires_grad=True)\n",
      "b Parameter containing:\n",
      "tensor([ 0.1605, -0.1558], requires_grad=True)\n"
     ]
    }
   ],
   "metadata": {}
  },
  {
   "cell_type": "code",
   "execution_count": 10,
   "source": [
    "# build loss function and optimizer \r\n",
    "criterion = nn.MSELoss()\r\n",
    "optimizer = torch.optim.SGD(linear.parameters(), lr=0.01)\r\n",
    "\r\n",
    "# forward pass \r\n",
    "pred = linear(x)\r\n",
    "\r\n",
    "# compute loss \r\n",
    "loss = criterion(pred, y)\r\n",
    "print('loss', loss.item())"
   ],
   "outputs": [
    {
     "output_type": "stream",
     "name": "stdout",
     "text": [
      "loss 1.419870138168335\n"
     ]
    }
   ],
   "metadata": {}
  },
  {
   "cell_type": "code",
   "execution_count": 11,
   "source": [
    "# backward pass \r\n",
    "loss.backward()\r\n",
    "\r\n",
    "# print out the gradients \r\n",
    "print('dl/dw', linear.weight.grad)\r\n",
    "print('dl/db', linear.bias.grad)"
   ],
   "outputs": [
    {
     "output_type": "stream",
     "name": "stdout",
     "text": [
      "dl/dw tensor([[ 0.3081, -0.6367, -0.0818],\n",
      "        [ 0.0590, -0.6491,  0.3764]])\n",
      "dl/db tensor([ 0.2832, -0.0077])\n"
     ]
    }
   ],
   "metadata": {}
  },
  {
   "cell_type": "code",
   "execution_count": 12,
   "source": [
    "# 1 step gradient descent \r\n",
    "optimizer.step()\r\n",
    "\r\n",
    "# print out the loss after 1 step gradient descent \r\n",
    "pred = linear(x)\r\n",
    "loss = criterion(pred, y)\r\n",
    "print('loss after 1 step optimization:', loss.item())\r\n"
   ],
   "outputs": [
    {
     "output_type": "stream",
     "name": "stdout",
     "text": [
      "loss after 1 step optimization: 1.4083991050720215\n"
     ]
    }
   ],
   "metadata": {}
  },
  {
   "cell_type": "code",
   "execution_count": 13,
   "source": [
    "# loading data from numpy \r\n",
    "# create a numpy array.\r\n",
    "x = np.array([[1, 2], [3, 4]])\r\n",
    "\r\n",
    "# convent the numpy array to a torch tensor \r\n",
    "y = torch.from_numpy(x)\r\n",
    "\r\n",
    "# convent the torch tensor to a numpy array\r\n",
    "z = y.numpy()"
   ],
   "outputs": [],
   "metadata": {}
  },
  {
   "cell_type": "code",
   "execution_count": 14,
   "source": [
    "# input pipeline \r\n",
    "train_dataset = torchvision.datasets.CIFAR10(\r\n",
    "    root='../data/',\r\n",
    "    train=True,\r\n",
    "    transform=transforms.ToTensor(),\r\n",
    "    download=True\r\n",
    ")\r\n",
    "\r\n",
    "# fetch one data pair \r\n",
    "image, label = train_dataset[0]\r\n",
    "print(image.size())\r\n",
    "print(label)"
   ],
   "outputs": [
    {
     "output_type": "stream",
     "name": "stderr",
     "text": [
      "0it [00:00, ?it/s]"
     ]
    },
    {
     "output_type": "stream",
     "name": "stdout",
     "text": [
      "Downloading https://www.cs.toronto.edu/~kriz/cifar-10-python.tar.gz to ../data/cifar-10-python.tar.gz\n"
     ]
    },
    {
     "output_type": "stream",
     "name": "stderr",
     "text": [
      "100%|█████████▉| 170467328/170498071 [03:18<00:00, 843663.94it/s]"
     ]
    },
    {
     "output_type": "stream",
     "name": "stdout",
     "text": [
      "Extracting ../data/cifar-10-python.tar.gz to ../data/\n"
     ]
    },
    {
     "output_type": "stream",
     "name": "stderr",
     "text": [
      "170500096it [03:21, 847550.92it/s]                               "
     ]
    },
    {
     "output_type": "stream",
     "name": "stdout",
     "text": [
      "torch.Size([3, 32, 32])\n",
      "6\n"
     ]
    },
    {
     "output_type": "stream",
     "name": "stderr",
     "text": [
      "\n"
     ]
    }
   ],
   "metadata": {}
  },
  {
   "cell_type": "code",
   "execution_count": null,
   "source": [],
   "outputs": [],
   "metadata": {}
  }
 ],
 "metadata": {
  "orig_nbformat": 4,
  "language_info": {
   "name": "python",
   "version": "3.7.7",
   "mimetype": "text/x-python",
   "codemirror_mode": {
    "name": "ipython",
    "version": 3
   },
   "pygments_lexer": "ipython3",
   "nbconvert_exporter": "python",
   "file_extension": ".py"
  },
  "kernelspec": {
   "name": "python3",
   "display_name": "Python 3.7.7 64-bit ('base': conda)"
  },
  "interpreter": {
   "hash": "579282893146967bc5d17141c601e8a8b8ad4a0a2a5a6fe1c87b1000077400d7"
  }
 },
 "nbformat": 4,
 "nbformat_minor": 2
}