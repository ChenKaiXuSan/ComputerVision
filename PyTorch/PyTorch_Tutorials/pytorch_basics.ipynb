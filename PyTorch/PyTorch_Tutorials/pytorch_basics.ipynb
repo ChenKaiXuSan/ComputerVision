{
 "cells": [
  {
   "cell_type": "code",
   "execution_count": 1,
   "source": [
    "import torch \r\n",
    "import torchvision\r\n",
    "import torch.nn as nn \r\n",
    "import numpy as np \r\n",
    "import torchvision.transforms as transforms"
   ],
   "outputs": [],
   "metadata": {}
  },
  {
   "cell_type": "code",
   "execution_count": 2,
   "source": [
    "# create tensors \r\n",
    "x = torch.tensor(1., requires_grad=True)\r\n",
    "w = torch.tensor(2., requires_grad=True)\r\n",
    "b = torch.tensor(3., requires_grad=True)\r\n",
    "\r\n",
    "# build a computational graph\r\n",
    "y = w * x + b \r\n",
    "\r\n",
    "# compute gradients \r\n",
    "y.backward()\r\n",
    "\r\n",
    "# print out the gradients \r\n",
    "print(x.grad)\r\n",
    "print(w.grad)\r\n",
    "print(b.grad)"
   ],
   "outputs": [
    {
     "output_type": "stream",
     "name": "stdout",
     "text": [
      "tensor(2.)\n",
      "tensor(1.)\n",
      "tensor(1.)\n"
     ]
    }
   ],
   "metadata": {}
  },
  {
   "cell_type": "code",
   "execution_count": 4,
   "source": [
    "x = torch.randn(10, 3)\r\n",
    "y = torch.randn(10, 2)\r\n",
    "\r\n",
    "# fully connected layer \r\n",
    "linear = nn.Linear(3, 2)\r\n",
    "print('w', linear.weight)\r\n",
    "print('b', linear.bias)"
   ],
   "outputs": [
    {
     "output_type": "stream",
     "name": "stdout",
     "text": [
      "w Parameter containing:\n",
      "tensor([[0.0507, 0.4724, 0.3144],\n",
      "        [0.5153, 0.0073, 0.3245]], requires_grad=True)\n",
      "b Parameter containing:\n",
      "tensor([ 0.4362, -0.4181], requires_grad=True)\n"
     ]
    }
   ],
   "metadata": {}
  },
  {
   "cell_type": "code",
   "execution_count": 5,
   "source": [
    "# build loss function and optimizer \r\n",
    "criterion = nn.MSELoss()\r\n",
    "optimizer = torch.optim.SGD(linear.parameters(), lr=0.01)\r\n",
    "\r\n",
    "# forward pass \r\n",
    "pred = linear(x)\r\n",
    "\r\n",
    "# compute loss \r\n",
    "loss = criterion(pred, y)\r\n",
    "print('loss', loss.item())"
   ],
   "outputs": [
    {
     "output_type": "stream",
     "name": "stdout",
     "text": [
      "loss 0.8218508958816528\n"
     ]
    }
   ],
   "metadata": {}
  },
  {
   "cell_type": "code",
   "execution_count": 6,
   "source": [
    "# backward pass \r\n",
    "loss.backward()\r\n",
    "\r\n",
    "# print out the gradients \r\n",
    "print('dl/dw', linear.weight.grad)\r\n",
    "print('dl/db', linear.bias.grad)"
   ],
   "outputs": [
    {
     "output_type": "stream",
     "name": "stdout",
     "text": [
      "dl/dw tensor([[ 0.2010, -0.0695,  0.5060],\n",
      "        [ 0.1897,  0.0592, -0.2687]])\n",
      "dl/db tensor([ 0.8443, -0.4812])\n"
     ]
    }
   ],
   "metadata": {}
  },
  {
   "cell_type": "code",
   "execution_count": null,
   "source": [],
   "outputs": [],
   "metadata": {}
  }
 ],
 "metadata": {
  "orig_nbformat": 4,
  "language_info": {
   "name": "python",
   "version": "3.7.7",
   "mimetype": "text/x-python",
   "codemirror_mode": {
    "name": "ipython",
    "version": 3
   },
   "pygments_lexer": "ipython3",
   "nbconvert_exporter": "python",
   "file_extension": ".py"
  },
  "kernelspec": {
   "name": "python3",
   "display_name": "Python 3.7.7 64-bit ('base': conda)"
  },
  "interpreter": {
   "hash": "579282893146967bc5d17141c601e8a8b8ad4a0a2a5a6fe1c87b1000077400d7"
  }
 },
 "nbformat": 4,
 "nbformat_minor": 2
}