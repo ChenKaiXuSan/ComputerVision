{
 "metadata": {
  "language_info": {
   "codemirror_mode": {
    "name": "ipython",
    "version": 3
   },
   "file_extension": ".py",
   "mimetype": "text/x-python",
   "name": "python",
   "nbconvert_exporter": "python",
   "pygments_lexer": "ipython3",
   "version": "3.7.7-final"
  },
  "orig_nbformat": 2,
  "kernelspec": {
   "name": "Python 3.7.7 64-bit ('base': conda)",
   "display_name": "Python 3.7.7 64-bit ('base': conda)",
   "metadata": {
    "interpreter": {
     "hash": "579282893146967bc5d17141c601e8a8b8ad4a0a2a5a6fe1c87b1000077400d7"
    }
   }
  }
 },
 "nbformat": 4,
 "nbformat_minor": 2,
 "cells": [
  {
   "source": [
    "# 优化器"
   ],
   "cell_type": "markdown",
   "metadata": {}
  },
  {
   "cell_type": "code",
   "execution_count": 24,
   "metadata": {},
   "outputs": [],
   "source": [
    "%matplotlib inline\n",
    "import numpy as np\n",
    "import torch\n",
    "torch.set_printoptions(edgeitems=2, linewidth=75)"
   ]
  },
  {
   "cell_type": "code",
   "execution_count": 25,
   "metadata": {},
   "outputs": [],
   "source": [
    "t_c = torch.tensor([0.5, 14.0, 15.0, 28.0, 11.0,\n",
    "                    8.0, 3.0, -4.0, 6.0, 13.0, 21.0])\n",
    "t_u = torch.tensor([35.7, 55.9, 58.2, 81.9, 56.3, 48.9,\n",
    "                    33.9, 21.8, 48.4, 60.4, 68.4])\n",
    "t_un = 0.1 * t_u"
   ]
  },
  {
   "cell_type": "code",
   "execution_count": 26,
   "metadata": {},
   "outputs": [],
   "source": [
    "def model(t_u, w, b):\n",
    "    return w * t_u + b"
   ]
  },
  {
   "cell_type": "code",
   "execution_count": 27,
   "metadata": {},
   "outputs": [],
   "source": [
    "def loss_fn(t_p, t_c):\n",
    "    squared_diffs = (t_p - t_c)**2\n",
    "    return squared_diffs.mean()"
   ]
  },
  {
   "cell_type": "code",
   "execution_count": 28,
   "metadata": {},
   "outputs": [
    {
     "output_type": "execute_result",
     "data": {
      "text/plain": [
       "['ASGD',\n",
       " 'Adadelta',\n",
       " 'Adagrad',\n",
       " 'Adam',\n",
       " 'AdamW',\n",
       " 'Adamax',\n",
       " 'LBFGS',\n",
       " 'Optimizer',\n",
       " 'RMSprop',\n",
       " 'Rprop',\n",
       " 'SGD',\n",
       " 'SparseAdam',\n",
       " '__builtins__',\n",
       " '__cached__',\n",
       " '__doc__',\n",
       " '__file__',\n",
       " '__loader__',\n",
       " '__name__',\n",
       " '__package__',\n",
       " '__path__',\n",
       " '__spec__',\n",
       " 'lr_scheduler']"
      ]
     },
     "metadata": {},
     "execution_count": 28
    }
   ],
   "source": [
    "import torch.optim as optim\n",
    "\n",
    "dir(optim)"
   ]
  },
  {
   "cell_type": "code",
   "execution_count": 29,
   "metadata": {},
   "outputs": [],
   "source": [
    "params = torch.tensor([1.0, 0.0], requires_grad=True)\n",
    "learning_rate = 1e-5\n",
    "optimizer = optim.SGD([params], lr=learning_rate)"
   ]
  },
  {
   "cell_type": "code",
   "execution_count": 30,
   "metadata": {},
   "outputs": [
    {
     "output_type": "execute_result",
     "data": {
      "text/plain": [
       "tensor([ 9.5483e-01, -8.2600e-04], requires_grad=True)"
      ]
     },
     "metadata": {},
     "execution_count": 30
    }
   ],
   "source": [
    "t_p  = model(t_u, *params)\n",
    "loss = loss_fn(t_p, t_c)\n",
    "loss.backward()\n",
    "\n",
    "# 实现params更新\n",
    "optimizer.step()\n",
    "\n",
    "params"
   ]
  },
  {
   "cell_type": "code",
   "execution_count": 31,
   "metadata": {},
   "outputs": [
    {
     "output_type": "execute_result",
     "data": {
      "text/plain": [
       "tensor([1.7761, 0.1064], requires_grad=True)"
      ]
     },
     "metadata": {},
     "execution_count": 31
    }
   ],
   "source": [
    "params = torch.tensor([1.0, 0.0], requires_grad=True)\n",
    "learning_rate = 1e-2\n",
    "optimizer = optim.SGD([params], lr=learning_rate)\n",
    "\n",
    "t_p = model(t_un, *params)\n",
    "loss = loss_fn(t_p, t_c)\n",
    "\n",
    "optimizer.zero_grad()\n",
    "loss.backward()\n",
    "optimizer.step()\n",
    "params\n",
    "\n"
   ]
  },
  {
   "cell_type": "code",
   "execution_count": 37,
   "metadata": {},
   "outputs": [],
   "source": [
    "def training_loop(n_epochs, optimizer, params, t_u, t_c):\n",
    "    for epoch in range(1, n_epochs + 1):\n",
    "        t_p = model(t_u, *params)\n",
    "        loss = loss_fn(t_p, t_c)\n",
    "\n",
    "        # 每次需要清空grad\n",
    "        optimizer.zero_grad()\n",
    "        # 自动求loss\n",
    "        loss.backward()\n",
    "        # 更新grad， 优化param\n",
    "        optimizer.step()\n",
    "\n",
    "        if epoch % 500 == 0:\n",
    "            print('Epoch %d, Loss %f' % (epoch, float(loss)))\n",
    "            # 打印训练中的w，b\n",
    "            print(*params)\n",
    "\n",
    "    return params"
   ]
  },
  {
   "cell_type": "code",
   "execution_count": 38,
   "metadata": {},
   "outputs": [
    {
     "output_type": "stream",
     "name": "stdout",
     "text": [
      "Epoch 500, Loss 7.860116\n",
      "tensor(4.0443, grad_fn=<SelectBackward>) tensor(-9.8133, grad_fn=<SelectBackward>)\n",
      "Epoch 1000, Loss 3.828538\n",
      "tensor(4.8021, grad_fn=<SelectBackward>) tensor(-14.1031, grad_fn=<SelectBackward>)\n",
      "Epoch 1500, Loss 3.092191\n",
      "tensor(5.1260, grad_fn=<SelectBackward>) tensor(-15.9365, grad_fn=<SelectBackward>)\n",
      "Epoch 2000, Loss 2.957697\n",
      "tensor(5.2644, grad_fn=<SelectBackward>) tensor(-16.7200, grad_fn=<SelectBackward>)\n",
      "Epoch 2500, Loss 2.933134\n",
      "tensor(5.3236, grad_fn=<SelectBackward>) tensor(-17.0549, grad_fn=<SelectBackward>)\n",
      "Epoch 3000, Loss 2.928648\n",
      "tensor(5.3489, grad_fn=<SelectBackward>) tensor(-17.1980, grad_fn=<SelectBackward>)\n",
      "Epoch 3500, Loss 2.927830\n",
      "tensor(5.3597, grad_fn=<SelectBackward>) tensor(-17.2591, grad_fn=<SelectBackward>)\n",
      "Epoch 4000, Loss 2.927679\n",
      "tensor(5.3643, grad_fn=<SelectBackward>) tensor(-17.2853, grad_fn=<SelectBackward>)\n",
      "Epoch 4500, Loss 2.927652\n",
      "tensor(5.3662, grad_fn=<SelectBackward>) tensor(-17.2964, grad_fn=<SelectBackward>)\n",
      "Epoch 5000, Loss 2.927647\n",
      "tensor(5.3671, grad_fn=<SelectBackward>) tensor(-17.3012, grad_fn=<SelectBackward>)\n"
     ]
    },
    {
     "output_type": "execute_result",
     "data": {
      "text/plain": [
       "tensor([  5.3671, -17.3012], requires_grad=True)"
      ]
     },
     "metadata": {},
     "execution_count": 38
    }
   ],
   "source": [
    "# 开始训练\n",
    "params = torch.tensor([1.0, 0.0], requires_grad=True)\n",
    "learning_rate = 1e-2\n",
    "# 设置优化器（用来优化param）\n",
    "optimizer = optim.SGD([params], lr=learning_rate)\n",
    "\n",
    "training_loop(\n",
    "    n_epochs=5000,\n",
    "    optimizer=optimizer,\n",
    "    params=params,\n",
    "    t_u= t_un,\n",
    "    t_c = t_c\n",
    ")"
   ]
  },
  {
   "cell_type": "code",
   "execution_count": 41,
   "metadata": {},
   "outputs": [
    {
     "output_type": "stream",
     "name": "stdout",
     "text": [
      "Epoch 500, Loss 7.612901\n",
      "tensor(0.4081, grad_fn=<SelectBackward>) tensor(-10.0095, grad_fn=<SelectBackward>)\n",
      "Epoch 1000, Loss 3.086700\n",
      "tensor(0.5131, grad_fn=<SelectBackward>) tensor(-15.9629, grad_fn=<SelectBackward>)\n",
      "Epoch 1500, Loss 2.928578\n",
      "tensor(0.5350, grad_fn=<SelectBackward>) tensor(-17.2022, grad_fn=<SelectBackward>)\n",
      "Epoch 2000, Loss 2.927646\n",
      "tensor(0.5367, grad_fn=<SelectBackward>) tensor(-17.3021, grad_fn=<SelectBackward>)\n",
      "Epoch 2500, Loss 2.927646\n",
      "tensor(0.5368, grad_fn=<SelectBackward>) tensor(-17.3047, grad_fn=<SelectBackward>)\n",
      "Epoch 3000, Loss 2.927645\n",
      "tensor(0.5368, grad_fn=<SelectBackward>) tensor(-17.3047, grad_fn=<SelectBackward>)\n"
     ]
    },
    {
     "output_type": "execute_result",
     "data": {
      "text/plain": [
       "tensor([  0.5368, -17.3047], requires_grad=True)"
      ]
     },
     "metadata": {},
     "execution_count": 41
    }
   ],
   "source": [
    "# adam optim\n",
    "params = torch.tensor([1.0, 0.0], requires_grad=True)\n",
    "learning_rate = 1e-1\n",
    "optimizer = optim.Adam([params], lr=learning_rate) # adam\n",
    "\n",
    "training_loop(\n",
    "    n_epochs=2000,\n",
    "    optimizer=optimizer,\n",
    "    params=params,\n",
    "    t_u= t_u, # 非正则化输入\n",
    "    t_c= t_c\n",
    ")\n"
   ]
  },
  {
   "cell_type": "code",
   "execution_count": null,
   "metadata": {},
   "outputs": [],
   "source": []
  }
 ]
}