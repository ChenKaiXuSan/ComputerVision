{
 "metadata": {
  "language_info": {
   "codemirror_mode": {
    "name": "ipython",
    "version": 3
   },
   "file_extension": ".py",
   "mimetype": "text/x-python",
   "name": "python",
   "nbconvert_exporter": "python",
   "pygments_lexer": "ipython3",
   "version": "3.7.7-final"
  },
  "orig_nbformat": 2,
  "kernelspec": {
   "name": "Python 3.7.7 64-bit ('base': conda)",
   "display_name": "Python 3.7.7 64-bit ('base': conda)",
   "metadata": {
    "interpreter": {
     "hash": "39bb97b9402fe54965182cdecdf1de398681b71a98db533a4cd01c0e11e7c257"
    }
   }
  }
 },
 "nbformat": 4,
 "nbformat_minor": 2,
 "cells": [
  {
   "cell_type": "code",
   "execution_count": 1,
   "metadata": {},
   "outputs": [
    {
     "output_type": "execute_result",
     "data": {
      "text/plain": [
       "<torch._C.Generator at 0x7ff43b69e530>"
      ]
     },
     "metadata": {},
     "execution_count": 1
    }
   ],
   "source": [
    "%matplotlib inline\n",
    "from matplotlib import pyplot as plt\n",
    "import numpy as np\n",
    "import torch\n",
    "\n",
    "torch.set_printoptions(edgeitems=2)\n",
    "# Sets the seed for generating random numbers. Returns a torch.Generator object.\n",
    "torch.manual_seed(123)"
   ]
  },
  {
   "cell_type": "code",
   "execution_count": 2,
   "metadata": {},
   "outputs": [],
   "source": [
    "class_names = ['airplane','automobile','bird','cat','deer',\n",
    "               'dog','frog','horse','ship','truck']"
   ]
  },
  {
   "cell_type": "code",
   "execution_count": 3,
   "metadata": {},
   "outputs": [],
   "source": [
    "from torchvision import datasets, transforms\n",
    "data_path = '../data-unversioned/p1ch7/'\n",
    "cifar10 = datasets.CIFAR10(\n",
    "    data_path, train=True, download=False,\n",
    "    transform = transforms.Compose([\n",
    "        transforms.ToTensor(),\n",
    "        transforms.Normalize(\n",
    "            (0.4915, 0.4823, 0.4468),\n",
    "            (0.2470, 0.2435, 0.2616)\n",
    "        )\n",
    "    ])\n",
    ")"
   ]
  },
  {
   "cell_type": "code",
   "execution_count": 4,
   "metadata": {},
   "outputs": [],
   "source": [
    "cifar10_val = datasets.CIFAR10(\n",
    "    data_path, train=False, download=False,\n",
    "    transform = transforms.Compose([\n",
    "        transforms.ToTensor(),\n",
    "        transforms.Normalize(\n",
    "            (0.4915, 0.4823, 0.4468),\n",
    "            (0.2470, 0.2435, 0.2616)\n",
    "        )\n",
    "    ])\n",
    ")"
   ]
  },
  {
   "cell_type": "code",
   "execution_count": 5,
   "metadata": {},
   "outputs": [],
   "source": [
    "# 从cifar10里拿出飞机和鸟组成新的数据集，这个是datasets的子类\n",
    "label_map = {0:0, 2:1}\n",
    "class_names = ['airplane', 'bird']\n",
    "cifar2 = [(img, label_map[label])\n",
    "            for img, label in cifar10\n",
    "            if label in [0, 2]]\n",
    "cifar2_val = [(img, label_map[label])\n",
    "                for img, label in cifar10_val\n",
    "                if label in [0, 2]]"
   ]
  },
  {
   "cell_type": "code",
   "execution_count": 6,
   "metadata": {},
   "outputs": [],
   "source": [
    "import torch.nn as nn \n",
    "\n",
    "n_out = 2 \n",
    "\n",
    "model = nn.Sequential(\n",
    "    nn.Linear(\n",
    "        3072, # input features\n",
    "        512, # hidden layer size\n",
    "    ),\n",
    "    nn.Tanh(),\n",
    "    nn.Linear(\n",
    "        512, # hidden layer size \n",
    "        n_out,\n",
    "    )\n",
    ")"
   ]
  },
  {
   "cell_type": "code",
   "execution_count": 7,
   "metadata": {},
   "outputs": [],
   "source": [
    "def softmax(x):\n",
    "    # Returns a new tensor with the exponential of the elements of the input tensor input.\n",
    "    return torch.exp(x) / torch.exp(x).sum()"
   ]
  },
  {
   "cell_type": "code",
   "execution_count": 8,
   "metadata": {},
   "outputs": [
    {
     "output_type": "execute_result",
     "data": {
      "text/plain": [
       "tensor([0.0900, 0.2447, 0.6652])"
      ]
     },
     "metadata": {},
     "execution_count": 8
    }
   ],
   "source": [
    "x = torch.tensor([1.0, 2.0, 3.0])\n",
    "\n",
    "softmax(x)"
   ]
  },
  {
   "cell_type": "code",
   "execution_count": 9,
   "metadata": {},
   "outputs": [
    {
     "output_type": "execute_result",
     "data": {
      "text/plain": [
       "tensor(1.)"
      ]
     },
     "metadata": {},
     "execution_count": 9
    }
   ],
   "source": [
    "softmax(x).sum()"
   ]
  },
  {
   "cell_type": "code",
   "execution_count": 10,
   "metadata": {},
   "outputs": [
    {
     "output_type": "execute_result",
     "data": {
      "text/plain": [
       "(tensor([[0.0900, 0.2447, 0.6652],\n",
       "         [0.0900, 0.2447, 0.6652]]),\n",
       " torch.Size([2, 3]))"
      ]
     },
     "metadata": {},
     "execution_count": 10
    }
   ],
   "source": [
    "softmax = nn.Softmax(dim=1) # 指定计算列数\n",
    "\n",
    "x = torch.tensor([[1.0, 2.0, 3.0],\n",
    "                [1.0, 2.0, 3.0]])\n",
    "\n",
    "softmax(x), x.shape"
   ]
  },
  {
   "cell_type": "code",
   "execution_count": 11,
   "metadata": {},
   "outputs": [],
   "source": [
    "model = nn.Sequential(\n",
    "    nn.Linear(3072, 512),\n",
    "    nn.Tanh(),\n",
    "    nn.Linear(512, 2),\n",
    "    nn.Softmax(dim=1)\n",
    ")"
   ]
  },
  {
   "cell_type": "code",
   "execution_count": 12,
   "metadata": {},
   "outputs": [
    {
     "output_type": "stream",
     "name": "stderr",
     "text": [
      "Clipping input data to the valid range for imshow with RGB data ([0..1] for floats or [0..255] for integers).\n"
     ]
    },
    {
     "output_type": "display_data",
     "data": {
      "text/plain": "<Figure size 432x288 with 1 Axes>",
      "image/svg+xml": "<?xml version=\"1.0\" encoding=\"utf-8\" standalone=\"no\"?>\n<!DOCTYPE svg PUBLIC \"-//W3C//DTD SVG 1.1//EN\"\n  \"http://www.w3.org/Graphics/SVG/1.1/DTD/svg11.dtd\">\n<!-- Created with matplotlib (https://matplotlib.org/) -->\n<svg height=\"248.919844pt\" version=\"1.1\" viewBox=\"0 0 251.565 248.919844\" width=\"251.565pt\" xmlns=\"http://www.w3.org/2000/svg\" xmlns:xlink=\"http://www.w3.org/1999/xlink\">\n <metadata>\n  <rdf:RDF xmlns:cc=\"http://creativecommons.org/ns#\" xmlns:dc=\"http://purl.org/dc/elements/1.1/\" xmlns:rdf=\"http://www.w3.org/1999/02/22-rdf-syntax-ns#\">\n   <cc:Work>\n    <dc:type rdf:resource=\"http://purl.org/dc/dcmitype/StillImage\"/>\n    <dc:date>2020-10-21T20:16:37.774192</dc:date>\n    <dc:format>image/svg+xml</dc:format>\n    <dc:creator>\n     <cc:Agent>\n      <dc:title>Matplotlib v3.3.1, https://matplotlib.org/</dc:title>\n     </cc:Agent>\n    </dc:creator>\n   </cc:Work>\n  </rdf:RDF>\n </metadata>\n <defs>\n  <style type=\"text/css\">*{stroke-linecap:butt;stroke-linejoin:round;}</style>\n </defs>\n <g id=\"figure_1\">\n  <g id=\"patch_1\">\n   <path d=\"M 0 248.919844 \nL 251.565 248.919844 \nL 251.565 0 \nL 0 0 \nz\n\" style=\"fill:none;\"/>\n  </g>\n  <g id=\"axes_1\">\n   <g id=\"patch_2\">\n    <path d=\"M 26.925 225.041719 \nL 244.365 225.041719 \nL 244.365 7.601719 \nL 26.925 7.601719 \nz\n\" style=\"fill:#ffffff;\"/>\n   </g>\n   <g clip-path=\"url(#pb04f772838)\">\n    <image height=\"218\" id=\"image5df186a621\" transform=\"scale(1 -1)translate(0 -218)\" width=\"218\" x=\"26.925\" xlink:href=\"data:image/png;base64,\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\" y=\"-7.041719\"/>\n   </g>\n   <g id=\"matplotlib.axis_1\">\n    <g id=\"xtick_1\">\n     <g id=\"line2d_1\">\n      <defs>\n       <path d=\"M 0 0 \nL 0 3.5 \n\" id=\"m6fa09fcda0\" style=\"stroke:#000000;stroke-width:0.8;\"/>\n      </defs>\n      <g>\n       <use style=\"stroke:#000000;stroke-width:0.8;\" x=\"30.3225\" xlink:href=\"#m6fa09fcda0\" y=\"225.041719\"/>\n      </g>\n     </g>\n     <g id=\"text_1\">\n      <!-- 0 -->\n      <g transform=\"translate(27.14125 239.640156)scale(0.1 -0.1)\">\n       <defs>\n        <path d=\"M 31.78125 66.40625 \nQ 24.171875 66.40625 20.328125 58.90625 \nQ 16.5 51.421875 16.5 36.375 \nQ 16.5 21.390625 20.328125 13.890625 \nQ 24.171875 6.390625 31.78125 6.390625 \nQ 39.453125 6.390625 43.28125 13.890625 \nQ 47.125 21.390625 47.125 36.375 \nQ 47.125 51.421875 43.28125 58.90625 \nQ 39.453125 66.40625 31.78125 66.40625 \nz\nM 31.78125 74.21875 \nQ 44.046875 74.21875 50.515625 64.515625 \nQ 56.984375 54.828125 56.984375 36.375 \nQ 56.984375 17.96875 50.515625 8.265625 \nQ 44.046875 -1.421875 31.78125 -1.421875 \nQ 19.53125 -1.421875 13.0625 8.265625 \nQ 6.59375 17.96875 6.59375 36.375 \nQ 6.59375 54.828125 13.0625 64.515625 \nQ 19.53125 74.21875 31.78125 74.21875 \nz\n\" id=\"DejaVuSans-48\"/>\n       </defs>\n       <use xlink:href=\"#DejaVuSans-48\"/>\n      </g>\n     </g>\n    </g>\n    <g id=\"xtick_2\">\n     <g id=\"line2d_2\">\n      <g>\n       <use style=\"stroke:#000000;stroke-width:0.8;\" x=\"64.2975\" xlink:href=\"#m6fa09fcda0\" y=\"225.041719\"/>\n      </g>\n     </g>\n     <g id=\"text_2\">\n      <!-- 5 -->\n      <g transform=\"translate(61.11625 239.640156)scale(0.1 -0.1)\">\n       <defs>\n        <path d=\"M 10.796875 72.90625 \nL 49.515625 72.90625 \nL 49.515625 64.59375 \nL 19.828125 64.59375 \nL 19.828125 46.734375 \nQ 21.96875 47.46875 24.109375 47.828125 \nQ 26.265625 48.1875 28.421875 48.1875 \nQ 40.625 48.1875 47.75 41.5 \nQ 54.890625 34.8125 54.890625 23.390625 \nQ 54.890625 11.625 47.5625 5.09375 \nQ 40.234375 -1.421875 26.90625 -1.421875 \nQ 22.3125 -1.421875 17.546875 -0.640625 \nQ 12.796875 0.140625 7.71875 1.703125 \nL 7.71875 11.625 \nQ 12.109375 9.234375 16.796875 8.0625 \nQ 21.484375 6.890625 26.703125 6.890625 \nQ 35.15625 6.890625 40.078125 11.328125 \nQ 45.015625 15.765625 45.015625 23.390625 \nQ 45.015625 31 40.078125 35.4375 \nQ 35.15625 39.890625 26.703125 39.890625 \nQ 22.75 39.890625 18.8125 39.015625 \nQ 14.890625 38.140625 10.796875 36.28125 \nz\n\" id=\"DejaVuSans-53\"/>\n       </defs>\n       <use xlink:href=\"#DejaVuSans-53\"/>\n      </g>\n     </g>\n    </g>\n    <g id=\"xtick_3\">\n     <g id=\"line2d_3\">\n      <g>\n       <use style=\"stroke:#000000;stroke-width:0.8;\" x=\"98.2725\" xlink:href=\"#m6fa09fcda0\" y=\"225.041719\"/>\n      </g>\n     </g>\n     <g id=\"text_3\">\n      <!-- 10 -->\n      <g transform=\"translate(91.91 239.640156)scale(0.1 -0.1)\">\n       <defs>\n        <path d=\"M 12.40625 8.296875 \nL 28.515625 8.296875 \nL 28.515625 63.921875 \nL 10.984375 60.40625 \nL 10.984375 69.390625 \nL 28.421875 72.90625 \nL 38.28125 72.90625 \nL 38.28125 8.296875 \nL 54.390625 8.296875 \nL 54.390625 0 \nL 12.40625 0 \nz\n\" id=\"DejaVuSans-49\"/>\n       </defs>\n       <use xlink:href=\"#DejaVuSans-49\"/>\n       <use x=\"63.623047\" xlink:href=\"#DejaVuSans-48\"/>\n      </g>\n     </g>\n    </g>\n    <g id=\"xtick_4\">\n     <g id=\"line2d_4\">\n      <g>\n       <use style=\"stroke:#000000;stroke-width:0.8;\" x=\"132.2475\" xlink:href=\"#m6fa09fcda0\" y=\"225.041719\"/>\n      </g>\n     </g>\n     <g id=\"text_4\">\n      <!-- 15 -->\n      <g transform=\"translate(125.885 239.640156)scale(0.1 -0.1)\">\n       <use xlink:href=\"#DejaVuSans-49\"/>\n       <use x=\"63.623047\" xlink:href=\"#DejaVuSans-53\"/>\n      </g>\n     </g>\n    </g>\n    <g id=\"xtick_5\">\n     <g id=\"line2d_5\">\n      <g>\n       <use style=\"stroke:#000000;stroke-width:0.8;\" x=\"166.2225\" xlink:href=\"#m6fa09fcda0\" y=\"225.041719\"/>\n      </g>\n     </g>\n     <g id=\"text_5\">\n      <!-- 20 -->\n      <g transform=\"translate(159.86 239.640156)scale(0.1 -0.1)\">\n       <defs>\n        <path d=\"M 19.1875 8.296875 \nL 53.609375 8.296875 \nL 53.609375 0 \nL 7.328125 0 \nL 7.328125 8.296875 \nQ 12.9375 14.109375 22.625 23.890625 \nQ 32.328125 33.6875 34.8125 36.53125 \nQ 39.546875 41.84375 41.421875 45.53125 \nQ 43.3125 49.21875 43.3125 52.78125 \nQ 43.3125 58.59375 39.234375 62.25 \nQ 35.15625 65.921875 28.609375 65.921875 \nQ 23.96875 65.921875 18.8125 64.3125 \nQ 13.671875 62.703125 7.8125 59.421875 \nL 7.8125 69.390625 \nQ 13.765625 71.78125 18.9375 73 \nQ 24.125 74.21875 28.421875 74.21875 \nQ 39.75 74.21875 46.484375 68.546875 \nQ 53.21875 62.890625 53.21875 53.421875 \nQ 53.21875 48.921875 51.53125 44.890625 \nQ 49.859375 40.875 45.40625 35.40625 \nQ 44.1875 33.984375 37.640625 27.21875 \nQ 31.109375 20.453125 19.1875 8.296875 \nz\n\" id=\"DejaVuSans-50\"/>\n       </defs>\n       <use xlink:href=\"#DejaVuSans-50\"/>\n       <use x=\"63.623047\" xlink:href=\"#DejaVuSans-48\"/>\n      </g>\n     </g>\n    </g>\n    <g id=\"xtick_6\">\n     <g id=\"line2d_6\">\n      <g>\n       <use style=\"stroke:#000000;stroke-width:0.8;\" x=\"200.1975\" xlink:href=\"#m6fa09fcda0\" y=\"225.041719\"/>\n      </g>\n     </g>\n     <g id=\"text_6\">\n      <!-- 25 -->\n      <g transform=\"translate(193.835 239.640156)scale(0.1 -0.1)\">\n       <use xlink:href=\"#DejaVuSans-50\"/>\n       <use x=\"63.623047\" xlink:href=\"#DejaVuSans-53\"/>\n      </g>\n     </g>\n    </g>\n    <g id=\"xtick_7\">\n     <g id=\"line2d_7\">\n      <g>\n       <use style=\"stroke:#000000;stroke-width:0.8;\" x=\"234.1725\" xlink:href=\"#m6fa09fcda0\" y=\"225.041719\"/>\n      </g>\n     </g>\n     <g id=\"text_7\">\n      <!-- 30 -->\n      <g transform=\"translate(227.81 239.640156)scale(0.1 -0.1)\">\n       <defs>\n        <path d=\"M 40.578125 39.3125 \nQ 47.65625 37.796875 51.625 33 \nQ 55.609375 28.21875 55.609375 21.1875 \nQ 55.609375 10.40625 48.1875 4.484375 \nQ 40.765625 -1.421875 27.09375 -1.421875 \nQ 22.515625 -1.421875 17.65625 -0.515625 \nQ 12.796875 0.390625 7.625 2.203125 \nL 7.625 11.71875 \nQ 11.71875 9.328125 16.59375 8.109375 \nQ 21.484375 6.890625 26.8125 6.890625 \nQ 36.078125 6.890625 40.9375 10.546875 \nQ 45.796875 14.203125 45.796875 21.1875 \nQ 45.796875 27.640625 41.28125 31.265625 \nQ 36.765625 34.90625 28.71875 34.90625 \nL 20.21875 34.90625 \nL 20.21875 43.015625 \nL 29.109375 43.015625 \nQ 36.375 43.015625 40.234375 45.921875 \nQ 44.09375 48.828125 44.09375 54.296875 \nQ 44.09375 59.90625 40.109375 62.90625 \nQ 36.140625 65.921875 28.71875 65.921875 \nQ 24.65625 65.921875 20.015625 65.03125 \nQ 15.375 64.15625 9.8125 62.3125 \nL 9.8125 71.09375 \nQ 15.4375 72.65625 20.34375 73.4375 \nQ 25.25 74.21875 29.59375 74.21875 \nQ 40.828125 74.21875 47.359375 69.109375 \nQ 53.90625 64.015625 53.90625 55.328125 \nQ 53.90625 49.265625 50.4375 45.09375 \nQ 46.96875 40.921875 40.578125 39.3125 \nz\n\" id=\"DejaVuSans-51\"/>\n       </defs>\n       <use xlink:href=\"#DejaVuSans-51\"/>\n       <use x=\"63.623047\" xlink:href=\"#DejaVuSans-48\"/>\n      </g>\n     </g>\n    </g>\n   </g>\n   <g id=\"matplotlib.axis_2\">\n    <g id=\"ytick_1\">\n     <g id=\"line2d_8\">\n      <defs>\n       <path d=\"M 0 0 \nL -3.5 0 \n\" id=\"m0e236a2878\" style=\"stroke:#000000;stroke-width:0.8;\"/>\n      </defs>\n      <g>\n       <use style=\"stroke:#000000;stroke-width:0.8;\" x=\"26.925\" xlink:href=\"#m0e236a2878\" y=\"10.999219\"/>\n      </g>\n     </g>\n     <g id=\"text_8\">\n      <!-- 0 -->\n      <g transform=\"translate(13.5625 14.798437)scale(0.1 -0.1)\">\n       <use xlink:href=\"#DejaVuSans-48\"/>\n      </g>\n     </g>\n    </g>\n    <g id=\"ytick_2\">\n     <g id=\"line2d_9\">\n      <g>\n       <use style=\"stroke:#000000;stroke-width:0.8;\" x=\"26.925\" xlink:href=\"#m0e236a2878\" y=\"44.974219\"/>\n      </g>\n     </g>\n     <g id=\"text_9\">\n      <!-- 5 -->\n      <g transform=\"translate(13.5625 48.773437)scale(0.1 -0.1)\">\n       <use xlink:href=\"#DejaVuSans-53\"/>\n      </g>\n     </g>\n    </g>\n    <g id=\"ytick_3\">\n     <g id=\"line2d_10\">\n      <g>\n       <use style=\"stroke:#000000;stroke-width:0.8;\" x=\"26.925\" xlink:href=\"#m0e236a2878\" y=\"78.949219\"/>\n      </g>\n     </g>\n     <g id=\"text_10\">\n      <!-- 10 -->\n      <g transform=\"translate(7.2 82.748437)scale(0.1 -0.1)\">\n       <use xlink:href=\"#DejaVuSans-49\"/>\n       <use x=\"63.623047\" xlink:href=\"#DejaVuSans-48\"/>\n      </g>\n     </g>\n    </g>\n    <g id=\"ytick_4\">\n     <g id=\"line2d_11\">\n      <g>\n       <use style=\"stroke:#000000;stroke-width:0.8;\" x=\"26.925\" xlink:href=\"#m0e236a2878\" y=\"112.924219\"/>\n      </g>\n     </g>\n     <g id=\"text_11\">\n      <!-- 15 -->\n      <g transform=\"translate(7.2 116.723437)scale(0.1 -0.1)\">\n       <use xlink:href=\"#DejaVuSans-49\"/>\n       <use x=\"63.623047\" xlink:href=\"#DejaVuSans-53\"/>\n      </g>\n     </g>\n    </g>\n    <g id=\"ytick_5\">\n     <g id=\"line2d_12\">\n      <g>\n       <use style=\"stroke:#000000;stroke-width:0.8;\" x=\"26.925\" xlink:href=\"#m0e236a2878\" y=\"146.899219\"/>\n      </g>\n     </g>\n     <g id=\"text_12\">\n      <!-- 20 -->\n      <g transform=\"translate(7.2 150.698437)scale(0.1 -0.1)\">\n       <use xlink:href=\"#DejaVuSans-50\"/>\n       <use x=\"63.623047\" xlink:href=\"#DejaVuSans-48\"/>\n      </g>\n     </g>\n    </g>\n    <g id=\"ytick_6\">\n     <g id=\"line2d_13\">\n      <g>\n       <use style=\"stroke:#000000;stroke-width:0.8;\" x=\"26.925\" xlink:href=\"#m0e236a2878\" y=\"180.874219\"/>\n      </g>\n     </g>\n     <g id=\"text_13\">\n      <!-- 25 -->\n      <g transform=\"translate(7.2 184.673437)scale(0.1 -0.1)\">\n       <use xlink:href=\"#DejaVuSans-50\"/>\n       <use x=\"63.623047\" xlink:href=\"#DejaVuSans-53\"/>\n      </g>\n     </g>\n    </g>\n    <g id=\"ytick_7\">\n     <g id=\"line2d_14\">\n      <g>\n       <use style=\"stroke:#000000;stroke-width:0.8;\" x=\"26.925\" xlink:href=\"#m0e236a2878\" y=\"214.849219\"/>\n      </g>\n     </g>\n     <g id=\"text_14\">\n      <!-- 30 -->\n      <g transform=\"translate(7.2 218.648437)scale(0.1 -0.1)\">\n       <use xlink:href=\"#DejaVuSans-51\"/>\n       <use x=\"63.623047\" xlink:href=\"#DejaVuSans-48\"/>\n      </g>\n     </g>\n    </g>\n   </g>\n   <g id=\"patch_3\">\n    <path d=\"M 26.925 225.041719 \nL 26.925 7.601719 \n\" style=\"fill:none;stroke:#000000;stroke-linecap:square;stroke-linejoin:miter;stroke-width:0.8;\"/>\n   </g>\n   <g id=\"patch_4\">\n    <path d=\"M 244.365 225.041719 \nL 244.365 7.601719 \n\" style=\"fill:none;stroke:#000000;stroke-linecap:square;stroke-linejoin:miter;stroke-width:0.8;\"/>\n   </g>\n   <g id=\"patch_5\">\n    <path d=\"M 26.925 225.041719 \nL 244.365 225.041719 \n\" style=\"fill:none;stroke:#000000;stroke-linecap:square;stroke-linejoin:miter;stroke-width:0.8;\"/>\n   </g>\n   <g id=\"patch_6\">\n    <path d=\"M 26.925 7.601719 \nL 244.365 7.601719 \n\" style=\"fill:none;stroke:#000000;stroke-linecap:square;stroke-linejoin:miter;stroke-width:0.8;\"/>\n   </g>\n  </g>\n </g>\n <defs>\n  <clipPath id=\"pb04f772838\">\n   <rect height=\"217.44\" width=\"217.44\" x=\"26.925\" y=\"7.601719\"/>\n  </clipPath>\n </defs>\n</svg>\n",
      "image/png": "[encoded data removed]"
     },
     "metadata": {
      "needs_background": "light"
     }
    }
   ],
   "source": [
    "img, _ = cifar2[0]\n",
    "\n",
    "plt.imshow(img.permute(1, 2, 0))\n",
    "plt.show()"
   ]
  },
  {
   "cell_type": "code",
   "execution_count": 13,
   "metadata": {},
   "outputs": [],
   "source": [
    "img_batch = img.view(-1).unsqueeze(0)\n"
   ]
  },
  {
   "cell_type": "code",
   "execution_count": 14,
   "metadata": {},
   "outputs": [
    {
     "output_type": "execute_result",
     "data": {
      "text/plain": [
       "tensor([[0.4784, 0.5216]], grad_fn=<SoftmaxBackward>)"
      ]
     },
     "metadata": {},
     "execution_count": 14
    }
   ],
   "source": [
    "# 未训练模型\n",
    "out = model(img_batch)\n",
    "# [airplanes, bird]的概率\n",
    "out"
   ]
  },
  {
   "cell_type": "code",
   "execution_count": 15,
   "metadata": {},
   "outputs": [
    {
     "output_type": "execute_result",
     "data": {
      "text/plain": [
       "(tensor([1]), tensor([0.5216], grad_fn=<MaxBackward0>))"
      ]
     },
     "metadata": {},
     "execution_count": 15
    }
   ],
   "source": [
    "i, index = torch.max(out, dim=1)\n",
    "\n",
    "index, i"
   ]
  },
  {
   "cell_type": "code",
   "execution_count": 16,
   "metadata": {},
   "outputs": [
    {
     "output_type": "execute_result",
     "data": {
      "text/plain": [
       "(tensor([[  0., 104.]]), torch.Size([1, 2]), tensor([[0., 1.]]))"
      ]
     },
     "metadata": {},
     "execution_count": 16
    }
   ],
   "source": [
    "softmax = nn.Softmax(dim=1)\n",
    "\n",
    "log_softmax = nn.LogSoftmax(dim=1)\n",
    "\n",
    "x = torch.tensor([[0.0, 104.0]])\n",
    "\n",
    "x, x.shape, softmax(x)"
   ]
  },
  {
   "cell_type": "code",
   "execution_count": 17,
   "metadata": {},
   "outputs": [
    {
     "output_type": "execute_result",
     "data": {
      "text/plain": [
       "tensor([[-inf, 0.]])"
      ]
     },
     "metadata": {},
     "execution_count": 17
    }
   ],
   "source": [
    "torch.log(softmax(x))"
   ]
  },
  {
   "cell_type": "code",
   "execution_count": 18,
   "metadata": {},
   "outputs": [
    {
     "output_type": "execute_result",
     "data": {
      "text/plain": [
       "tensor([[-104.,    0.]])"
      ]
     },
     "metadata": {},
     "execution_count": 18
    }
   ],
   "source": [
    "log_softmax(x)"
   ]
  },
  {
   "cell_type": "code",
   "execution_count": 19,
   "metadata": {},
   "outputs": [
    {
     "output_type": "execute_result",
     "data": {
      "text/plain": [
       "tensor([[0., 1.]])"
      ]
     },
     "metadata": {},
     "execution_count": 19
    }
   ],
   "source": [
    "torch.exp(log_softmax(x))"
   ]
  },
  {
   "cell_type": "code",
   "execution_count": 20,
   "metadata": {},
   "outputs": [],
   "source": [
    "mode = nn.Sequential(\n",
    "    nn.Linear(3072, 512),\n",
    "    nn.Tanh(),\n",
    "    nn.Linear(512, 2),\n",
    "    nn.LogSoftmax(dim=1)\n",
    ")"
   ]
  },
  {
   "cell_type": "code",
   "execution_count": 21,
   "metadata": {},
   "outputs": [],
   "source": [
    "loss = nn.NLLLoss()"
   ]
  },
  {
   "cell_type": "code",
   "execution_count": 22,
   "metadata": {},
   "outputs": [
    {
     "output_type": "execute_result",
     "data": {
      "text/plain": [
       "tensor(-0.5216, grad_fn=<NllLossBackward>)"
      ]
     },
     "metadata": {},
     "execution_count": 22
    }
   ],
   "source": [
    "img, label = cifar2[0]\n",
    "\n",
    "out = model(img.view(-1).unsqueeze(0))\n",
    "\n",
    "# 预测out和label的相似程度\n",
    "loss(out, torch.tensor([label]))"
   ]
  },
  {
   "cell_type": "code",
   "execution_count": 23,
   "metadata": {},
   "outputs": [
    {
     "output_type": "stream",
     "name": "stdout",
     "text": [
      "Epoch: 0, Loss 7.552788\n",
      "Epoch: 1, Loss 4.499291\n",
      "Epoch: 2, Loss 7.915341\n",
      "Epoch: 3, Loss 7.445577\n",
      "Epoch: 4, Loss 13.824613\n",
      "Epoch: 5, Loss 6.310087\n",
      "Epoch: 6, Loss 2.808963\n",
      "Epoch: 7, Loss 19.328745\n",
      "Epoch: 8, Loss 3.946275\n",
      "Epoch: 9, Loss 5.810627\n",
      "Epoch: 10, Loss 5.559111\n",
      "Epoch: 11, Loss 5.780005\n",
      "Epoch: 12, Loss 13.424649\n",
      "Epoch: 13, Loss 17.592495\n",
      "Epoch: 14, Loss 7.087554\n",
      "Epoch: 15, Loss 10.449169\n",
      "Epoch: 16, Loss 2.846991\n",
      "Epoch: 17, Loss 4.326502\n",
      "Epoch: 18, Loss 1.181615\n",
      "Epoch: 19, Loss 8.505245\n",
      "Epoch: 20, Loss 17.759304\n",
      "Epoch: 21, Loss 8.570334\n",
      "Epoch: 22, Loss 19.410307\n",
      "Epoch: 23, Loss 11.329860\n",
      "Epoch: 24, Loss 7.425101\n",
      "Epoch: 25, Loss 12.227607\n",
      "Epoch: 26, Loss 4.275480\n",
      "Epoch: 27, Loss 8.503910\n",
      "Epoch: 28, Loss 12.562099\n",
      "Epoch: 29, Loss 0.268191\n",
      "Epoch: 30, Loss 10.869878\n",
      "Epoch: 31, Loss 2.651564\n",
      "Epoch: 32, Loss 19.372482\n",
      "Epoch: 33, Loss 6.255507\n",
      "Epoch: 34, Loss 5.178840\n",
      "Epoch: 35, Loss 15.289829\n",
      "Epoch: 36, Loss 14.383920\n",
      "Epoch: 37, Loss 10.775049\n",
      "Epoch: 38, Loss 10.801164\n",
      "Epoch: 39, Loss 16.687822\n",
      "Epoch: 40, Loss 13.608457\n",
      "Epoch: 41, Loss 3.061605\n",
      "Epoch: 42, Loss 4.230597\n",
      "Epoch: 43, Loss 0.143138\n",
      "Epoch: 44, Loss 8.284802\n",
      "Epoch: 45, Loss 17.963665\n",
      "Epoch: 46, Loss 12.088030\n",
      "Epoch: 47, Loss 1.002867\n",
      "Epoch: 48, Loss 5.573457\n",
      "Epoch: 49, Loss 6.816734\n",
      "Epoch: 50, Loss 12.176257\n",
      "Epoch: 51, Loss 10.058004\n",
      "Epoch: 52, Loss 8.580478\n",
      "Epoch: 53, Loss 7.029374\n",
      "Epoch: 54, Loss 15.287149\n",
      "Epoch: 55, Loss 9.999104\n",
      "Epoch: 56, Loss 13.577836\n",
      "Epoch: 57, Loss 16.070108\n",
      "Epoch: 58, Loss 15.417839\n",
      "Epoch: 59, Loss 16.161308\n",
      "Epoch: 60, Loss 20.589127\n",
      "Epoch: 61, Loss 19.653931\n",
      "Epoch: 62, Loss 16.314713\n",
      "Epoch: 63, Loss 24.897770\n",
      "Epoch: 64, Loss 0.977122\n",
      "Epoch: 65, Loss 11.932906\n",
      "Epoch: 66, Loss 6.721089\n",
      "Epoch: 67, Loss 4.918396\n",
      "Epoch: 68, Loss 5.755889\n",
      "Epoch: 69, Loss 5.747193\n",
      "Epoch: 70, Loss 4.089534\n",
      "Epoch: 71, Loss 5.094783\n",
      "Epoch: 72, Loss 19.010004\n",
      "Epoch: 73, Loss 7.159001\n",
      "Epoch: 74, Loss 21.491234\n",
      "Epoch: 75, Loss 10.885323\n",
      "Epoch: 76, Loss 7.143054\n",
      "Epoch: 77, Loss 11.779425\n",
      "Epoch: 78, Loss 11.548964\n",
      "Epoch: 79, Loss 2.447825\n",
      "Epoch: 80, Loss 7.408289\n",
      "Epoch: 81, Loss 2.834421\n",
      "Epoch: 82, Loss 2.819598\n",
      "Epoch: 83, Loss 5.899636\n",
      "Epoch: 84, Loss 4.751811\n",
      "Epoch: 85, Loss 1.213632\n",
      "Epoch: 86, Loss 3.877901\n",
      "Epoch: 87, Loss 6.682467\n",
      "Epoch: 88, Loss 6.446027\n",
      "Epoch: 89, Loss 3.546317\n",
      "Epoch: 90, Loss 0.023765\n",
      "Epoch: 91, Loss 12.744064\n",
      "Epoch: 92, Loss 7.249385\n",
      "Epoch: 93, Loss 0.011669\n",
      "Epoch: 94, Loss 0.002331\n",
      "Epoch: 95, Loss 5.192610\n",
      "Epoch: 96, Loss 0.380968\n",
      "Epoch: 97, Loss 13.119150\n",
      "Epoch: 98, Loss 1.452386\n",
      "Epoch: 99, Loss 4.790060\n"
     ]
    }
   ],
   "source": [
    "import torch\n",
    "import torch.nn as nn\n",
    "import torch.optim as optim\n",
    "\n",
    "model = nn.Sequential(\n",
    "    nn.Linear(3072, 512),\n",
    "    nn.Tanh(),\n",
    "    nn.Linear(512, 2),\n",
    "    nn.LogSoftmax(dim=1)\n",
    ")\n",
    "\n",
    "learning_rate = 1e-2\n",
    "\n",
    "optimizer = optim.SGD(model.parameters(), lr=learning_rate)\n",
    "\n",
    "loss_fn = nn.NLLLoss()\n",
    "\n",
    "n_epochs = 100\n",
    "\n",
    "for epoch in range(n_epochs):\n",
    "    for img, label in cifar2:\n",
    "        out = model(img.view(-1).unsqueeze(0))\n",
    "        loss = loss_fn(out, torch.tensor([label]))\n",
    "\n",
    "        optimizer.zero_grad()\n",
    "        loss.backward()\n",
    "        optimizer.step()\n",
    "\n",
    "    print(\"Epoch: %d, Loss %f\" % (epoch, float(loss)))"
   ]
  },
  {
   "cell_type": "code",
   "execution_count": 25,
   "metadata": {},
   "outputs": [],
   "source": [
    "train_loader = torch.utils.data.DataLoader(cifar2, batch_size = 64, shuffle=True)"
   ]
  },
  {
   "cell_type": "code",
   "execution_count": null,
   "metadata": {},
   "outputs": [],
   "source": []
  }
 ]
}