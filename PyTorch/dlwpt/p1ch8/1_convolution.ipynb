{
 "metadata": {
  "language_info": {
   "codemirror_mode": {
    "name": "ipython",
    "version": 3
   },
   "file_extension": ".py",
   "mimetype": "text/x-python",
   "name": "python",
   "nbconvert_exporter": "python",
   "pygments_lexer": "ipython3",
   "version": "3.7.7-final"
  },
  "orig_nbformat": 2,
  "kernelspec": {
   "name": "Python 3.7.7 64-bit ('base': conda)",
   "display_name": "Python 3.7.7 64-bit ('base': conda)",
   "metadata": {
    "interpreter": {
     "hash": "39bb97b9402fe54965182cdecdf1de398681b71a98db533a4cd01c0e11e7c257"
    }
   }
  }
 },
 "nbformat": 4,
 "nbformat_minor": 2,
 "cells": [
  {
   "cell_type": "code",
   "execution_count": 1,
   "metadata": {},
   "outputs": [
    {
     "output_type": "execute_result",
     "data": {
      "text/plain": [
       "<torch._C.Generator at 0x7f20c84ec530>"
      ]
     },
     "metadata": {},
     "execution_count": 1
    }
   ],
   "source": [
    "%matplotlib inline\n",
    "from matplotlib import pyplot as plt \n",
    "import numpy as np\n",
    "import collections\n",
    "\n",
    "import torch\n",
    "import torch.nn as nn\n",
    "import torch.nn.functional as F\n",
    "import torch.optim as optim\n",
    "\n",
    "torch.set_printoptions(edgeitems=2)\n",
    "torch.manual_seed(123)"
   ]
  },
  {
   "cell_type": "code",
   "execution_count": 2,
   "metadata": {},
   "outputs": [],
   "source": [
    "class_name = [\"airplane\", \"automobile\", \"bird\", \"cat\", \"deer\", \"dog\", \"frog\", \"horse\", \"ship\", \"truck\"]"
   ]
  },
  {
   "cell_type": "code",
   "execution_count": 3,
   "metadata": {},
   "outputs": [
    {
     "output_type": "stream",
     "name": "stdout",
     "text": [
      "Files already downloaded and verified\n"
     ]
    }
   ],
   "source": [
    "from torchvision import datasets, transforms\n",
    "data_path = '../data-unversioned/p1ch6/'\n",
    "cifar10 = datasets.CIFAR10(\n",
    "    data_path, train=True, download=True,\n",
    "    transform=transforms.Compose([\n",
    "        transforms.ToTensor(),\n",
    "        transforms.Normalize(\n",
    "            (0.4915, 0.4823, 0.4468),\n",
    "            (0.2470, 0.2435, 0.2616)\n",
    "        )\n",
    "    ])\n",
    ")"
   ]
  },
  {
   "cell_type": "code",
   "execution_count": 4,
   "metadata": {},
   "outputs": [
    {
     "output_type": "stream",
     "name": "stdout",
     "text": [
      "Files already downloaded and verified\n"
     ]
    }
   ],
   "source": [
    "cifar10_val = datasets.CIFAR10(\n",
    "    data_path, train=False, download=True,\n",
    "    transform=transforms.Compose([\n",
    "        transforms.ToTensor(),\n",
    "        transforms.Normalize(\n",
    "            (0.4915, 0.4823, 0.4468),\n",
    "            (0.2470, 0.2435, 0.2616)\n",
    "        )\n",
    "    ])\n",
    ")"
   ]
  },
  {
   "cell_type": "code",
   "execution_count": 5,
   "metadata": {},
   "outputs": [],
   "source": [
    "label_map = {0: 0, 2: 1}\n",
    "class_names = ['airplane', 'bird']\n",
    "cifar2 = [(img, label_map[label])\n",
    "        for img, label in cifar10\n",
    "        if label in [0, 2]]\n",
    "\n",
    "cifar2_val = [(img, label_map[label])\n",
    "        for img, label in cifar10_val\n",
    "        if label in [0, 2]]"
   ]
  },
  {
   "cell_type": "code",
   "execution_count": 6,
   "metadata": {},
   "outputs": [],
   "source": [
    "connected_model = nn.Sequential(\n",
    "    nn.Linear(3072, 1024),\n",
    "    nn.Tanh(),\n",
    "    nn.Linear(1024, 512),\n",
    "    nn.Tanh(),\n",
    "    nn.Linear(512, 128),\n",
    "    nn.Tanh(),\n",
    "    nn.Linear(128, 2)\n",
    ")"
   ]
  },
  {
   "cell_type": "code",
   "execution_count": 7,
   "metadata": {},
   "outputs": [
    {
     "output_type": "execute_result",
     "data": {
      "text/plain": [
       "(3737474, [3145728, 1024, 524288, 512, 65536, 128, 256, 2])"
      ]
     },
     "metadata": {},
     "execution_count": 7
    }
   ],
   "source": [
    "numel_list = [p.numel() # Returns the total number of elements in the input tensor.\n",
    "            for p in connected_model.parameters()\n",
    "            if p.requires_grad == True]\n",
    "sum(numel_list), numel_list"
   ]
  },
  {
   "cell_type": "code",
   "execution_count": 8,
   "metadata": {},
   "outputs": [],
   "source": [
    "first_model = nn.Sequential(\n",
    "    nn.Linear(3072, 512),\n",
    "    nn.Tanh(),\n",
    "    nn.Linear(512, 2),\n",
    "    nn.LogSoftmax(dim=1)\n",
    ")"
   ]
  },
  {
   "cell_type": "code",
   "execution_count": 9,
   "metadata": {},
   "outputs": [
    {
     "output_type": "execute_result",
     "data": {
      "text/plain": [
       "(1574402, [1572864, 512, 1024, 2])"
      ]
     },
     "metadata": {},
     "execution_count": 9
    }
   ],
   "source": [
    "numel_list = [p.numel() for p in first_model.parameters()]\n",
    "sum(numel_list), numel_list"
   ]
  },
  {
   "cell_type": "code",
   "execution_count": 10,
   "metadata": {},
   "outputs": [
    {
     "output_type": "execute_result",
     "data": {
      "text/plain": [
       "(torch.Size([1024, 3072]), torch.Size([1024]))"
      ]
     },
     "metadata": {},
     "execution_count": 10
    }
   ],
   "source": [
    "linear = nn.Linear(3072, 1024)\n",
    "\n",
    "linear.weight.shape, linear.bias.shape"
   ]
  },
  {
   "cell_type": "code",
   "execution_count": 11,
   "metadata": {},
   "outputs": [
    {
     "output_type": "execute_result",
     "data": {
      "text/plain": [
       "Conv2d(3, 16, kernel_size=(3, 3), stride=(1, 1))"
      ]
     },
     "metadata": {},
     "execution_count": 11
    }
   ],
   "source": [
    "conv = nn.Conv2d(3, 16, kernel_size=3)\n",
    "conv"
   ]
  },
  {
   "cell_type": "code",
   "execution_count": 12,
   "metadata": {},
   "outputs": [
    {
     "output_type": "execute_result",
     "data": {
      "text/plain": [
       "(torch.Size([16, 3, 3, 3]), torch.Size([16]))"
      ]
     },
     "metadata": {},
     "execution_count": 12
    }
   ],
   "source": [
    "conv.weight.shape, conv.bias.shape"
   ]
  },
  {
   "cell_type": "code",
   "execution_count": 13,
   "metadata": {},
   "outputs": [
    {
     "output_type": "execute_result",
     "data": {
      "text/plain": [
       "(torch.Size([1, 3, 32, 32]), torch.Size([1, 16, 30, 30]))"
      ]
     },
     "metadata": {},
     "execution_count": 13
    }
   ],
   "source": [
    "img, _ = cifar2[0]\n",
    "output = conv(img.unsqueeze(0))\n",
    "img.unsqueeze(0).shape, output.shape"
   ]
  },
  {
   "cell_type": "code",
   "execution_count": 14,
   "metadata": {},
   "outputs": [
    {
     "output_type": "display_data",
     "data": {
      "text/plain": "<Figure size 432x288 with 1 Axes>",
      "image/svg+xml": "<?xml version=\"1.0\" encoding=\"utf-8\" standalone=\"no\"?>\n<!DOCTYPE svg PUBLIC \"-//W3C//DTD SVG 1.1//EN\"\n  \"http://www.w3.org/Graphics/SVG/1.1/DTD/svg11.dtd\">\n<!-- Created with matplotlib (https://matplotlib.org/) -->\n<svg height=\"248.919844pt\" version=\"1.1\" viewBox=\"0 0 251.565 248.919844\" width=\"251.565pt\" xmlns=\"http://www.w3.org/2000/svg\" xmlns:xlink=\"http://www.w3.org/1999/xlink\">\n <metadata>\n  <rdf:RDF xmlns:cc=\"http://creativecommons.org/ns#\" xmlns:dc=\"http://purl.org/dc/elements/1.1/\" xmlns:rdf=\"http://www.w3.org/1999/02/22-rdf-syntax-ns#\">\n   <cc:Work>\n    <dc:type rdf:resource=\"http://purl.org/dc/dcmitype/StillImage\"/>\n    <dc:date>2020-10-27T17:42:11.947799</dc:date>\n    <dc:format>image/svg+xml</dc:format>\n    <dc:creator>\n     <cc:Agent>\n      <dc:title>Matplotlib v3.3.1, https://matplotlib.org/</dc:title>\n     </cc:Agent>\n    </dc:creator>\n   </cc:Work>\n  </rdf:RDF>\n </metadata>\n <defs>\n  <style type=\"text/css\">*{stroke-linecap:butt;stroke-linejoin:round;}</style>\n </defs>\n <g id=\"figure_1\">\n  <g id=\"patch_1\">\n   <path d=\"M 0 248.919844 \nL 251.565 248.919844 \nL 251.565 0 \nL 0 0 \nz\n\" style=\"fill:none;\"/>\n  </g>\n  <g id=\"axes_1\">\n   <g id=\"patch_2\">\n    <path d=\"M 26.925 225.041719 \nL 244.365 225.041719 \nL 244.365 7.601719 \nL 26.925 7.601719 \nz\n\" style=\"fill:#ffffff;\"/>\n   </g>\n   <g clip-path=\"url(#p35f29cdc0c)\">\n    <image height=\"218\" id=\"imagebc699d5571\" transform=\"scale(1 -1)translate(0 -218)\" width=\"218\" x=\"26.925\" xlink:href=\"data:image/png;base64,\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\" y=\"-7.041719\"/>\n   </g>\n   <g id=\"matplotlib.axis_1\">\n    <g id=\"xtick_1\">\n     <g id=\"line2d_1\">\n      <defs>\n       <path d=\"M 0 0 \nL 0 3.5 \n\" id=\"ma515633987\" style=\"stroke:#000000;stroke-width:0.8;\"/>\n      </defs>\n      <g>\n       <use style=\"stroke:#000000;stroke-width:0.8;\" x=\"30.3225\" xlink:href=\"#ma515633987\" y=\"225.041719\"/>\n      </g>\n     </g>\n     <g id=\"text_1\">\n      <!-- 0 -->\n      <g transform=\"translate(27.14125 239.640156)scale(0.1 -0.1)\">\n       <defs>\n        <path d=\"M 31.78125 66.40625 \nQ 24.171875 66.40625 20.328125 58.90625 \nQ 16.5 51.421875 16.5 36.375 \nQ 16.5 21.390625 20.328125 13.890625 \nQ 24.171875 6.390625 31.78125 6.390625 \nQ 39.453125 6.390625 43.28125 13.890625 \nQ 47.125 21.390625 47.125 36.375 \nQ 47.125 51.421875 43.28125 58.90625 \nQ 39.453125 66.40625 31.78125 66.40625 \nz\nM 31.78125 74.21875 \nQ 44.046875 74.21875 50.515625 64.515625 \nQ 56.984375 54.828125 56.984375 36.375 \nQ 56.984375 17.96875 50.515625 8.265625 \nQ 44.046875 -1.421875 31.78125 -1.421875 \nQ 19.53125 -1.421875 13.0625 8.265625 \nQ 6.59375 17.96875 6.59375 36.375 \nQ 6.59375 54.828125 13.0625 64.515625 \nQ 19.53125 74.21875 31.78125 74.21875 \nz\n\" id=\"DejaVuSans-48\"/>\n       </defs>\n       <use xlink:href=\"#DejaVuSans-48\"/>\n      </g>\n     </g>\n    </g>\n    <g id=\"xtick_2\">\n     <g id=\"line2d_2\">\n      <g>\n       <use style=\"stroke:#000000;stroke-width:0.8;\" x=\"64.2975\" xlink:href=\"#ma515633987\" y=\"225.041719\"/>\n      </g>\n     </g>\n     <g id=\"text_2\">\n      <!-- 5 -->\n      <g transform=\"translate(61.11625 239.640156)scale(0.1 -0.1)\">\n       <defs>\n        <path d=\"M 10.796875 72.90625 \nL 49.515625 72.90625 \nL 49.515625 64.59375 \nL 19.828125 64.59375 \nL 19.828125 46.734375 \nQ 21.96875 47.46875 24.109375 47.828125 \nQ 26.265625 48.1875 28.421875 48.1875 \nQ 40.625 48.1875 47.75 41.5 \nQ 54.890625 34.8125 54.890625 23.390625 \nQ 54.890625 11.625 47.5625 5.09375 \nQ 40.234375 -1.421875 26.90625 -1.421875 \nQ 22.3125 -1.421875 17.546875 -0.640625 \nQ 12.796875 0.140625 7.71875 1.703125 \nL 7.71875 11.625 \nQ 12.109375 9.234375 16.796875 8.0625 \nQ 21.484375 6.890625 26.703125 6.890625 \nQ 35.15625 6.890625 40.078125 11.328125 \nQ 45.015625 15.765625 45.015625 23.390625 \nQ 45.015625 31 40.078125 35.4375 \nQ 35.15625 39.890625 26.703125 39.890625 \nQ 22.75 39.890625 18.8125 39.015625 \nQ 14.890625 38.140625 10.796875 36.28125 \nz\n\" id=\"DejaVuSans-53\"/>\n       </defs>\n       <use xlink:href=\"#DejaVuSans-53\"/>\n      </g>\n     </g>\n    </g>\n    <g id=\"xtick_3\">\n     <g id=\"line2d_3\">\n      <g>\n       <use style=\"stroke:#000000;stroke-width:0.8;\" x=\"98.2725\" xlink:href=\"#ma515633987\" y=\"225.041719\"/>\n      </g>\n     </g>\n     <g id=\"text_3\">\n      <!-- 10 -->\n      <g transform=\"translate(91.91 239.640156)scale(0.1 -0.1)\">\n       <defs>\n        <path d=\"M 12.40625 8.296875 \nL 28.515625 8.296875 \nL 28.515625 63.921875 \nL 10.984375 60.40625 \nL 10.984375 69.390625 \nL 28.421875 72.90625 \nL 38.28125 72.90625 \nL 38.28125 8.296875 \nL 54.390625 8.296875 \nL 54.390625 0 \nL 12.40625 0 \nz\n\" id=\"DejaVuSans-49\"/>\n       </defs>\n       <use xlink:href=\"#DejaVuSans-49\"/>\n       <use x=\"63.623047\" xlink:href=\"#DejaVuSans-48\"/>\n      </g>\n     </g>\n    </g>\n    <g id=\"xtick_4\">\n     <g id=\"line2d_4\">\n      <g>\n       <use style=\"stroke:#000000;stroke-width:0.8;\" x=\"132.2475\" xlink:href=\"#ma515633987\" y=\"225.041719\"/>\n      </g>\n     </g>\n     <g id=\"text_4\">\n      <!-- 15 -->\n      <g transform=\"translate(125.885 239.640156)scale(0.1 -0.1)\">\n       <use xlink:href=\"#DejaVuSans-49\"/>\n       <use x=\"63.623047\" xlink:href=\"#DejaVuSans-53\"/>\n      </g>\n     </g>\n    </g>\n    <g id=\"xtick_5\">\n     <g id=\"line2d_5\">\n      <g>\n       <use style=\"stroke:#000000;stroke-width:0.8;\" x=\"166.2225\" xlink:href=\"#ma515633987\" y=\"225.041719\"/>\n      </g>\n     </g>\n     <g id=\"text_5\">\n      <!-- 20 -->\n      <g transform=\"translate(159.86 239.640156)scale(0.1 -0.1)\">\n       <defs>\n        <path d=\"M 19.1875 8.296875 \nL 53.609375 8.296875 \nL 53.609375 0 \nL 7.328125 0 \nL 7.328125 8.296875 \nQ 12.9375 14.109375 22.625 23.890625 \nQ 32.328125 33.6875 34.8125 36.53125 \nQ 39.546875 41.84375 41.421875 45.53125 \nQ 43.3125 49.21875 43.3125 52.78125 \nQ 43.3125 58.59375 39.234375 62.25 \nQ 35.15625 65.921875 28.609375 65.921875 \nQ 23.96875 65.921875 18.8125 64.3125 \nQ 13.671875 62.703125 7.8125 59.421875 \nL 7.8125 69.390625 \nQ 13.765625 71.78125 18.9375 73 \nQ 24.125 74.21875 28.421875 74.21875 \nQ 39.75 74.21875 46.484375 68.546875 \nQ 53.21875 62.890625 53.21875 53.421875 \nQ 53.21875 48.921875 51.53125 44.890625 \nQ 49.859375 40.875 45.40625 35.40625 \nQ 44.1875 33.984375 37.640625 27.21875 \nQ 31.109375 20.453125 19.1875 8.296875 \nz\n\" id=\"DejaVuSans-50\"/>\n       </defs>\n       <use xlink:href=\"#DejaVuSans-50\"/>\n       <use x=\"63.623047\" xlink:href=\"#DejaVuSans-48\"/>\n      </g>\n     </g>\n    </g>\n    <g id=\"xtick_6\">\n     <g id=\"line2d_6\">\n      <g>\n       <use style=\"stroke:#000000;stroke-width:0.8;\" x=\"200.1975\" xlink:href=\"#ma515633987\" y=\"225.041719\"/>\n      </g>\n     </g>\n     <g id=\"text_6\">\n      <!-- 25 -->\n      <g transform=\"translate(193.835 239.640156)scale(0.1 -0.1)\">\n       <use xlink:href=\"#DejaVuSans-50\"/>\n       <use x=\"63.623047\" xlink:href=\"#DejaVuSans-53\"/>\n      </g>\n     </g>\n    </g>\n    <g id=\"xtick_7\">\n     <g id=\"line2d_7\">\n      <g>\n       <use style=\"stroke:#000000;stroke-width:0.8;\" x=\"234.1725\" xlink:href=\"#ma515633987\" y=\"225.041719\"/>\n      </g>\n     </g>\n     <g id=\"text_7\">\n      <!-- 30 -->\n      <g transform=\"translate(227.81 239.640156)scale(0.1 -0.1)\">\n       <defs>\n        <path d=\"M 40.578125 39.3125 \nQ 47.65625 37.796875 51.625 33 \nQ 55.609375 28.21875 55.609375 21.1875 \nQ 55.609375 10.40625 48.1875 4.484375 \nQ 40.765625 -1.421875 27.09375 -1.421875 \nQ 22.515625 -1.421875 17.65625 -0.515625 \nQ 12.796875 0.390625 7.625 2.203125 \nL 7.625 11.71875 \nQ 11.71875 9.328125 16.59375 8.109375 \nQ 21.484375 6.890625 26.8125 6.890625 \nQ 36.078125 6.890625 40.9375 10.546875 \nQ 45.796875 14.203125 45.796875 21.1875 \nQ 45.796875 27.640625 41.28125 31.265625 \nQ 36.765625 34.90625 28.71875 34.90625 \nL 20.21875 34.90625 \nL 20.21875 43.015625 \nL 29.109375 43.015625 \nQ 36.375 43.015625 40.234375 45.921875 \nQ 44.09375 48.828125 44.09375 54.296875 \nQ 44.09375 59.90625 40.109375 62.90625 \nQ 36.140625 65.921875 28.71875 65.921875 \nQ 24.65625 65.921875 20.015625 65.03125 \nQ 15.375 64.15625 9.8125 62.3125 \nL 9.8125 71.09375 \nQ 15.4375 72.65625 20.34375 73.4375 \nQ 25.25 74.21875 29.59375 74.21875 \nQ 40.828125 74.21875 47.359375 69.109375 \nQ 53.90625 64.015625 53.90625 55.328125 \nQ 53.90625 49.265625 50.4375 45.09375 \nQ 46.96875 40.921875 40.578125 39.3125 \nz\n\" id=\"DejaVuSans-51\"/>\n       </defs>\n       <use xlink:href=\"#DejaVuSans-51\"/>\n       <use x=\"63.623047\" xlink:href=\"#DejaVuSans-48\"/>\n      </g>\n     </g>\n    </g>\n   </g>\n   <g id=\"matplotlib.axis_2\">\n    <g id=\"ytick_1\">\n     <g id=\"line2d_8\">\n      <defs>\n       <path d=\"M 0 0 \nL -3.5 0 \n\" id=\"m5d5b20641a\" style=\"stroke:#000000;stroke-width:0.8;\"/>\n      </defs>\n      <g>\n       <use style=\"stroke:#000000;stroke-width:0.8;\" x=\"26.925\" xlink:href=\"#m5d5b20641a\" y=\"10.999219\"/>\n      </g>\n     </g>\n     <g id=\"text_8\">\n      <!-- 0 -->\n      <g transform=\"translate(13.5625 14.798437)scale(0.1 -0.1)\">\n       <use xlink:href=\"#DejaVuSans-48\"/>\n      </g>\n     </g>\n    </g>\n    <g id=\"ytick_2\">\n     <g id=\"line2d_9\">\n      <g>\n       <use style=\"stroke:#000000;stroke-width:0.8;\" x=\"26.925\" xlink:href=\"#m5d5b20641a\" y=\"44.974219\"/>\n      </g>\n     </g>\n     <g id=\"text_9\">\n      <!-- 5 -->\n      <g transform=\"translate(13.5625 48.773437)scale(0.1 -0.1)\">\n       <use xlink:href=\"#DejaVuSans-53\"/>\n      </g>\n     </g>\n    </g>\n    <g id=\"ytick_3\">\n     <g id=\"line2d_10\">\n      <g>\n       <use style=\"stroke:#000000;stroke-width:0.8;\" x=\"26.925\" xlink:href=\"#m5d5b20641a\" y=\"78.949219\"/>\n      </g>\n     </g>\n     <g id=\"text_10\">\n      <!-- 10 -->\n      <g transform=\"translate(7.2 82.748437)scale(0.1 -0.1)\">\n       <use xlink:href=\"#DejaVuSans-49\"/>\n       <use x=\"63.623047\" xlink:href=\"#DejaVuSans-48\"/>\n      </g>\n     </g>\n    </g>\n    <g id=\"ytick_4\">\n     <g id=\"line2d_11\">\n      <g>\n       <use style=\"stroke:#000000;stroke-width:0.8;\" x=\"26.925\" xlink:href=\"#m5d5b20641a\" y=\"112.924219\"/>\n      </g>\n     </g>\n     <g id=\"text_11\">\n      <!-- 15 -->\n      <g transform=\"translate(7.2 116.723437)scale(0.1 -0.1)\">\n       <use xlink:href=\"#DejaVuSans-49\"/>\n       <use x=\"63.623047\" xlink:href=\"#DejaVuSans-53\"/>\n      </g>\n     </g>\n    </g>\n    <g id=\"ytick_5\">\n     <g id=\"line2d_12\">\n      <g>\n       <use style=\"stroke:#000000;stroke-width:0.8;\" x=\"26.925\" xlink:href=\"#m5d5b20641a\" y=\"146.899219\"/>\n      </g>\n     </g>\n     <g id=\"text_12\">\n      <!-- 20 -->\n      <g transform=\"translate(7.2 150.698437)scale(0.1 -0.1)\">\n       <use xlink:href=\"#DejaVuSans-50\"/>\n       <use x=\"63.623047\" xlink:href=\"#DejaVuSans-48\"/>\n      </g>\n     </g>\n    </g>\n    <g id=\"ytick_6\">\n     <g id=\"line2d_13\">\n      <g>\n       <use style=\"stroke:#000000;stroke-width:0.8;\" x=\"26.925\" xlink:href=\"#m5d5b20641a\" y=\"180.874219\"/>\n      </g>\n     </g>\n     <g id=\"text_13\">\n      <!-- 25 -->\n      <g transform=\"translate(7.2 184.673437)scale(0.1 -0.1)\">\n       <use xlink:href=\"#DejaVuSans-50\"/>\n       <use x=\"63.623047\" xlink:href=\"#DejaVuSans-53\"/>\n      </g>\n     </g>\n    </g>\n    <g id=\"ytick_7\">\n     <g id=\"line2d_14\">\n      <g>\n       <use style=\"stroke:#000000;stroke-width:0.8;\" x=\"26.925\" xlink:href=\"#m5d5b20641a\" y=\"214.849219\"/>\n      </g>\n     </g>\n     <g id=\"text_14\">\n      <!-- 30 -->\n      <g transform=\"translate(7.2 218.648437)scale(0.1 -0.1)\">\n       <use xlink:href=\"#DejaVuSans-51\"/>\n       <use x=\"63.623047\" xlink:href=\"#DejaVuSans-48\"/>\n      </g>\n     </g>\n    </g>\n   </g>\n   <g id=\"patch_3\">\n    <path d=\"M 26.925 225.041719 \nL 26.925 7.601719 \n\" style=\"fill:none;stroke:#000000;stroke-linecap:square;stroke-linejoin:miter;stroke-width:0.8;\"/>\n   </g>\n   <g id=\"patch_4\">\n    <path d=\"M 244.365 225.041719 \nL 244.365 7.601719 \n\" style=\"fill:none;stroke:#000000;stroke-linecap:square;stroke-linejoin:miter;stroke-width:0.8;\"/>\n   </g>\n   <g id=\"patch_5\">\n    <path d=\"M 26.925 225.041719 \nL 244.365 225.041719 \n\" style=\"fill:none;stroke:#000000;stroke-linecap:square;stroke-linejoin:miter;stroke-width:0.8;\"/>\n   </g>\n   <g id=\"patch_6\">\n    <path d=\"M 26.925 7.601719 \nL 244.365 7.601719 \n\" style=\"fill:none;stroke:#000000;stroke-linecap:square;stroke-linejoin:miter;stroke-width:0.8;\"/>\n   </g>\n  </g>\n </g>\n <defs>\n  <clipPath id=\"p35f29cdc0c\">\n   <rect height=\"217.44\" width=\"217.44\" x=\"26.925\" y=\"7.601719\"/>\n  </clipPath>\n </defs>\n</svg>\n",
      "image/png": "[encoded data removed]"
     },
     "metadata": {
      "needs_background": "light"
     }
    }
   ],
   "source": [
    "# Returns the mean value of all elements in the input tensor.\n",
    "plt.imshow(img.mean(0), cmap='gray')\n",
    "plt.show()"
   ]
  },
  {
   "cell_type": "code",
   "execution_count": 15,
   "metadata": {},
   "outputs": [
    {
     "output_type": "display_data",
     "data": {
      "text/plain": "<Figure size 720x345.6 with 2 Axes>",
      "image/svg+xml": "<?xml version=\"1.0\" encoding=\"utf-8\" standalone=\"no\"?>\n<!DOCTYPE svg PUBLIC \"-//W3C//DTD SVG 1.1//EN\"\n  \"http://www.w3.org/Graphics/SVG/1.1/DTD/svg11.dtd\">\n<!-- Created with matplotlib (https://matplotlib.org/) -->\n<svg height=\"299.832614pt\" version=\"1.1\" viewBox=\"0 0 592.125 299.832614\" width=\"592.125pt\" xmlns=\"http://www.w3.org/2000/svg\" xmlns:xlink=\"http://www.w3.org/1999/xlink\">\n <metadata>\n  <rdf:RDF xmlns:cc=\"http://creativecommons.org/ns#\" xmlns:dc=\"http://purl.org/dc/elements/1.1/\" xmlns:rdf=\"http://www.w3.org/1999/02/22-rdf-syntax-ns#\">\n   <cc:Work>\n    <dc:type rdf:resource=\"http://purl.org/dc/dcmitype/StillImage\"/>\n    <dc:date>2020-10-27T17:43:05.805091</dc:date>\n    <dc:format>image/svg+xml</dc:format>\n    <dc:creator>\n     <cc:Agent>\n      <dc:title>Matplotlib v3.3.1, https://matplotlib.org/</dc:title>\n     </cc:Agent>\n    </dc:creator>\n   </cc:Work>\n  </rdf:RDF>\n </metadata>\n <defs>\n  <style type=\"text/css\">*{stroke-linecap:butt;stroke-linejoin:round;}</style>\n </defs>\n <g id=\"figure_1\">\n  <g id=\"patch_1\">\n   <path d=\"M 0 299.832614 \nL 592.125 299.832614 \nL 592.125 0 \nL 0 0 \nz\n\" style=\"fill:none;\"/>\n  </g>\n  <g id=\"axes_1\">\n   <g id=\"patch_2\">\n    <path d=\"M 26.925 275.954489 \nL 280.561364 275.954489 \nL 280.561364 22.318125 \nL 26.925 22.318125 \nz\n\" style=\"fill:#ffffff;\"/>\n   </g>\n   <g clip-path=\"url(#p8e83db141f)\">\n    <image height=\"238\" id=\"image122f11e058\" transform=\"scale(1 -1)translate(0 -238)\" width=\"238\" x=\"26.925\" xlink:href=\"data:image/png;base64,\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\" y=\"-22.102216\"/>\n   </g>\n   <g id=\"matplotlib.axis_1\">\n    <g id=\"xtick_1\">\n     <g id=\"line2d_1\">\n      <defs>\n       <path d=\"M 0 0 \nL 0 3.5 \n\" id=\"m8481986a6b\" style=\"stroke:#000000;stroke-width:0.8;\"/>\n      </defs>\n      <g>\n       <use style=\"stroke:#000000;stroke-width:0.8;\" x=\"30.888068\" xlink:href=\"#m8481986a6b\" y=\"275.954489\"/>\n      </g>\n     </g>\n     <g id=\"text_1\">\n      <!-- 0 -->\n      <g transform=\"translate(27.706818 290.552926)scale(0.1 -0.1)\">\n       <defs>\n        <path d=\"M 31.78125 66.40625 \nQ 24.171875 66.40625 20.328125 58.90625 \nQ 16.5 51.421875 16.5 36.375 \nQ 16.5 21.390625 20.328125 13.890625 \nQ 24.171875 6.390625 31.78125 6.390625 \nQ 39.453125 6.390625 43.28125 13.890625 \nQ 47.125 21.390625 47.125 36.375 \nQ 47.125 51.421875 43.28125 58.90625 \nQ 39.453125 66.40625 31.78125 66.40625 \nz\nM 31.78125 74.21875 \nQ 44.046875 74.21875 50.515625 64.515625 \nQ 56.984375 54.828125 56.984375 36.375 \nQ 56.984375 17.96875 50.515625 8.265625 \nQ 44.046875 -1.421875 31.78125 -1.421875 \nQ 19.53125 -1.421875 13.0625 8.265625 \nQ 6.59375 17.96875 6.59375 36.375 \nQ 6.59375 54.828125 13.0625 64.515625 \nQ 19.53125 74.21875 31.78125 74.21875 \nz\n\" id=\"DejaVuSans-48\"/>\n       </defs>\n       <use xlink:href=\"#DejaVuSans-48\"/>\n      </g>\n     </g>\n    </g>\n    <g id=\"xtick_2\">\n     <g id=\"line2d_2\">\n      <g>\n       <use style=\"stroke:#000000;stroke-width:0.8;\" x=\"70.51875\" xlink:href=\"#m8481986a6b\" y=\"275.954489\"/>\n      </g>\n     </g>\n     <g id=\"text_2\">\n      <!-- 5 -->\n      <g transform=\"translate(67.3375 290.552926)scale(0.1 -0.1)\">\n       <defs>\n        <path d=\"M 10.796875 72.90625 \nL 49.515625 72.90625 \nL 49.515625 64.59375 \nL 19.828125 64.59375 \nL 19.828125 46.734375 \nQ 21.96875 47.46875 24.109375 47.828125 \nQ 26.265625 48.1875 28.421875 48.1875 \nQ 40.625 48.1875 47.75 41.5 \nQ 54.890625 34.8125 54.890625 23.390625 \nQ 54.890625 11.625 47.5625 5.09375 \nQ 40.234375 -1.421875 26.90625 -1.421875 \nQ 22.3125 -1.421875 17.546875 -0.640625 \nQ 12.796875 0.140625 7.71875 1.703125 \nL 7.71875 11.625 \nQ 12.109375 9.234375 16.796875 8.0625 \nQ 21.484375 6.890625 26.703125 6.890625 \nQ 35.15625 6.890625 40.078125 11.328125 \nQ 45.015625 15.765625 45.015625 23.390625 \nQ 45.015625 31 40.078125 35.4375 \nQ 35.15625 39.890625 26.703125 39.890625 \nQ 22.75 39.890625 18.8125 39.015625 \nQ 14.890625 38.140625 10.796875 36.28125 \nz\n\" id=\"DejaVuSans-53\"/>\n       </defs>\n       <use xlink:href=\"#DejaVuSans-53\"/>\n      </g>\n     </g>\n    </g>\n    <g id=\"xtick_3\">\n     <g id=\"line2d_3\">\n      <g>\n       <use style=\"stroke:#000000;stroke-width:0.8;\" x=\"110.149432\" xlink:href=\"#m8481986a6b\" y=\"275.954489\"/>\n      </g>\n     </g>\n     <g id=\"text_3\">\n      <!-- 10 -->\n      <g transform=\"translate(103.786932 290.552926)scale(0.1 -0.1)\">\n       <defs>\n        <path d=\"M 12.40625 8.296875 \nL 28.515625 8.296875 \nL 28.515625 63.921875 \nL 10.984375 60.40625 \nL 10.984375 69.390625 \nL 28.421875 72.90625 \nL 38.28125 72.90625 \nL 38.28125 8.296875 \nL 54.390625 8.296875 \nL 54.390625 0 \nL 12.40625 0 \nz\n\" id=\"DejaVuSans-49\"/>\n       </defs>\n       <use xlink:href=\"#DejaVuSans-49\"/>\n       <use x=\"63.623047\" xlink:href=\"#DejaVuSans-48\"/>\n      </g>\n     </g>\n    </g>\n    <g id=\"xtick_4\">\n     <g id=\"line2d_4\">\n      <g>\n       <use style=\"stroke:#000000;stroke-width:0.8;\" x=\"149.780114\" xlink:href=\"#m8481986a6b\" y=\"275.954489\"/>\n      </g>\n     </g>\n     <g id=\"text_4\">\n      <!-- 15 -->\n      <g transform=\"translate(143.417614 290.552926)scale(0.1 -0.1)\">\n       <use xlink:href=\"#DejaVuSans-49\"/>\n       <use x=\"63.623047\" xlink:href=\"#DejaVuSans-53\"/>\n      </g>\n     </g>\n    </g>\n    <g id=\"xtick_5\">\n     <g id=\"line2d_5\">\n      <g>\n       <use style=\"stroke:#000000;stroke-width:0.8;\" x=\"189.410795\" xlink:href=\"#m8481986a6b\" y=\"275.954489\"/>\n      </g>\n     </g>\n     <g id=\"text_5\">\n      <!-- 20 -->\n      <g transform=\"translate(183.048295 290.552926)scale(0.1 -0.1)\">\n       <defs>\n        <path d=\"M 19.1875 8.296875 \nL 53.609375 8.296875 \nL 53.609375 0 \nL 7.328125 0 \nL 7.328125 8.296875 \nQ 12.9375 14.109375 22.625 23.890625 \nQ 32.328125 33.6875 34.8125 36.53125 \nQ 39.546875 41.84375 41.421875 45.53125 \nQ 43.3125 49.21875 43.3125 52.78125 \nQ 43.3125 58.59375 39.234375 62.25 \nQ 35.15625 65.921875 28.609375 65.921875 \nQ 23.96875 65.921875 18.8125 64.3125 \nQ 13.671875 62.703125 7.8125 59.421875 \nL 7.8125 69.390625 \nQ 13.765625 71.78125 18.9375 73 \nQ 24.125 74.21875 28.421875 74.21875 \nQ 39.75 74.21875 46.484375 68.546875 \nQ 53.21875 62.890625 53.21875 53.421875 \nQ 53.21875 48.921875 51.53125 44.890625 \nQ 49.859375 40.875 45.40625 35.40625 \nQ 44.1875 33.984375 37.640625 27.21875 \nQ 31.109375 20.453125 19.1875 8.296875 \nz\n\" id=\"DejaVuSans-50\"/>\n       </defs>\n       <use xlink:href=\"#DejaVuSans-50\"/>\n       <use x=\"63.623047\" xlink:href=\"#DejaVuSans-48\"/>\n      </g>\n     </g>\n    </g>\n    <g id=\"xtick_6\">\n     <g id=\"line2d_6\">\n      <g>\n       <use style=\"stroke:#000000;stroke-width:0.8;\" x=\"229.041477\" xlink:href=\"#m8481986a6b\" y=\"275.954489\"/>\n      </g>\n     </g>\n     <g id=\"text_6\">\n      <!-- 25 -->\n      <g transform=\"translate(222.678977 290.552926)scale(0.1 -0.1)\">\n       <use xlink:href=\"#DejaVuSans-50\"/>\n       <use x=\"63.623047\" xlink:href=\"#DejaVuSans-53\"/>\n      </g>\n     </g>\n    </g>\n    <g id=\"xtick_7\">\n     <g id=\"line2d_7\">\n      <g>\n       <use style=\"stroke:#000000;stroke-width:0.8;\" x=\"268.672159\" xlink:href=\"#m8481986a6b\" y=\"275.954489\"/>\n      </g>\n     </g>\n     <g id=\"text_7\">\n      <!-- 30 -->\n      <g transform=\"translate(262.309659 290.552926)scale(0.1 -0.1)\">\n       <defs>\n        <path d=\"M 40.578125 39.3125 \nQ 47.65625 37.796875 51.625 33 \nQ 55.609375 28.21875 55.609375 21.1875 \nQ 55.609375 10.40625 48.1875 4.484375 \nQ 40.765625 -1.421875 27.09375 -1.421875 \nQ 22.515625 -1.421875 17.65625 -0.515625 \nQ 12.796875 0.390625 7.625 2.203125 \nL 7.625 11.71875 \nQ 11.71875 9.328125 16.59375 8.109375 \nQ 21.484375 6.890625 26.8125 6.890625 \nQ 36.078125 6.890625 40.9375 10.546875 \nQ 45.796875 14.203125 45.796875 21.1875 \nQ 45.796875 27.640625 41.28125 31.265625 \nQ 36.765625 34.90625 28.71875 34.90625 \nL 20.21875 34.90625 \nL 20.21875 43.015625 \nL 29.109375 43.015625 \nQ 36.375 43.015625 40.234375 45.921875 \nQ 44.09375 48.828125 44.09375 54.296875 \nQ 44.09375 59.90625 40.109375 62.90625 \nQ 36.140625 65.921875 28.71875 65.921875 \nQ 24.65625 65.921875 20.015625 65.03125 \nQ 15.375 64.15625 9.8125 62.3125 \nL 9.8125 71.09375 \nQ 15.4375 72.65625 20.34375 73.4375 \nQ 25.25 74.21875 29.59375 74.21875 \nQ 40.828125 74.21875 47.359375 69.109375 \nQ 53.90625 64.015625 53.90625 55.328125 \nQ 53.90625 49.265625 50.4375 45.09375 \nQ 46.96875 40.921875 40.578125 39.3125 \nz\n\" id=\"DejaVuSans-51\"/>\n       </defs>\n       <use xlink:href=\"#DejaVuSans-51\"/>\n       <use x=\"63.623047\" xlink:href=\"#DejaVuSans-48\"/>\n      </g>\n     </g>\n    </g>\n   </g>\n   <g id=\"matplotlib.axis_2\">\n    <g id=\"ytick_1\">\n     <g id=\"line2d_8\">\n      <defs>\n       <path d=\"M 0 0 \nL -3.5 0 \n\" id=\"mbeb400a5d9\" style=\"stroke:#000000;stroke-width:0.8;\"/>\n      </defs>\n      <g>\n       <use style=\"stroke:#000000;stroke-width:0.8;\" x=\"26.925\" xlink:href=\"#mbeb400a5d9\" y=\"26.281193\"/>\n      </g>\n     </g>\n     <g id=\"text_8\">\n      <!-- 0 -->\n      <g transform=\"translate(13.5625 30.080412)scale(0.1 -0.1)\">\n       <use xlink:href=\"#DejaVuSans-48\"/>\n      </g>\n     </g>\n    </g>\n    <g id=\"ytick_2\">\n     <g id=\"line2d_9\">\n      <g>\n       <use style=\"stroke:#000000;stroke-width:0.8;\" x=\"26.925\" xlink:href=\"#mbeb400a5d9\" y=\"65.911875\"/>\n      </g>\n     </g>\n     <g id=\"text_9\">\n      <!-- 5 -->\n      <g transform=\"translate(13.5625 69.711094)scale(0.1 -0.1)\">\n       <use xlink:href=\"#DejaVuSans-53\"/>\n      </g>\n     </g>\n    </g>\n    <g id=\"ytick_3\">\n     <g id=\"line2d_10\">\n      <g>\n       <use style=\"stroke:#000000;stroke-width:0.8;\" x=\"26.925\" xlink:href=\"#mbeb400a5d9\" y=\"105.542557\"/>\n      </g>\n     </g>\n     <g id=\"text_10\">\n      <!-- 10 -->\n      <g transform=\"translate(7.2 109.341776)scale(0.1 -0.1)\">\n       <use xlink:href=\"#DejaVuSans-49\"/>\n       <use x=\"63.623047\" xlink:href=\"#DejaVuSans-48\"/>\n      </g>\n     </g>\n    </g>\n    <g id=\"ytick_4\">\n     <g id=\"line2d_11\">\n      <g>\n       <use style=\"stroke:#000000;stroke-width:0.8;\" x=\"26.925\" xlink:href=\"#mbeb400a5d9\" y=\"145.173239\"/>\n      </g>\n     </g>\n     <g id=\"text_11\">\n      <!-- 15 -->\n      <g transform=\"translate(7.2 148.972457)scale(0.1 -0.1)\">\n       <use xlink:href=\"#DejaVuSans-49\"/>\n       <use x=\"63.623047\" xlink:href=\"#DejaVuSans-53\"/>\n      </g>\n     </g>\n    </g>\n    <g id=\"ytick_5\">\n     <g id=\"line2d_12\">\n      <g>\n       <use style=\"stroke:#000000;stroke-width:0.8;\" x=\"26.925\" xlink:href=\"#mbeb400a5d9\" y=\"184.80392\"/>\n      </g>\n     </g>\n     <g id=\"text_12\">\n      <!-- 20 -->\n      <g transform=\"translate(7.2 188.603139)scale(0.1 -0.1)\">\n       <use xlink:href=\"#DejaVuSans-50\"/>\n       <use x=\"63.623047\" xlink:href=\"#DejaVuSans-48\"/>\n      </g>\n     </g>\n    </g>\n    <g id=\"ytick_6\">\n     <g id=\"line2d_13\">\n      <g>\n       <use style=\"stroke:#000000;stroke-width:0.8;\" x=\"26.925\" xlink:href=\"#mbeb400a5d9\" y=\"224.434602\"/>\n      </g>\n     </g>\n     <g id=\"text_13\">\n      <!-- 25 -->\n      <g transform=\"translate(7.2 228.233821)scale(0.1 -0.1)\">\n       <use xlink:href=\"#DejaVuSans-50\"/>\n       <use x=\"63.623047\" xlink:href=\"#DejaVuSans-53\"/>\n      </g>\n     </g>\n    </g>\n    <g id=\"ytick_7\">\n     <g id=\"line2d_14\">\n      <g>\n       <use style=\"stroke:#000000;stroke-width:0.8;\" x=\"26.925\" xlink:href=\"#mbeb400a5d9\" y=\"264.065284\"/>\n      </g>\n     </g>\n     <g id=\"text_14\">\n      <!-- 30 -->\n      <g transform=\"translate(7.2 267.864503)scale(0.1 -0.1)\">\n       <use xlink:href=\"#DejaVuSans-51\"/>\n       <use x=\"63.623047\" xlink:href=\"#DejaVuSans-48\"/>\n      </g>\n     </g>\n    </g>\n   </g>\n   <g id=\"patch_3\">\n    <path d=\"M 26.925 275.954489 \nL 26.925 22.318125 \n\" style=\"fill:none;stroke:#000000;stroke-linecap:square;stroke-linejoin:miter;stroke-width:0.8;\"/>\n   </g>\n   <g id=\"patch_4\">\n    <path d=\"M 280.561364 275.954489 \nL 280.561364 22.318125 \n\" style=\"fill:none;stroke:#000000;stroke-linecap:square;stroke-linejoin:miter;stroke-width:0.8;\"/>\n   </g>\n   <g id=\"patch_5\">\n    <path d=\"M 26.925 275.954489 \nL 280.561364 275.954489 \n\" style=\"fill:none;stroke:#000000;stroke-linecap:square;stroke-linejoin:miter;stroke-width:0.8;\"/>\n   </g>\n   <g id=\"patch_6\">\n    <path d=\"M 26.925 22.318125 \nL 280.561364 22.318125 \n\" style=\"fill:none;stroke:#000000;stroke-linecap:square;stroke-linejoin:miter;stroke-width:0.8;\"/>\n   </g>\n   <g id=\"text_15\">\n    <!-- output -->\n    <g transform=\"translate(133.953494 16.318125)scale(0.12 -0.12)\">\n     <defs>\n      <path d=\"M 30.609375 48.390625 \nQ 23.390625 48.390625 19.1875 42.75 \nQ 14.984375 37.109375 14.984375 27.296875 \nQ 14.984375 17.484375 19.15625 11.84375 \nQ 23.34375 6.203125 30.609375 6.203125 \nQ 37.796875 6.203125 41.984375 11.859375 \nQ 46.1875 17.53125 46.1875 27.296875 \nQ 46.1875 37.015625 41.984375 42.703125 \nQ 37.796875 48.390625 30.609375 48.390625 \nz\nM 30.609375 56 \nQ 42.328125 56 49.015625 48.375 \nQ 55.71875 40.765625 55.71875 27.296875 \nQ 55.71875 13.875 49.015625 6.21875 \nQ 42.328125 -1.421875 30.609375 -1.421875 \nQ 18.84375 -1.421875 12.171875 6.21875 \nQ 5.515625 13.875 5.515625 27.296875 \nQ 5.515625 40.765625 12.171875 48.375 \nQ 18.84375 56 30.609375 56 \nz\n\" id=\"DejaVuSans-111\"/>\n      <path d=\"M 8.5 21.578125 \nL 8.5 54.6875 \nL 17.484375 54.6875 \nL 17.484375 21.921875 \nQ 17.484375 14.15625 20.5 10.265625 \nQ 23.53125 6.390625 29.59375 6.390625 \nQ 36.859375 6.390625 41.078125 11.03125 \nQ 45.3125 15.671875 45.3125 23.6875 \nL 45.3125 54.6875 \nL 54.296875 54.6875 \nL 54.296875 0 \nL 45.3125 0 \nL 45.3125 8.40625 \nQ 42.046875 3.421875 37.71875 1 \nQ 33.40625 -1.421875 27.6875 -1.421875 \nQ 18.265625 -1.421875 13.375 4.4375 \nQ 8.5 10.296875 8.5 21.578125 \nz\nM 31.109375 56 \nz\n\" id=\"DejaVuSans-117\"/>\n      <path d=\"M 18.3125 70.21875 \nL 18.3125 54.6875 \nL 36.8125 54.6875 \nL 36.8125 47.703125 \nL 18.3125 47.703125 \nL 18.3125 18.015625 \nQ 18.3125 11.328125 20.140625 9.421875 \nQ 21.96875 7.515625 27.59375 7.515625 \nL 36.8125 7.515625 \nL 36.8125 0 \nL 27.59375 0 \nQ 17.1875 0 13.234375 3.875 \nQ 9.28125 7.765625 9.28125 18.015625 \nL 9.28125 47.703125 \nL 2.6875 47.703125 \nL 2.6875 54.6875 \nL 9.28125 54.6875 \nL 9.28125 70.21875 \nz\n\" id=\"DejaVuSans-116\"/>\n      <path d=\"M 18.109375 8.203125 \nL 18.109375 -20.796875 \nL 9.078125 -20.796875 \nL 9.078125 54.6875 \nL 18.109375 54.6875 \nL 18.109375 46.390625 \nQ 20.953125 51.265625 25.265625 53.625 \nQ 29.59375 56 35.59375 56 \nQ 45.5625 56 51.78125 48.09375 \nQ 58.015625 40.1875 58.015625 27.296875 \nQ 58.015625 14.40625 51.78125 6.484375 \nQ 45.5625 -1.421875 35.59375 -1.421875 \nQ 29.59375 -1.421875 25.265625 0.953125 \nQ 20.953125 3.328125 18.109375 8.203125 \nz\nM 48.6875 27.296875 \nQ 48.6875 37.203125 44.609375 42.84375 \nQ 40.53125 48.484375 33.40625 48.484375 \nQ 26.265625 48.484375 22.1875 42.84375 \nQ 18.109375 37.203125 18.109375 27.296875 \nQ 18.109375 17.390625 22.1875 11.75 \nQ 26.265625 6.109375 33.40625 6.109375 \nQ 40.53125 6.109375 44.609375 11.75 \nQ 48.6875 17.390625 48.6875 27.296875 \nz\n\" id=\"DejaVuSans-112\"/>\n     </defs>\n     <use xlink:href=\"#DejaVuSans-111\"/>\n     <use x=\"61.181641\" xlink:href=\"#DejaVuSans-117\"/>\n     <use x=\"124.560547\" xlink:href=\"#DejaVuSans-116\"/>\n     <use x=\"163.769531\" xlink:href=\"#DejaVuSans-112\"/>\n     <use x=\"227.246094\" xlink:href=\"#DejaVuSans-117\"/>\n     <use x=\"290.625\" xlink:href=\"#DejaVuSans-116\"/>\n    </g>\n   </g>\n  </g>\n  <g id=\"axes_2\">\n   <g id=\"patch_7\">\n    <path d=\"M 331.288636 275.954489 \nL 584.925 275.954489 \nL 584.925 22.318125 \nL 331.288636 22.318125 \nz\n\" style=\"fill:#ffffff;\"/>\n   </g>\n   <g clip-path=\"url(#pc505bdff6a)\">\n    <image height=\"254\" id=\"imagee853b93b24\" transform=\"scale(1 -1)translate(0 -254)\" width=\"254\" x=\"331.288636\" xlink:href=\"data:image/png;base64,\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\" y=\"-21.954489\"/>\n   </g>\n   <g id=\"matplotlib.axis_3\">\n    <g id=\"xtick_8\">\n     <g id=\"line2d_15\">\n      <g>\n       <use style=\"stroke:#000000;stroke-width:0.8;\" x=\"335.251705\" xlink:href=\"#m8481986a6b\" y=\"275.954489\"/>\n      </g>\n     </g>\n     <g id=\"text_16\">\n      <!-- 0 -->\n      <g transform=\"translate(332.070455 290.552926)scale(0.1 -0.1)\">\n       <use xlink:href=\"#DejaVuSans-48\"/>\n      </g>\n     </g>\n    </g>\n    <g id=\"xtick_9\">\n     <g id=\"line2d_16\">\n      <g>\n       <use style=\"stroke:#000000;stroke-width:0.8;\" x=\"374.882386\" xlink:href=\"#m8481986a6b\" y=\"275.954489\"/>\n      </g>\n     </g>\n     <g id=\"text_17\">\n      <!-- 5 -->\n      <g transform=\"translate(371.701136 290.552926)scale(0.1 -0.1)\">\n       <use xlink:href=\"#DejaVuSans-53\"/>\n      </g>\n     </g>\n    </g>\n    <g id=\"xtick_10\">\n     <g id=\"line2d_17\">\n      <g>\n       <use style=\"stroke:#000000;stroke-width:0.8;\" x=\"414.513068\" xlink:href=\"#m8481986a6b\" y=\"275.954489\"/>\n      </g>\n     </g>\n     <g id=\"text_18\">\n      <!-- 10 -->\n      <g transform=\"translate(408.150568 290.552926)scale(0.1 -0.1)\">\n       <use xlink:href=\"#DejaVuSans-49\"/>\n       <use x=\"63.623047\" xlink:href=\"#DejaVuSans-48\"/>\n      </g>\n     </g>\n    </g>\n    <g id=\"xtick_11\">\n     <g id=\"line2d_18\">\n      <g>\n       <use style=\"stroke:#000000;stroke-width:0.8;\" x=\"454.14375\" xlink:href=\"#m8481986a6b\" y=\"275.954489\"/>\n      </g>\n     </g>\n     <g id=\"text_19\">\n      <!-- 15 -->\n      <g transform=\"translate(447.78125 290.552926)scale(0.1 -0.1)\">\n       <use xlink:href=\"#DejaVuSans-49\"/>\n       <use x=\"63.623047\" xlink:href=\"#DejaVuSans-53\"/>\n      </g>\n     </g>\n    </g>\n    <g id=\"xtick_12\">\n     <g id=\"line2d_19\">\n      <g>\n       <use style=\"stroke:#000000;stroke-width:0.8;\" x=\"493.774432\" xlink:href=\"#m8481986a6b\" y=\"275.954489\"/>\n      </g>\n     </g>\n     <g id=\"text_20\">\n      <!-- 20 -->\n      <g transform=\"translate(487.411932 290.552926)scale(0.1 -0.1)\">\n       <use xlink:href=\"#DejaVuSans-50\"/>\n       <use x=\"63.623047\" xlink:href=\"#DejaVuSans-48\"/>\n      </g>\n     </g>\n    </g>\n    <g id=\"xtick_13\">\n     <g id=\"line2d_20\">\n      <g>\n       <use style=\"stroke:#000000;stroke-width:0.8;\" x=\"533.405114\" xlink:href=\"#m8481986a6b\" y=\"275.954489\"/>\n      </g>\n     </g>\n     <g id=\"text_21\">\n      <!-- 25 -->\n      <g transform=\"translate(527.042614 290.552926)scale(0.1 -0.1)\">\n       <use xlink:href=\"#DejaVuSans-50\"/>\n       <use x=\"63.623047\" xlink:href=\"#DejaVuSans-53\"/>\n      </g>\n     </g>\n    </g>\n    <g id=\"xtick_14\">\n     <g id=\"line2d_21\">\n      <g>\n       <use style=\"stroke:#000000;stroke-width:0.8;\" x=\"573.035795\" xlink:href=\"#m8481986a6b\" y=\"275.954489\"/>\n      </g>\n     </g>\n     <g id=\"text_22\">\n      <!-- 30 -->\n      <g transform=\"translate(566.673295 290.552926)scale(0.1 -0.1)\">\n       <use xlink:href=\"#DejaVuSans-51\"/>\n       <use x=\"63.623047\" xlink:href=\"#DejaVuSans-48\"/>\n      </g>\n     </g>\n    </g>\n   </g>\n   <g id=\"matplotlib.axis_4\">\n    <g id=\"ytick_8\">\n     <g id=\"line2d_22\">\n      <g>\n       <use style=\"stroke:#000000;stroke-width:0.8;\" x=\"331.288636\" xlink:href=\"#mbeb400a5d9\" y=\"26.281193\"/>\n      </g>\n     </g>\n     <g id=\"text_23\">\n      <!-- 0 -->\n      <g transform=\"translate(317.926136 30.080412)scale(0.1 -0.1)\">\n       <use xlink:href=\"#DejaVuSans-48\"/>\n      </g>\n     </g>\n    </g>\n    <g id=\"ytick_9\">\n     <g id=\"line2d_23\">\n      <g>\n       <use style=\"stroke:#000000;stroke-width:0.8;\" x=\"331.288636\" xlink:href=\"#mbeb400a5d9\" y=\"65.911875\"/>\n      </g>\n     </g>\n     <g id=\"text_24\">\n      <!-- 5 -->\n      <g transform=\"translate(317.926136 69.711094)scale(0.1 -0.1)\">\n       <use xlink:href=\"#DejaVuSans-53\"/>\n      </g>\n     </g>\n    </g>\n    <g id=\"ytick_10\">\n     <g id=\"line2d_24\">\n      <g>\n       <use style=\"stroke:#000000;stroke-width:0.8;\" x=\"331.288636\" xlink:href=\"#mbeb400a5d9\" y=\"105.542557\"/>\n      </g>\n     </g>\n     <g id=\"text_25\">\n      <!-- 10 -->\n      <g transform=\"translate(311.563636 109.341776)scale(0.1 -0.1)\">\n       <use xlink:href=\"#DejaVuSans-49\"/>\n       <use x=\"63.623047\" xlink:href=\"#DejaVuSans-48\"/>\n      </g>\n     </g>\n    </g>\n    <g id=\"ytick_11\">\n     <g id=\"line2d_25\">\n      <g>\n       <use style=\"stroke:#000000;stroke-width:0.8;\" x=\"331.288636\" xlink:href=\"#mbeb400a5d9\" y=\"145.173239\"/>\n      </g>\n     </g>\n     <g id=\"text_26\">\n      <!-- 15 -->\n      <g transform=\"translate(311.563636 148.972457)scale(0.1 -0.1)\">\n       <use xlink:href=\"#DejaVuSans-49\"/>\n       <use x=\"63.623047\" xlink:href=\"#DejaVuSans-53\"/>\n      </g>\n     </g>\n    </g>\n    <g id=\"ytick_12\">\n     <g id=\"line2d_26\">\n      <g>\n       <use style=\"stroke:#000000;stroke-width:0.8;\" x=\"331.288636\" xlink:href=\"#mbeb400a5d9\" y=\"184.80392\"/>\n      </g>\n     </g>\n     <g id=\"text_27\">\n      <!-- 20 -->\n      <g transform=\"translate(311.563636 188.603139)scale(0.1 -0.1)\">\n       <use xlink:href=\"#DejaVuSans-50\"/>\n       <use x=\"63.623047\" xlink:href=\"#DejaVuSans-48\"/>\n      </g>\n     </g>\n    </g>\n    <g id=\"ytick_13\">\n     <g id=\"line2d_27\">\n      <g>\n       <use style=\"stroke:#000000;stroke-width:0.8;\" x=\"331.288636\" xlink:href=\"#mbeb400a5d9\" y=\"224.434602\"/>\n      </g>\n     </g>\n     <g id=\"text_28\">\n      <!-- 25 -->\n      <g transform=\"translate(311.563636 228.233821)scale(0.1 -0.1)\">\n       <use xlink:href=\"#DejaVuSans-50\"/>\n       <use x=\"63.623047\" xlink:href=\"#DejaVuSans-53\"/>\n      </g>\n     </g>\n    </g>\n    <g id=\"ytick_14\">\n     <g id=\"line2d_28\">\n      <g>\n       <use style=\"stroke:#000000;stroke-width:0.8;\" x=\"331.288636\" xlink:href=\"#mbeb400a5d9\" y=\"264.065284\"/>\n      </g>\n     </g>\n     <g id=\"text_29\">\n      <!-- 30 -->\n      <g transform=\"translate(311.563636 267.864503)scale(0.1 -0.1)\">\n       <use xlink:href=\"#DejaVuSans-51\"/>\n       <use x=\"63.623047\" xlink:href=\"#DejaVuSans-48\"/>\n      </g>\n     </g>\n    </g>\n   </g>\n   <g id=\"patch_8\">\n    <path d=\"M 331.288636 275.954489 \nL 331.288636 22.318125 \n\" style=\"fill:none;stroke:#000000;stroke-linecap:square;stroke-linejoin:miter;stroke-width:0.8;\"/>\n   </g>\n   <g id=\"patch_9\">\n    <path d=\"M 584.925 275.954489 \nL 584.925 22.318125 \n\" style=\"fill:none;stroke:#000000;stroke-linecap:square;stroke-linejoin:miter;stroke-width:0.8;\"/>\n   </g>\n   <g id=\"patch_10\">\n    <path d=\"M 331.288636 275.954489 \nL 584.925 275.954489 \n\" style=\"fill:none;stroke:#000000;stroke-linecap:square;stroke-linejoin:miter;stroke-width:0.8;\"/>\n   </g>\n   <g id=\"patch_11\">\n    <path d=\"M 331.288636 22.318125 \nL 584.925 22.318125 \n\" style=\"fill:none;stroke:#000000;stroke-linecap:square;stroke-linejoin:miter;stroke-width:0.8;\"/>\n   </g>\n   <g id=\"text_30\">\n    <!-- input -->\n    <g transform=\"translate(442.673693 16.318125)scale(0.12 -0.12)\">\n     <defs>\n      <path d=\"M 9.421875 54.6875 \nL 18.40625 54.6875 \nL 18.40625 0 \nL 9.421875 0 \nz\nM 9.421875 75.984375 \nL 18.40625 75.984375 \nL 18.40625 64.59375 \nL 9.421875 64.59375 \nz\n\" id=\"DejaVuSans-105\"/>\n      <path d=\"M 54.890625 33.015625 \nL 54.890625 0 \nL 45.90625 0 \nL 45.90625 32.71875 \nQ 45.90625 40.484375 42.875 44.328125 \nQ 39.84375 48.1875 33.796875 48.1875 \nQ 26.515625 48.1875 22.3125 43.546875 \nQ 18.109375 38.921875 18.109375 30.90625 \nL 18.109375 0 \nL 9.078125 0 \nL 9.078125 54.6875 \nL 18.109375 54.6875 \nL 18.109375 46.1875 \nQ 21.34375 51.125 25.703125 53.5625 \nQ 30.078125 56 35.796875 56 \nQ 45.21875 56 50.046875 50.171875 \nQ 54.890625 44.34375 54.890625 33.015625 \nz\n\" id=\"DejaVuSans-110\"/>\n     </defs>\n     <use xlink:href=\"#DejaVuSans-105\"/>\n     <use x=\"27.783203\" xlink:href=\"#DejaVuSans-110\"/>\n     <use x=\"91.162109\" xlink:href=\"#DejaVuSans-112\"/>\n     <use x=\"154.638672\" xlink:href=\"#DejaVuSans-117\"/>\n     <use x=\"218.017578\" xlink:href=\"#DejaVuSans-116\"/>\n    </g>\n   </g>\n  </g>\n </g>\n <defs>\n  <clipPath id=\"p8e83db141f\">\n   <rect height=\"253.636364\" width=\"253.636364\" x=\"26.925\" y=\"22.318125\"/>\n  </clipPath>\n  <clipPath id=\"pc505bdff6a\">\n   <rect height=\"253.636364\" width=\"253.636364\" x=\"331.288636\" y=\"22.318125\"/>\n  </clipPath>\n </defs>\n</svg>\n",
      "image/png": "[encoded data removed]"
     },
     "metadata": {
      "needs_background": "light"
     }
    }
   ],
   "source": [
    "plt.figure(figsize=(10, 4.8))\n",
    "ax1 = plt.subplot(1, 2, 1)\n",
    "plt.title('output')\n",
    "# con2d之后的图像，w，h变小了\n",
    "plt.imshow(output[0, 0].detach(), cmap='gray')\n",
    "plt.subplot(1, 2, 2, sharex=ax1, sharey=ax1)\n",
    "plt.imshow(img.mean(0), cmap='gray')\n",
    "plt.title('input')\n",
    "plt.savefig('Ch8_F2_PyTorch.png')\n",
    "plt.show()\n"
   ]
  },
  {
   "cell_type": "code",
   "execution_count": 16,
   "metadata": {},
   "outputs": [
    {
     "output_type": "execute_result",
     "data": {
      "text/plain": [
       "(torch.Size([1, 3, 32, 32]), torch.Size([1, 1, 32, 32]))"
      ]
     },
     "metadata": {},
     "execution_count": 16
    }
   ],
   "source": [
    "conv = nn.Conv2d(3, 1, kernel_size=3, padding=1) # with padding\n",
    "output = conv(img.unsqueeze(0))\n",
    "img.unsqueeze(0).shape, output.shape"
   ]
  },
  {
   "cell_type": "code",
   "execution_count": 17,
   "metadata": {},
   "outputs": [],
   "source": [
    "with torch.no_grad():\n",
    "    conv.bias.zero_()\n",
    "\n",
    "with torch.no_grad():\n",
    "    conv.weight.fill_(1.0 / 9.0) # Fills self tensor with the specified value."
   ]
  },
  {
   "cell_type": "code",
   "execution_count": 18,
   "metadata": {},
   "outputs": [
    {
     "output_type": "display_data",
     "data": {
      "text/plain": "<Figure size 720x345.6 with 2 Axes>",
      "image/svg+xml": "<?xml version=\"1.0\" encoding=\"utf-8\" standalone=\"no\"?>\n<!DOCTYPE svg PUBLIC \"-//W3C//DTD SVG 1.1//EN\"\n  \"http://www.w3.org/Graphics/SVG/1.1/DTD/svg11.dtd\">\n<!-- Created with matplotlib (https://matplotlib.org/) -->\n<svg height=\"299.832614pt\" version=\"1.1\" viewBox=\"0 0 592.125 299.832614\" width=\"592.125pt\" xmlns=\"http://www.w3.org/2000/svg\" xmlns:xlink=\"http://www.w3.org/1999/xlink\">\n <metadata>\n  <rdf:RDF xmlns:cc=\"http://creativecommons.org/ns#\" xmlns:dc=\"http://purl.org/dc/elements/1.1/\" xmlns:rdf=\"http://www.w3.org/1999/02/22-rdf-syntax-ns#\">\n   <cc:Work>\n    <dc:type rdf:resource=\"http://purl.org/dc/dcmitype/StillImage\"/>\n    <dc:date>2020-10-27T17:43:23.475452</dc:date>\n    <dc:format>image/svg+xml</dc:format>\n    <dc:creator>\n     <cc:Agent>\n      <dc:title>Matplotlib v3.3.1, https://matplotlib.org/</dc:title>\n     </cc:Agent>\n    </dc:creator>\n   </cc:Work>\n  </rdf:RDF>\n </metadata>\n <defs>\n  <style type=\"text/css\">*{stroke-linecap:butt;stroke-linejoin:round;}</style>\n </defs>\n <g id=\"figure_1\">\n  <g id=\"patch_1\">\n   <path d=\"M 0 299.832614 \nL 592.125 299.832614 \nL 592.125 0 \nL 0 0 \nz\n\" style=\"fill:none;\"/>\n  </g>\n  <g id=\"axes_1\">\n   <g id=\"patch_2\">\n    <path d=\"M 26.925 275.954489 \nL 280.561364 275.954489 \nL 280.561364 22.318125 \nL 26.925 22.318125 \nz\n\" style=\"fill:#ffffff;\"/>\n   </g>\n   <g clip-path=\"url(#pe1d3918ed0)\">\n    <image height=\"254\" id=\"imageae38dab06c\" transform=\"scale(1 -1)translate(0 -254)\" width=\"254\" x=\"26.925\" xlink:href=\"data:image/png;base64,\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\" y=\"-21.954489\"/>\n   </g>\n   <g id=\"matplotlib.axis_1\">\n    <g id=\"xtick_1\">\n     <g id=\"line2d_1\">\n      <defs>\n       <path d=\"M 0 0 \nL 0 3.5 \n\" id=\"m6049cd1d34\" style=\"stroke:#000000;stroke-width:0.8;\"/>\n      </defs>\n      <g>\n       <use style=\"stroke:#000000;stroke-width:0.8;\" x=\"30.888068\" xlink:href=\"#m6049cd1d34\" y=\"275.954489\"/>\n      </g>\n     </g>\n     <g id=\"text_1\">\n      <!-- 0 -->\n      <g transform=\"translate(27.706818 290.552926)scale(0.1 -0.1)\">\n       <defs>\n        <path d=\"M 31.78125 66.40625 \nQ 24.171875 66.40625 20.328125 58.90625 \nQ 16.5 51.421875 16.5 36.375 \nQ 16.5 21.390625 20.328125 13.890625 \nQ 24.171875 6.390625 31.78125 6.390625 \nQ 39.453125 6.390625 43.28125 13.890625 \nQ 47.125 21.390625 47.125 36.375 \nQ 47.125 51.421875 43.28125 58.90625 \nQ 39.453125 66.40625 31.78125 66.40625 \nz\nM 31.78125 74.21875 \nQ 44.046875 74.21875 50.515625 64.515625 \nQ 56.984375 54.828125 56.984375 36.375 \nQ 56.984375 17.96875 50.515625 8.265625 \nQ 44.046875 -1.421875 31.78125 -1.421875 \nQ 19.53125 -1.421875 13.0625 8.265625 \nQ 6.59375 17.96875 6.59375 36.375 \nQ 6.59375 54.828125 13.0625 64.515625 \nQ 19.53125 74.21875 31.78125 74.21875 \nz\n\" id=\"DejaVuSans-48\"/>\n       </defs>\n       <use xlink:href=\"#DejaVuSans-48\"/>\n      </g>\n     </g>\n    </g>\n    <g id=\"xtick_2\">\n     <g id=\"line2d_2\">\n      <g>\n       <use style=\"stroke:#000000;stroke-width:0.8;\" x=\"70.51875\" xlink:href=\"#m6049cd1d34\" y=\"275.954489\"/>\n      </g>\n     </g>\n     <g id=\"text_2\">\n      <!-- 5 -->\n      <g transform=\"translate(67.3375 290.552926)scale(0.1 -0.1)\">\n       <defs>\n        <path d=\"M 10.796875 72.90625 \nL 49.515625 72.90625 \nL 49.515625 64.59375 \nL 19.828125 64.59375 \nL 19.828125 46.734375 \nQ 21.96875 47.46875 24.109375 47.828125 \nQ 26.265625 48.1875 28.421875 48.1875 \nQ 40.625 48.1875 47.75 41.5 \nQ 54.890625 34.8125 54.890625 23.390625 \nQ 54.890625 11.625 47.5625 5.09375 \nQ 40.234375 -1.421875 26.90625 -1.421875 \nQ 22.3125 -1.421875 17.546875 -0.640625 \nQ 12.796875 0.140625 7.71875 1.703125 \nL 7.71875 11.625 \nQ 12.109375 9.234375 16.796875 8.0625 \nQ 21.484375 6.890625 26.703125 6.890625 \nQ 35.15625 6.890625 40.078125 11.328125 \nQ 45.015625 15.765625 45.015625 23.390625 \nQ 45.015625 31 40.078125 35.4375 \nQ 35.15625 39.890625 26.703125 39.890625 \nQ 22.75 39.890625 18.8125 39.015625 \nQ 14.890625 38.140625 10.796875 36.28125 \nz\n\" id=\"DejaVuSans-53\"/>\n       </defs>\n       <use xlink:href=\"#DejaVuSans-53\"/>\n      </g>\n     </g>\n    </g>\n    <g id=\"xtick_3\">\n     <g id=\"line2d_3\">\n      <g>\n       <use style=\"stroke:#000000;stroke-width:0.8;\" x=\"110.149432\" xlink:href=\"#m6049cd1d34\" y=\"275.954489\"/>\n      </g>\n     </g>\n     <g id=\"text_3\">\n      <!-- 10 -->\n      <g transform=\"translate(103.786932 290.552926)scale(0.1 -0.1)\">\n       <defs>\n        <path d=\"M 12.40625 8.296875 \nL 28.515625 8.296875 \nL 28.515625 63.921875 \nL 10.984375 60.40625 \nL 10.984375 69.390625 \nL 28.421875 72.90625 \nL 38.28125 72.90625 \nL 38.28125 8.296875 \nL 54.390625 8.296875 \nL 54.390625 0 \nL 12.40625 0 \nz\n\" id=\"DejaVuSans-49\"/>\n       </defs>\n       <use xlink:href=\"#DejaVuSans-49\"/>\n       <use x=\"63.623047\" xlink:href=\"#DejaVuSans-48\"/>\n      </g>\n     </g>\n    </g>\n    <g id=\"xtick_4\">\n     <g id=\"line2d_4\">\n      <g>\n       <use style=\"stroke:#000000;stroke-width:0.8;\" x=\"149.780114\" xlink:href=\"#m6049cd1d34\" y=\"275.954489\"/>\n      </g>\n     </g>\n     <g id=\"text_4\">\n      <!-- 15 -->\n      <g transform=\"translate(143.417614 290.552926)scale(0.1 -0.1)\">\n       <use xlink:href=\"#DejaVuSans-49\"/>\n       <use x=\"63.623047\" xlink:href=\"#DejaVuSans-53\"/>\n      </g>\n     </g>\n    </g>\n    <g id=\"xtick_5\">\n     <g id=\"line2d_5\">\n      <g>\n       <use style=\"stroke:#000000;stroke-width:0.8;\" x=\"189.410795\" xlink:href=\"#m6049cd1d34\" y=\"275.954489\"/>\n      </g>\n     </g>\n     <g id=\"text_5\">\n      <!-- 20 -->\n      <g transform=\"translate(183.048295 290.552926)scale(0.1 -0.1)\">\n       <defs>\n        <path d=\"M 19.1875 8.296875 \nL 53.609375 8.296875 \nL 53.609375 0 \nL 7.328125 0 \nL 7.328125 8.296875 \nQ 12.9375 14.109375 22.625 23.890625 \nQ 32.328125 33.6875 34.8125 36.53125 \nQ 39.546875 41.84375 41.421875 45.53125 \nQ 43.3125 49.21875 43.3125 52.78125 \nQ 43.3125 58.59375 39.234375 62.25 \nQ 35.15625 65.921875 28.609375 65.921875 \nQ 23.96875 65.921875 18.8125 64.3125 \nQ 13.671875 62.703125 7.8125 59.421875 \nL 7.8125 69.390625 \nQ 13.765625 71.78125 18.9375 73 \nQ 24.125 74.21875 28.421875 74.21875 \nQ 39.75 74.21875 46.484375 68.546875 \nQ 53.21875 62.890625 53.21875 53.421875 \nQ 53.21875 48.921875 51.53125 44.890625 \nQ 49.859375 40.875 45.40625 35.40625 \nQ 44.1875 33.984375 37.640625 27.21875 \nQ 31.109375 20.453125 19.1875 8.296875 \nz\n\" id=\"DejaVuSans-50\"/>\n       </defs>\n       <use xlink:href=\"#DejaVuSans-50\"/>\n       <use x=\"63.623047\" xlink:href=\"#DejaVuSans-48\"/>\n      </g>\n     </g>\n    </g>\n    <g id=\"xtick_6\">\n     <g id=\"line2d_6\">\n      <g>\n       <use style=\"stroke:#000000;stroke-width:0.8;\" x=\"229.041477\" xlink:href=\"#m6049cd1d34\" y=\"275.954489\"/>\n      </g>\n     </g>\n     <g id=\"text_6\">\n      <!-- 25 -->\n      <g transform=\"translate(222.678977 290.552926)scale(0.1 -0.1)\">\n       <use xlink:href=\"#DejaVuSans-50\"/>\n       <use x=\"63.623047\" xlink:href=\"#DejaVuSans-53\"/>\n      </g>\n     </g>\n    </g>\n    <g id=\"xtick_7\">\n     <g id=\"line2d_7\">\n      <g>\n       <use style=\"stroke:#000000;stroke-width:0.8;\" x=\"268.672159\" xlink:href=\"#m6049cd1d34\" y=\"275.954489\"/>\n      </g>\n     </g>\n     <g id=\"text_7\">\n      <!-- 30 -->\n      <g transform=\"translate(262.309659 290.552926)scale(0.1 -0.1)\">\n       <defs>\n        <path d=\"M 40.578125 39.3125 \nQ 47.65625 37.796875 51.625 33 \nQ 55.609375 28.21875 55.609375 21.1875 \nQ 55.609375 10.40625 48.1875 4.484375 \nQ 40.765625 -1.421875 27.09375 -1.421875 \nQ 22.515625 -1.421875 17.65625 -0.515625 \nQ 12.796875 0.390625 7.625 2.203125 \nL 7.625 11.71875 \nQ 11.71875 9.328125 16.59375 8.109375 \nQ 21.484375 6.890625 26.8125 6.890625 \nQ 36.078125 6.890625 40.9375 10.546875 \nQ 45.796875 14.203125 45.796875 21.1875 \nQ 45.796875 27.640625 41.28125 31.265625 \nQ 36.765625 34.90625 28.71875 34.90625 \nL 20.21875 34.90625 \nL 20.21875 43.015625 \nL 29.109375 43.015625 \nQ 36.375 43.015625 40.234375 45.921875 \nQ 44.09375 48.828125 44.09375 54.296875 \nQ 44.09375 59.90625 40.109375 62.90625 \nQ 36.140625 65.921875 28.71875 65.921875 \nQ 24.65625 65.921875 20.015625 65.03125 \nQ 15.375 64.15625 9.8125 62.3125 \nL 9.8125 71.09375 \nQ 15.4375 72.65625 20.34375 73.4375 \nQ 25.25 74.21875 29.59375 74.21875 \nQ 40.828125 74.21875 47.359375 69.109375 \nQ 53.90625 64.015625 53.90625 55.328125 \nQ 53.90625 49.265625 50.4375 45.09375 \nQ 46.96875 40.921875 40.578125 39.3125 \nz\n\" id=\"DejaVuSans-51\"/>\n       </defs>\n       <use xlink:href=\"#DejaVuSans-51\"/>\n       <use x=\"63.623047\" xlink:href=\"#DejaVuSans-48\"/>\n      </g>\n     </g>\n    </g>\n   </g>\n   <g id=\"matplotlib.axis_2\">\n    <g id=\"ytick_1\">\n     <g id=\"line2d_8\">\n      <defs>\n       <path d=\"M 0 0 \nL -3.5 0 \n\" id=\"mf2a7e86a19\" style=\"stroke:#000000;stroke-width:0.8;\"/>\n      </defs>\n      <g>\n       <use style=\"stroke:#000000;stroke-width:0.8;\" x=\"26.925\" xlink:href=\"#mf2a7e86a19\" y=\"26.281193\"/>\n      </g>\n     </g>\n     <g id=\"text_8\">\n      <!-- 0 -->\n      <g transform=\"translate(13.5625 30.080412)scale(0.1 -0.1)\">\n       <use xlink:href=\"#DejaVuSans-48\"/>\n      </g>\n     </g>\n    </g>\n    <g id=\"ytick_2\">\n     <g id=\"line2d_9\">\n      <g>\n       <use style=\"stroke:#000000;stroke-width:0.8;\" x=\"26.925\" xlink:href=\"#mf2a7e86a19\" y=\"65.911875\"/>\n      </g>\n     </g>\n     <g id=\"text_9\">\n      <!-- 5 -->\n      <g transform=\"translate(13.5625 69.711094)scale(0.1 -0.1)\">\n       <use xlink:href=\"#DejaVuSans-53\"/>\n      </g>\n     </g>\n    </g>\n    <g id=\"ytick_3\">\n     <g id=\"line2d_10\">\n      <g>\n       <use style=\"stroke:#000000;stroke-width:0.8;\" x=\"26.925\" xlink:href=\"#mf2a7e86a19\" y=\"105.542557\"/>\n      </g>\n     </g>\n     <g id=\"text_10\">\n      <!-- 10 -->\n      <g transform=\"translate(7.2 109.341776)scale(0.1 -0.1)\">\n       <use xlink:href=\"#DejaVuSans-49\"/>\n       <use x=\"63.623047\" xlink:href=\"#DejaVuSans-48\"/>\n      </g>\n     </g>\n    </g>\n    <g id=\"ytick_4\">\n     <g id=\"line2d_11\">\n      <g>\n       <use style=\"stroke:#000000;stroke-width:0.8;\" x=\"26.925\" xlink:href=\"#mf2a7e86a19\" y=\"145.173239\"/>\n      </g>\n     </g>\n     <g id=\"text_11\">\n      <!-- 15 -->\n      <g transform=\"translate(7.2 148.972457)scale(0.1 -0.1)\">\n       <use xlink:href=\"#DejaVuSans-49\"/>\n       <use x=\"63.623047\" xlink:href=\"#DejaVuSans-53\"/>\n      </g>\n     </g>\n    </g>\n    <g id=\"ytick_5\">\n     <g id=\"line2d_12\">\n      <g>\n       <use style=\"stroke:#000000;stroke-width:0.8;\" x=\"26.925\" xlink:href=\"#mf2a7e86a19\" y=\"184.80392\"/>\n      </g>\n     </g>\n     <g id=\"text_12\">\n      <!-- 20 -->\n      <g transform=\"translate(7.2 188.603139)scale(0.1 -0.1)\">\n       <use xlink:href=\"#DejaVuSans-50\"/>\n       <use x=\"63.623047\" xlink:href=\"#DejaVuSans-48\"/>\n      </g>\n     </g>\n    </g>\n    <g id=\"ytick_6\">\n     <g id=\"line2d_13\">\n      <g>\n       <use style=\"stroke:#000000;stroke-width:0.8;\" x=\"26.925\" xlink:href=\"#mf2a7e86a19\" y=\"224.434602\"/>\n      </g>\n     </g>\n     <g id=\"text_13\">\n      <!-- 25 -->\n      <g transform=\"translate(7.2 228.233821)scale(0.1 -0.1)\">\n       <use xlink:href=\"#DejaVuSans-50\"/>\n       <use x=\"63.623047\" xlink:href=\"#DejaVuSans-53\"/>\n      </g>\n     </g>\n    </g>\n    <g id=\"ytick_7\">\n     <g id=\"line2d_14\">\n      <g>\n       <use style=\"stroke:#000000;stroke-width:0.8;\" x=\"26.925\" xlink:href=\"#mf2a7e86a19\" y=\"264.065284\"/>\n      </g>\n     </g>\n     <g id=\"text_14\">\n      <!-- 30 -->\n      <g transform=\"translate(7.2 267.864503)scale(0.1 -0.1)\">\n       <use xlink:href=\"#DejaVuSans-51\"/>\n       <use x=\"63.623047\" xlink:href=\"#DejaVuSans-48\"/>\n      </g>\n     </g>\n    </g>\n   </g>\n   <g id=\"patch_3\">\n    <path d=\"M 26.925 275.954489 \nL 26.925 22.318125 \n\" style=\"fill:none;stroke:#000000;stroke-linecap:square;stroke-linejoin:miter;stroke-width:0.8;\"/>\n   </g>\n   <g id=\"patch_4\">\n    <path d=\"M 280.561364 275.954489 \nL 280.561364 22.318125 \n\" style=\"fill:none;stroke:#000000;stroke-linecap:square;stroke-linejoin:miter;stroke-width:0.8;\"/>\n   </g>\n   <g id=\"patch_5\">\n    <path d=\"M 26.925 275.954489 \nL 280.561364 275.954489 \n\" style=\"fill:none;stroke:#000000;stroke-linecap:square;stroke-linejoin:miter;stroke-width:0.8;\"/>\n   </g>\n   <g id=\"patch_6\">\n    <path d=\"M 26.925 22.318125 \nL 280.561364 22.318125 \n\" style=\"fill:none;stroke:#000000;stroke-linecap:square;stroke-linejoin:miter;stroke-width:0.8;\"/>\n   </g>\n   <g id=\"text_15\">\n    <!-- output -->\n    <g transform=\"translate(133.953494 16.318125)scale(0.12 -0.12)\">\n     <defs>\n      <path d=\"M 30.609375 48.390625 \nQ 23.390625 48.390625 19.1875 42.75 \nQ 14.984375 37.109375 14.984375 27.296875 \nQ 14.984375 17.484375 19.15625 11.84375 \nQ 23.34375 6.203125 30.609375 6.203125 \nQ 37.796875 6.203125 41.984375 11.859375 \nQ 46.1875 17.53125 46.1875 27.296875 \nQ 46.1875 37.015625 41.984375 42.703125 \nQ 37.796875 48.390625 30.609375 48.390625 \nz\nM 30.609375 56 \nQ 42.328125 56 49.015625 48.375 \nQ 55.71875 40.765625 55.71875 27.296875 \nQ 55.71875 13.875 49.015625 6.21875 \nQ 42.328125 -1.421875 30.609375 -1.421875 \nQ 18.84375 -1.421875 12.171875 6.21875 \nQ 5.515625 13.875 5.515625 27.296875 \nQ 5.515625 40.765625 12.171875 48.375 \nQ 18.84375 56 30.609375 56 \nz\n\" id=\"DejaVuSans-111\"/>\n      <path d=\"M 8.5 21.578125 \nL 8.5 54.6875 \nL 17.484375 54.6875 \nL 17.484375 21.921875 \nQ 17.484375 14.15625 20.5 10.265625 \nQ 23.53125 6.390625 29.59375 6.390625 \nQ 36.859375 6.390625 41.078125 11.03125 \nQ 45.3125 15.671875 45.3125 23.6875 \nL 45.3125 54.6875 \nL 54.296875 54.6875 \nL 54.296875 0 \nL 45.3125 0 \nL 45.3125 8.40625 \nQ 42.046875 3.421875 37.71875 1 \nQ 33.40625 -1.421875 27.6875 -1.421875 \nQ 18.265625 -1.421875 13.375 4.4375 \nQ 8.5 10.296875 8.5 21.578125 \nz\nM 31.109375 56 \nz\n\" id=\"DejaVuSans-117\"/>\n      <path d=\"M 18.3125 70.21875 \nL 18.3125 54.6875 \nL 36.8125 54.6875 \nL 36.8125 47.703125 \nL 18.3125 47.703125 \nL 18.3125 18.015625 \nQ 18.3125 11.328125 20.140625 9.421875 \nQ 21.96875 7.515625 27.59375 7.515625 \nL 36.8125 7.515625 \nL 36.8125 0 \nL 27.59375 0 \nQ 17.1875 0 13.234375 3.875 \nQ 9.28125 7.765625 9.28125 18.015625 \nL 9.28125 47.703125 \nL 2.6875 47.703125 \nL 2.6875 54.6875 \nL 9.28125 54.6875 \nL 9.28125 70.21875 \nz\n\" id=\"DejaVuSans-116\"/>\n      <path d=\"M 18.109375 8.203125 \nL 18.109375 -20.796875 \nL 9.078125 -20.796875 \nL 9.078125 54.6875 \nL 18.109375 54.6875 \nL 18.109375 46.390625 \nQ 20.953125 51.265625 25.265625 53.625 \nQ 29.59375 56 35.59375 56 \nQ 45.5625 56 51.78125 48.09375 \nQ 58.015625 40.1875 58.015625 27.296875 \nQ 58.015625 14.40625 51.78125 6.484375 \nQ 45.5625 -1.421875 35.59375 -1.421875 \nQ 29.59375 -1.421875 25.265625 0.953125 \nQ 20.953125 3.328125 18.109375 8.203125 \nz\nM 48.6875 27.296875 \nQ 48.6875 37.203125 44.609375 42.84375 \nQ 40.53125 48.484375 33.40625 48.484375 \nQ 26.265625 48.484375 22.1875 42.84375 \nQ 18.109375 37.203125 18.109375 27.296875 \nQ 18.109375 17.390625 22.1875 11.75 \nQ 26.265625 6.109375 33.40625 6.109375 \nQ 40.53125 6.109375 44.609375 11.75 \nQ 48.6875 17.390625 48.6875 27.296875 \nz\n\" id=\"DejaVuSans-112\"/>\n     </defs>\n     <use xlink:href=\"#DejaVuSans-111\"/>\n     <use x=\"61.181641\" xlink:href=\"#DejaVuSans-117\"/>\n     <use x=\"124.560547\" xlink:href=\"#DejaVuSans-116\"/>\n     <use x=\"163.769531\" xlink:href=\"#DejaVuSans-112\"/>\n     <use x=\"227.246094\" xlink:href=\"#DejaVuSans-117\"/>\n     <use x=\"290.625\" xlink:href=\"#DejaVuSans-116\"/>\n    </g>\n   </g>\n  </g>\n  <g id=\"axes_2\">\n   <g id=\"patch_7\">\n    <path d=\"M 331.288636 275.954489 \nL 584.925 275.954489 \nL 584.925 22.318125 \nL 331.288636 22.318125 \nz\n\" style=\"fill:#ffffff;\"/>\n   </g>\n   <g clip-path=\"url(#pb7580c0be9)\">\n    <image height=\"254\" id=\"image8dea6b4db6\" transform=\"scale(1 -1)translate(0 -254)\" width=\"254\" x=\"331.288636\" xlink:href=\"data:image/png;base64,\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\" y=\"-21.954489\"/>\n   </g>\n   <g id=\"matplotlib.axis_3\">\n    <g id=\"xtick_8\">\n     <g id=\"line2d_15\">\n      <g>\n       <use style=\"stroke:#000000;stroke-width:0.8;\" x=\"335.251705\" xlink:href=\"#m6049cd1d34\" y=\"275.954489\"/>\n      </g>\n     </g>\n     <g id=\"text_16\">\n      <!-- 0 -->\n      <g transform=\"translate(332.070455 290.552926)scale(0.1 -0.1)\">\n       <use xlink:href=\"#DejaVuSans-48\"/>\n      </g>\n     </g>\n    </g>\n    <g id=\"xtick_9\">\n     <g id=\"line2d_16\">\n      <g>\n       <use style=\"stroke:#000000;stroke-width:0.8;\" x=\"374.882386\" xlink:href=\"#m6049cd1d34\" y=\"275.954489\"/>\n      </g>\n     </g>\n     <g id=\"text_17\">\n      <!-- 5 -->\n      <g transform=\"translate(371.701136 290.552926)scale(0.1 -0.1)\">\n       <use xlink:href=\"#DejaVuSans-53\"/>\n      </g>\n     </g>\n    </g>\n    <g id=\"xtick_10\">\n     <g id=\"line2d_17\">\n      <g>\n       <use style=\"stroke:#000000;stroke-width:0.8;\" x=\"414.513068\" xlink:href=\"#m6049cd1d34\" y=\"275.954489\"/>\n      </g>\n     </g>\n     <g id=\"text_18\">\n      <!-- 10 -->\n      <g transform=\"translate(408.150568 290.552926)scale(0.1 -0.1)\">\n       <use xlink:href=\"#DejaVuSans-49\"/>\n       <use x=\"63.623047\" xlink:href=\"#DejaVuSans-48\"/>\n      </g>\n     </g>\n    </g>\n    <g id=\"xtick_11\">\n     <g id=\"line2d_18\">\n      <g>\n       <use style=\"stroke:#000000;stroke-width:0.8;\" x=\"454.14375\" xlink:href=\"#m6049cd1d34\" y=\"275.954489\"/>\n      </g>\n     </g>\n     <g id=\"text_19\">\n      <!-- 15 -->\n      <g transform=\"translate(447.78125 290.552926)scale(0.1 -0.1)\">\n       <use xlink:href=\"#DejaVuSans-49\"/>\n       <use x=\"63.623047\" xlink:href=\"#DejaVuSans-53\"/>\n      </g>\n     </g>\n    </g>\n    <g id=\"xtick_12\">\n     <g id=\"line2d_19\">\n      <g>\n       <use style=\"stroke:#000000;stroke-width:0.8;\" x=\"493.774432\" xlink:href=\"#m6049cd1d34\" y=\"275.954489\"/>\n      </g>\n     </g>\n     <g id=\"text_20\">\n      <!-- 20 -->\n      <g transform=\"translate(487.411932 290.552926)scale(0.1 -0.1)\">\n       <use xlink:href=\"#DejaVuSans-50\"/>\n       <use x=\"63.623047\" xlink:href=\"#DejaVuSans-48\"/>\n      </g>\n     </g>\n    </g>\n    <g id=\"xtick_13\">\n     <g id=\"line2d_20\">\n      <g>\n       <use style=\"stroke:#000000;stroke-width:0.8;\" x=\"533.405114\" xlink:href=\"#m6049cd1d34\" y=\"275.954489\"/>\n      </g>\n     </g>\n     <g id=\"text_21\">\n      <!-- 25 -->\n      <g transform=\"translate(527.042614 290.552926)scale(0.1 -0.1)\">\n       <use xlink:href=\"#DejaVuSans-50\"/>\n       <use x=\"63.623047\" xlink:href=\"#DejaVuSans-53\"/>\n      </g>\n     </g>\n    </g>\n    <g id=\"xtick_14\">\n     <g id=\"line2d_21\">\n      <g>\n       <use style=\"stroke:#000000;stroke-width:0.8;\" x=\"573.035795\" xlink:href=\"#m6049cd1d34\" y=\"275.954489\"/>\n      </g>\n     </g>\n     <g id=\"text_22\">\n      <!-- 30 -->\n      <g transform=\"translate(566.673295 290.552926)scale(0.1 -0.1)\">\n       <use xlink:href=\"#DejaVuSans-51\"/>\n       <use x=\"63.623047\" xlink:href=\"#DejaVuSans-48\"/>\n      </g>\n     </g>\n    </g>\n   </g>\n   <g id=\"matplotlib.axis_4\">\n    <g id=\"ytick_8\">\n     <g id=\"line2d_22\">\n      <g>\n       <use style=\"stroke:#000000;stroke-width:0.8;\" x=\"331.288636\" xlink:href=\"#mf2a7e86a19\" y=\"26.281193\"/>\n      </g>\n     </g>\n     <g id=\"text_23\">\n      <!-- 0 -->\n      <g transform=\"translate(317.926136 30.080412)scale(0.1 -0.1)\">\n       <use xlink:href=\"#DejaVuSans-48\"/>\n      </g>\n     </g>\n    </g>\n    <g id=\"ytick_9\">\n     <g id=\"line2d_23\">\n      <g>\n       <use style=\"stroke:#000000;stroke-width:0.8;\" x=\"331.288636\" xlink:href=\"#mf2a7e86a19\" y=\"65.911875\"/>\n      </g>\n     </g>\n     <g id=\"text_24\">\n      <!-- 5 -->\n      <g transform=\"translate(317.926136 69.711094)scale(0.1 -0.1)\">\n       <use xlink:href=\"#DejaVuSans-53\"/>\n      </g>\n     </g>\n    </g>\n    <g id=\"ytick_10\">\n     <g id=\"line2d_24\">\n      <g>\n       <use style=\"stroke:#000000;stroke-width:0.8;\" x=\"331.288636\" xlink:href=\"#mf2a7e86a19\" y=\"105.542557\"/>\n      </g>\n     </g>\n     <g id=\"text_25\">\n      <!-- 10 -->\n      <g transform=\"translate(311.563636 109.341776)scale(0.1 -0.1)\">\n       <use xlink:href=\"#DejaVuSans-49\"/>\n       <use x=\"63.623047\" xlink:href=\"#DejaVuSans-48\"/>\n      </g>\n     </g>\n    </g>\n    <g id=\"ytick_11\">\n     <g id=\"line2d_25\">\n      <g>\n       <use style=\"stroke:#000000;stroke-width:0.8;\" x=\"331.288636\" xlink:href=\"#mf2a7e86a19\" y=\"145.173239\"/>\n      </g>\n     </g>\n     <g id=\"text_26\">\n      <!-- 15 -->\n      <g transform=\"translate(311.563636 148.972457)scale(0.1 -0.1)\">\n       <use xlink:href=\"#DejaVuSans-49\"/>\n       <use x=\"63.623047\" xlink:href=\"#DejaVuSans-53\"/>\n      </g>\n     </g>\n    </g>\n    <g id=\"ytick_12\">\n     <g id=\"line2d_26\">\n      <g>\n       <use style=\"stroke:#000000;stroke-width:0.8;\" x=\"331.288636\" xlink:href=\"#mf2a7e86a19\" y=\"184.80392\"/>\n      </g>\n     </g>\n     <g id=\"text_27\">\n      <!-- 20 -->\n      <g transform=\"translate(311.563636 188.603139)scale(0.1 -0.1)\">\n       <use xlink:href=\"#DejaVuSans-50\"/>\n       <use x=\"63.623047\" xlink:href=\"#DejaVuSans-48\"/>\n      </g>\n     </g>\n    </g>\n    <g id=\"ytick_13\">\n     <g id=\"line2d_27\">\n      <g>\n       <use style=\"stroke:#000000;stroke-width:0.8;\" x=\"331.288636\" xlink:href=\"#mf2a7e86a19\" y=\"224.434602\"/>\n      </g>\n     </g>\n     <g id=\"text_28\">\n      <!-- 25 -->\n      <g transform=\"translate(311.563636 228.233821)scale(0.1 -0.1)\">\n       <use xlink:href=\"#DejaVuSans-50\"/>\n       <use x=\"63.623047\" xlink:href=\"#DejaVuSans-53\"/>\n      </g>\n     </g>\n    </g>\n    <g id=\"ytick_14\">\n     <g id=\"line2d_28\">\n      <g>\n       <use style=\"stroke:#000000;stroke-width:0.8;\" x=\"331.288636\" xlink:href=\"#mf2a7e86a19\" y=\"264.065284\"/>\n      </g>\n     </g>\n     <g id=\"text_29\">\n      <!-- 30 -->\n      <g transform=\"translate(311.563636 267.864503)scale(0.1 -0.1)\">\n       <use xlink:href=\"#DejaVuSans-51\"/>\n       <use x=\"63.623047\" xlink:href=\"#DejaVuSans-48\"/>\n      </g>\n     </g>\n    </g>\n   </g>\n   <g id=\"patch_8\">\n    <path d=\"M 331.288636 275.954489 \nL 331.288636 22.318125 \n\" style=\"fill:none;stroke:#000000;stroke-linecap:square;stroke-linejoin:miter;stroke-width:0.8;\"/>\n   </g>\n   <g id=\"patch_9\">\n    <path d=\"M 584.925 275.954489 \nL 584.925 22.318125 \n\" style=\"fill:none;stroke:#000000;stroke-linecap:square;stroke-linejoin:miter;stroke-width:0.8;\"/>\n   </g>\n   <g id=\"patch_10\">\n    <path d=\"M 331.288636 275.954489 \nL 584.925 275.954489 \n\" style=\"fill:none;stroke:#000000;stroke-linecap:square;stroke-linejoin:miter;stroke-width:0.8;\"/>\n   </g>\n   <g id=\"patch_11\">\n    <path d=\"M 331.288636 22.318125 \nL 584.925 22.318125 \n\" style=\"fill:none;stroke:#000000;stroke-linecap:square;stroke-linejoin:miter;stroke-width:0.8;\"/>\n   </g>\n   <g id=\"text_30\">\n    <!-- input -->\n    <g transform=\"translate(442.673693 16.318125)scale(0.12 -0.12)\">\n     <defs>\n      <path d=\"M 9.421875 54.6875 \nL 18.40625 54.6875 \nL 18.40625 0 \nL 9.421875 0 \nz\nM 9.421875 75.984375 \nL 18.40625 75.984375 \nL 18.40625 64.59375 \nL 9.421875 64.59375 \nz\n\" id=\"DejaVuSans-105\"/>\n      <path d=\"M 54.890625 33.015625 \nL 54.890625 0 \nL 45.90625 0 \nL 45.90625 32.71875 \nQ 45.90625 40.484375 42.875 44.328125 \nQ 39.84375 48.1875 33.796875 48.1875 \nQ 26.515625 48.1875 22.3125 43.546875 \nQ 18.109375 38.921875 18.109375 30.90625 \nL 18.109375 0 \nL 9.078125 0 \nL 9.078125 54.6875 \nL 18.109375 54.6875 \nL 18.109375 46.1875 \nQ 21.34375 51.125 25.703125 53.5625 \nQ 30.078125 56 35.796875 56 \nQ 45.21875 56 50.046875 50.171875 \nQ 54.890625 44.34375 54.890625 33.015625 \nz\n\" id=\"DejaVuSans-110\"/>\n     </defs>\n     <use xlink:href=\"#DejaVuSans-105\"/>\n     <use x=\"27.783203\" xlink:href=\"#DejaVuSans-110\"/>\n     <use x=\"91.162109\" xlink:href=\"#DejaVuSans-112\"/>\n     <use x=\"154.638672\" xlink:href=\"#DejaVuSans-117\"/>\n     <use x=\"218.017578\" xlink:href=\"#DejaVuSans-116\"/>\n    </g>\n   </g>\n  </g>\n </g>\n <defs>\n  <clipPath id=\"pe1d3918ed0\">\n   <rect height=\"253.636364\" width=\"253.636364\" x=\"26.925\" y=\"22.318125\"/>\n  </clipPath>\n  <clipPath id=\"pb7580c0be9\">\n   <rect height=\"253.636364\" width=\"253.636364\" x=\"331.288636\" y=\"22.318125\"/>\n  </clipPath>\n </defs>\n</svg>\n",
      "image/png": "[encoded data removed]"
     },
     "metadata": {
      "needs_background": "light"
     }
    }
   ],
   "source": [
    "output = conv(img.unsqueeze(0))\n",
    "plt.figure(figsize=(10, 4.8))\n",
    "ax1 = plt.subplot(1, 2, 1)\n",
    "plt.title('output')\n",
    "plt.imshow(output[0, 0].detach(), cmap='gray')\n",
    "plt.subplot(1, 2, 2, sharex=ax1, sharey=ax1)\n",
    "plt.imshow(img.mean(0), cmap='gray')\n",
    "plt.title('input')\n",
    "plt.savefig('Ch8_F4_PyTorch.png')\n",
    "plt.show()"
   ]
  },
  {
   "cell_type": "code",
   "execution_count": 19,
   "metadata": {},
   "outputs": [],
   "source": [
    "conv = nn.Conv2d(3, 1, kernel_size=3, padding=1)\n",
    "\n",
    "with torch.no_grad():\n",
    "    conv.weight[:] = torch.tensor([\n",
    "        [-1.0, 0.0, 1.0],\n",
    "        [-1.0, 0.0, 1.0],\n",
    "        [-1.0, 0.0, 1.0]\n",
    "    ])\n",
    "    conv.bias.zero_()"
   ]
  },
  {
   "cell_type": "code",
   "execution_count": 20,
   "metadata": {},
   "outputs": [
    {
     "output_type": "display_data",
     "data": {
      "text/plain": "<Figure size 720x345.6 with 2 Axes>",
      "image/svg+xml": "<?xml version=\"1.0\" encoding=\"utf-8\" standalone=\"no\"?>\n<!DOCTYPE svg PUBLIC \"-//W3C//DTD SVG 1.1//EN\"\n  \"http://www.w3.org/Graphics/SVG/1.1/DTD/svg11.dtd\">\n<!-- Created with matplotlib (https://matplotlib.org/) -->\n<svg height=\"299.832614pt\" version=\"1.1\" viewBox=\"0 0 592.125 299.832614\" width=\"592.125pt\" xmlns=\"http://www.w3.org/2000/svg\" xmlns:xlink=\"http://www.w3.org/1999/xlink\">\n <metadata>\n  <rdf:RDF xmlns:cc=\"http://creativecommons.org/ns#\" xmlns:dc=\"http://purl.org/dc/elements/1.1/\" xmlns:rdf=\"http://www.w3.org/1999/02/22-rdf-syntax-ns#\">\n   <cc:Work>\n    <dc:type rdf:resource=\"http://purl.org/dc/dcmitype/StillImage\"/>\n    <dc:date>2020-10-27T17:43:38.888640</dc:date>\n    <dc:format>image/svg+xml</dc:format>\n    <dc:creator>\n     <cc:Agent>\n      <dc:title>Matplotlib v3.3.1, https://matplotlib.org/</dc:title>\n     </cc:Agent>\n    </dc:creator>\n   </cc:Work>\n  </rdf:RDF>\n </metadata>\n <defs>\n  <style type=\"text/css\">*{stroke-linecap:butt;stroke-linejoin:round;}</style>\n </defs>\n <g id=\"figure_1\">\n  <g id=\"patch_1\">\n   <path d=\"M 0 299.832614 \nL 592.125 299.832614 \nL 592.125 0 \nL 0 0 \nz\n\" style=\"fill:none;\"/>\n  </g>\n  <g id=\"axes_1\">\n   <g id=\"patch_2\">\n    <path d=\"M 26.925 275.954489 \nL 280.561364 275.954489 \nL 280.561364 22.318125 \nL 26.925 22.318125 \nz\n\" style=\"fill:#ffffff;\"/>\n   </g>\n   <g clip-path=\"url(#p05c779c5d6)\">\n    <image height=\"254\" id=\"imagef6a6100e56\" transform=\"scale(1 -1)translate(0 -254)\" width=\"254\" x=\"26.925\" xlink:href=\"data:image/png;base64,\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\" y=\"-21.954489\"/>\n   </g>\n   <g id=\"matplotlib.axis_1\">\n    <g id=\"xtick_1\">\n     <g id=\"line2d_1\">\n      <defs>\n       <path d=\"M 0 0 \nL 0 3.5 \n\" id=\"m05dc786fcc\" style=\"stroke:#000000;stroke-width:0.8;\"/>\n      </defs>\n      <g>\n       <use style=\"stroke:#000000;stroke-width:0.8;\" x=\"30.888068\" xlink:href=\"#m05dc786fcc\" y=\"275.954489\"/>\n      </g>\n     </g>\n     <g id=\"text_1\">\n      <!-- 0 -->\n      <g transform=\"translate(27.706818 290.552926)scale(0.1 -0.1)\">\n       <defs>\n        <path d=\"M 31.78125 66.40625 \nQ 24.171875 66.40625 20.328125 58.90625 \nQ 16.5 51.421875 16.5 36.375 \nQ 16.5 21.390625 20.328125 13.890625 \nQ 24.171875 6.390625 31.78125 6.390625 \nQ 39.453125 6.390625 43.28125 13.890625 \nQ 47.125 21.390625 47.125 36.375 \nQ 47.125 51.421875 43.28125 58.90625 \nQ 39.453125 66.40625 31.78125 66.40625 \nz\nM 31.78125 74.21875 \nQ 44.046875 74.21875 50.515625 64.515625 \nQ 56.984375 54.828125 56.984375 36.375 \nQ 56.984375 17.96875 50.515625 8.265625 \nQ 44.046875 -1.421875 31.78125 -1.421875 \nQ 19.53125 -1.421875 13.0625 8.265625 \nQ 6.59375 17.96875 6.59375 36.375 \nQ 6.59375 54.828125 13.0625 64.515625 \nQ 19.53125 74.21875 31.78125 74.21875 \nz\n\" id=\"DejaVuSans-48\"/>\n       </defs>\n       <use xlink:href=\"#DejaVuSans-48\"/>\n      </g>\n     </g>\n    </g>\n    <g id=\"xtick_2\">\n     <g id=\"line2d_2\">\n      <g>\n       <use style=\"stroke:#000000;stroke-width:0.8;\" x=\"70.51875\" xlink:href=\"#m05dc786fcc\" y=\"275.954489\"/>\n      </g>\n     </g>\n     <g id=\"text_2\">\n      <!-- 5 -->\n      <g transform=\"translate(67.3375 290.552926)scale(0.1 -0.1)\">\n       <defs>\n        <path d=\"M 10.796875 72.90625 \nL 49.515625 72.90625 \nL 49.515625 64.59375 \nL 19.828125 64.59375 \nL 19.828125 46.734375 \nQ 21.96875 47.46875 24.109375 47.828125 \nQ 26.265625 48.1875 28.421875 48.1875 \nQ 40.625 48.1875 47.75 41.5 \nQ 54.890625 34.8125 54.890625 23.390625 \nQ 54.890625 11.625 47.5625 5.09375 \nQ 40.234375 -1.421875 26.90625 -1.421875 \nQ 22.3125 -1.421875 17.546875 -0.640625 \nQ 12.796875 0.140625 7.71875 1.703125 \nL 7.71875 11.625 \nQ 12.109375 9.234375 16.796875 8.0625 \nQ 21.484375 6.890625 26.703125 6.890625 \nQ 35.15625 6.890625 40.078125 11.328125 \nQ 45.015625 15.765625 45.015625 23.390625 \nQ 45.015625 31 40.078125 35.4375 \nQ 35.15625 39.890625 26.703125 39.890625 \nQ 22.75 39.890625 18.8125 39.015625 \nQ 14.890625 38.140625 10.796875 36.28125 \nz\n\" id=\"DejaVuSans-53\"/>\n       </defs>\n       <use xlink:href=\"#DejaVuSans-53\"/>\n      </g>\n     </g>\n    </g>\n    <g id=\"xtick_3\">\n     <g id=\"line2d_3\">\n      <g>\n       <use style=\"stroke:#000000;stroke-width:0.8;\" x=\"110.149432\" xlink:href=\"#m05dc786fcc\" y=\"275.954489\"/>\n      </g>\n     </g>\n     <g id=\"text_3\">\n      <!-- 10 -->\n      <g transform=\"translate(103.786932 290.552926)scale(0.1 -0.1)\">\n       <defs>\n        <path d=\"M 12.40625 8.296875 \nL 28.515625 8.296875 \nL 28.515625 63.921875 \nL 10.984375 60.40625 \nL 10.984375 69.390625 \nL 28.421875 72.90625 \nL 38.28125 72.90625 \nL 38.28125 8.296875 \nL 54.390625 8.296875 \nL 54.390625 0 \nL 12.40625 0 \nz\n\" id=\"DejaVuSans-49\"/>\n       </defs>\n       <use xlink:href=\"#DejaVuSans-49\"/>\n       <use x=\"63.623047\" xlink:href=\"#DejaVuSans-48\"/>\n      </g>\n     </g>\n    </g>\n    <g id=\"xtick_4\">\n     <g id=\"line2d_4\">\n      <g>\n       <use style=\"stroke:#000000;stroke-width:0.8;\" x=\"149.780114\" xlink:href=\"#m05dc786fcc\" y=\"275.954489\"/>\n      </g>\n     </g>\n     <g id=\"text_4\">\n      <!-- 15 -->\n      <g transform=\"translate(143.417614 290.552926)scale(0.1 -0.1)\">\n       <use xlink:href=\"#DejaVuSans-49\"/>\n       <use x=\"63.623047\" xlink:href=\"#DejaVuSans-53\"/>\n      </g>\n     </g>\n    </g>\n    <g id=\"xtick_5\">\n     <g id=\"line2d_5\">\n      <g>\n       <use style=\"stroke:#000000;stroke-width:0.8;\" x=\"189.410795\" xlink:href=\"#m05dc786fcc\" y=\"275.954489\"/>\n      </g>\n     </g>\n     <g id=\"text_5\">\n      <!-- 20 -->\n      <g transform=\"translate(183.048295 290.552926)scale(0.1 -0.1)\">\n       <defs>\n        <path d=\"M 19.1875 8.296875 \nL 53.609375 8.296875 \nL 53.609375 0 \nL 7.328125 0 \nL 7.328125 8.296875 \nQ 12.9375 14.109375 22.625 23.890625 \nQ 32.328125 33.6875 34.8125 36.53125 \nQ 39.546875 41.84375 41.421875 45.53125 \nQ 43.3125 49.21875 43.3125 52.78125 \nQ 43.3125 58.59375 39.234375 62.25 \nQ 35.15625 65.921875 28.609375 65.921875 \nQ 23.96875 65.921875 18.8125 64.3125 \nQ 13.671875 62.703125 7.8125 59.421875 \nL 7.8125 69.390625 \nQ 13.765625 71.78125 18.9375 73 \nQ 24.125 74.21875 28.421875 74.21875 \nQ 39.75 74.21875 46.484375 68.546875 \nQ 53.21875 62.890625 53.21875 53.421875 \nQ 53.21875 48.921875 51.53125 44.890625 \nQ 49.859375 40.875 45.40625 35.40625 \nQ 44.1875 33.984375 37.640625 27.21875 \nQ 31.109375 20.453125 19.1875 8.296875 \nz\n\" id=\"DejaVuSans-50\"/>\n       </defs>\n       <use xlink:href=\"#DejaVuSans-50\"/>\n       <use x=\"63.623047\" xlink:href=\"#DejaVuSans-48\"/>\n      </g>\n     </g>\n    </g>\n    <g id=\"xtick_6\">\n     <g id=\"line2d_6\">\n      <g>\n       <use style=\"stroke:#000000;stroke-width:0.8;\" x=\"229.041477\" xlink:href=\"#m05dc786fcc\" y=\"275.954489\"/>\n      </g>\n     </g>\n     <g id=\"text_6\">\n      <!-- 25 -->\n      <g transform=\"translate(222.678977 290.552926)scale(0.1 -0.1)\">\n       <use xlink:href=\"#DejaVuSans-50\"/>\n       <use x=\"63.623047\" xlink:href=\"#DejaVuSans-53\"/>\n      </g>\n     </g>\n    </g>\n    <g id=\"xtick_7\">\n     <g id=\"line2d_7\">\n      <g>\n       <use style=\"stroke:#000000;stroke-width:0.8;\" x=\"268.672159\" xlink:href=\"#m05dc786fcc\" y=\"275.954489\"/>\n      </g>\n     </g>\n     <g id=\"text_7\">\n      <!-- 30 -->\n      <g transform=\"translate(262.309659 290.552926)scale(0.1 -0.1)\">\n       <defs>\n        <path d=\"M 40.578125 39.3125 \nQ 47.65625 37.796875 51.625 33 \nQ 55.609375 28.21875 55.609375 21.1875 \nQ 55.609375 10.40625 48.1875 4.484375 \nQ 40.765625 -1.421875 27.09375 -1.421875 \nQ 22.515625 -1.421875 17.65625 -0.515625 \nQ 12.796875 0.390625 7.625 2.203125 \nL 7.625 11.71875 \nQ 11.71875 9.328125 16.59375 8.109375 \nQ 21.484375 6.890625 26.8125 6.890625 \nQ 36.078125 6.890625 40.9375 10.546875 \nQ 45.796875 14.203125 45.796875 21.1875 \nQ 45.796875 27.640625 41.28125 31.265625 \nQ 36.765625 34.90625 28.71875 34.90625 \nL 20.21875 34.90625 \nL 20.21875 43.015625 \nL 29.109375 43.015625 \nQ 36.375 43.015625 40.234375 45.921875 \nQ 44.09375 48.828125 44.09375 54.296875 \nQ 44.09375 59.90625 40.109375 62.90625 \nQ 36.140625 65.921875 28.71875 65.921875 \nQ 24.65625 65.921875 20.015625 65.03125 \nQ 15.375 64.15625 9.8125 62.3125 \nL 9.8125 71.09375 \nQ 15.4375 72.65625 20.34375 73.4375 \nQ 25.25 74.21875 29.59375 74.21875 \nQ 40.828125 74.21875 47.359375 69.109375 \nQ 53.90625 64.015625 53.90625 55.328125 \nQ 53.90625 49.265625 50.4375 45.09375 \nQ 46.96875 40.921875 40.578125 39.3125 \nz\n\" id=\"DejaVuSans-51\"/>\n       </defs>\n       <use xlink:href=\"#DejaVuSans-51\"/>\n       <use x=\"63.623047\" xlink:href=\"#DejaVuSans-48\"/>\n      </g>\n     </g>\n    </g>\n   </g>\n   <g id=\"matplotlib.axis_2\">\n    <g id=\"ytick_1\">\n     <g id=\"line2d_8\">\n      <defs>\n       <path d=\"M 0 0 \nL -3.5 0 \n\" id=\"m635bb02086\" style=\"stroke:#000000;stroke-width:0.8;\"/>\n      </defs>\n      <g>\n       <use style=\"stroke:#000000;stroke-width:0.8;\" x=\"26.925\" xlink:href=\"#m635bb02086\" y=\"26.281193\"/>\n      </g>\n     </g>\n     <g id=\"text_8\">\n      <!-- 0 -->\n      <g transform=\"translate(13.5625 30.080412)scale(0.1 -0.1)\">\n       <use xlink:href=\"#DejaVuSans-48\"/>\n      </g>\n     </g>\n    </g>\n    <g id=\"ytick_2\">\n     <g id=\"line2d_9\">\n      <g>\n       <use style=\"stroke:#000000;stroke-width:0.8;\" x=\"26.925\" xlink:href=\"#m635bb02086\" y=\"65.911875\"/>\n      </g>\n     </g>\n     <g id=\"text_9\">\n      <!-- 5 -->\n      <g transform=\"translate(13.5625 69.711094)scale(0.1 -0.1)\">\n       <use xlink:href=\"#DejaVuSans-53\"/>\n      </g>\n     </g>\n    </g>\n    <g id=\"ytick_3\">\n     <g id=\"line2d_10\">\n      <g>\n       <use style=\"stroke:#000000;stroke-width:0.8;\" x=\"26.925\" xlink:href=\"#m635bb02086\" y=\"105.542557\"/>\n      </g>\n     </g>\n     <g id=\"text_10\">\n      <!-- 10 -->\n      <g transform=\"translate(7.2 109.341776)scale(0.1 -0.1)\">\n       <use xlink:href=\"#DejaVuSans-49\"/>\n       <use x=\"63.623047\" xlink:href=\"#DejaVuSans-48\"/>\n      </g>\n     </g>\n    </g>\n    <g id=\"ytick_4\">\n     <g id=\"line2d_11\">\n      <g>\n       <use style=\"stroke:#000000;stroke-width:0.8;\" x=\"26.925\" xlink:href=\"#m635bb02086\" y=\"145.173239\"/>\n      </g>\n     </g>\n     <g id=\"text_11\">\n      <!-- 15 -->\n      <g transform=\"translate(7.2 148.972457)scale(0.1 -0.1)\">\n       <use xlink:href=\"#DejaVuSans-49\"/>\n       <use x=\"63.623047\" xlink:href=\"#DejaVuSans-53\"/>\n      </g>\n     </g>\n    </g>\n    <g id=\"ytick_5\">\n     <g id=\"line2d_12\">\n      <g>\n       <use style=\"stroke:#000000;stroke-width:0.8;\" x=\"26.925\" xlink:href=\"#m635bb02086\" y=\"184.80392\"/>\n      </g>\n     </g>\n     <g id=\"text_12\">\n      <!-- 20 -->\n      <g transform=\"translate(7.2 188.603139)scale(0.1 -0.1)\">\n       <use xlink:href=\"#DejaVuSans-50\"/>\n       <use x=\"63.623047\" xlink:href=\"#DejaVuSans-48\"/>\n      </g>\n     </g>\n    </g>\n    <g id=\"ytick_6\">\n     <g id=\"line2d_13\">\n      <g>\n       <use style=\"stroke:#000000;stroke-width:0.8;\" x=\"26.925\" xlink:href=\"#m635bb02086\" y=\"224.434602\"/>\n      </g>\n     </g>\n     <g id=\"text_13\">\n      <!-- 25 -->\n      <g transform=\"translate(7.2 228.233821)scale(0.1 -0.1)\">\n       <use xlink:href=\"#DejaVuSans-50\"/>\n       <use x=\"63.623047\" xlink:href=\"#DejaVuSans-53\"/>\n      </g>\n     </g>\n    </g>\n    <g id=\"ytick_7\">\n     <g id=\"line2d_14\">\n      <g>\n       <use style=\"stroke:#000000;stroke-width:0.8;\" x=\"26.925\" xlink:href=\"#m635bb02086\" y=\"264.065284\"/>\n      </g>\n     </g>\n     <g id=\"text_14\">\n      <!-- 30 -->\n      <g transform=\"translate(7.2 267.864503)scale(0.1 -0.1)\">\n       <use xlink:href=\"#DejaVuSans-51\"/>\n       <use x=\"63.623047\" xlink:href=\"#DejaVuSans-48\"/>\n      </g>\n     </g>\n    </g>\n   </g>\n   <g id=\"patch_3\">\n    <path d=\"M 26.925 275.954489 \nL 26.925 22.318125 \n\" style=\"fill:none;stroke:#000000;stroke-linecap:square;stroke-linejoin:miter;stroke-width:0.8;\"/>\n   </g>\n   <g id=\"patch_4\">\n    <path d=\"M 280.561364 275.954489 \nL 280.561364 22.318125 \n\" style=\"fill:none;stroke:#000000;stroke-linecap:square;stroke-linejoin:miter;stroke-width:0.8;\"/>\n   </g>\n   <g id=\"patch_5\">\n    <path d=\"M 26.925 275.954489 \nL 280.561364 275.954489 \n\" style=\"fill:none;stroke:#000000;stroke-linecap:square;stroke-linejoin:miter;stroke-width:0.8;\"/>\n   </g>\n   <g id=\"patch_6\">\n    <path d=\"M 26.925 22.318125 \nL 280.561364 22.318125 \n\" style=\"fill:none;stroke:#000000;stroke-linecap:square;stroke-linejoin:miter;stroke-width:0.8;\"/>\n   </g>\n   <g id=\"text_15\">\n    <!-- output -->\n    <g transform=\"translate(133.953494 16.318125)scale(0.12 -0.12)\">\n     <defs>\n      <path d=\"M 30.609375 48.390625 \nQ 23.390625 48.390625 19.1875 42.75 \nQ 14.984375 37.109375 14.984375 27.296875 \nQ 14.984375 17.484375 19.15625 11.84375 \nQ 23.34375 6.203125 30.609375 6.203125 \nQ 37.796875 6.203125 41.984375 11.859375 \nQ 46.1875 17.53125 46.1875 27.296875 \nQ 46.1875 37.015625 41.984375 42.703125 \nQ 37.796875 48.390625 30.609375 48.390625 \nz\nM 30.609375 56 \nQ 42.328125 56 49.015625 48.375 \nQ 55.71875 40.765625 55.71875 27.296875 \nQ 55.71875 13.875 49.015625 6.21875 \nQ 42.328125 -1.421875 30.609375 -1.421875 \nQ 18.84375 -1.421875 12.171875 6.21875 \nQ 5.515625 13.875 5.515625 27.296875 \nQ 5.515625 40.765625 12.171875 48.375 \nQ 18.84375 56 30.609375 56 \nz\n\" id=\"DejaVuSans-111\"/>\n      <path d=\"M 8.5 21.578125 \nL 8.5 54.6875 \nL 17.484375 54.6875 \nL 17.484375 21.921875 \nQ 17.484375 14.15625 20.5 10.265625 \nQ 23.53125 6.390625 29.59375 6.390625 \nQ 36.859375 6.390625 41.078125 11.03125 \nQ 45.3125 15.671875 45.3125 23.6875 \nL 45.3125 54.6875 \nL 54.296875 54.6875 \nL 54.296875 0 \nL 45.3125 0 \nL 45.3125 8.40625 \nQ 42.046875 3.421875 37.71875 1 \nQ 33.40625 -1.421875 27.6875 -1.421875 \nQ 18.265625 -1.421875 13.375 4.4375 \nQ 8.5 10.296875 8.5 21.578125 \nz\nM 31.109375 56 \nz\n\" id=\"DejaVuSans-117\"/>\n      <path d=\"M 18.3125 70.21875 \nL 18.3125 54.6875 \nL 36.8125 54.6875 \nL 36.8125 47.703125 \nL 18.3125 47.703125 \nL 18.3125 18.015625 \nQ 18.3125 11.328125 20.140625 9.421875 \nQ 21.96875 7.515625 27.59375 7.515625 \nL 36.8125 7.515625 \nL 36.8125 0 \nL 27.59375 0 \nQ 17.1875 0 13.234375 3.875 \nQ 9.28125 7.765625 9.28125 18.015625 \nL 9.28125 47.703125 \nL 2.6875 47.703125 \nL 2.6875 54.6875 \nL 9.28125 54.6875 \nL 9.28125 70.21875 \nz\n\" id=\"DejaVuSans-116\"/>\n      <path d=\"M 18.109375 8.203125 \nL 18.109375 -20.796875 \nL 9.078125 -20.796875 \nL 9.078125 54.6875 \nL 18.109375 54.6875 \nL 18.109375 46.390625 \nQ 20.953125 51.265625 25.265625 53.625 \nQ 29.59375 56 35.59375 56 \nQ 45.5625 56 51.78125 48.09375 \nQ 58.015625 40.1875 58.015625 27.296875 \nQ 58.015625 14.40625 51.78125 6.484375 \nQ 45.5625 -1.421875 35.59375 -1.421875 \nQ 29.59375 -1.421875 25.265625 0.953125 \nQ 20.953125 3.328125 18.109375 8.203125 \nz\nM 48.6875 27.296875 \nQ 48.6875 37.203125 44.609375 42.84375 \nQ 40.53125 48.484375 33.40625 48.484375 \nQ 26.265625 48.484375 22.1875 42.84375 \nQ 18.109375 37.203125 18.109375 27.296875 \nQ 18.109375 17.390625 22.1875 11.75 \nQ 26.265625 6.109375 33.40625 6.109375 \nQ 40.53125 6.109375 44.609375 11.75 \nQ 48.6875 17.390625 48.6875 27.296875 \nz\n\" id=\"DejaVuSans-112\"/>\n     </defs>\n     <use xlink:href=\"#DejaVuSans-111\"/>\n     <use x=\"61.181641\" xlink:href=\"#DejaVuSans-117\"/>\n     <use x=\"124.560547\" xlink:href=\"#DejaVuSans-116\"/>\n     <use x=\"163.769531\" xlink:href=\"#DejaVuSans-112\"/>\n     <use x=\"227.246094\" xlink:href=\"#DejaVuSans-117\"/>\n     <use x=\"290.625\" xlink:href=\"#DejaVuSans-116\"/>\n    </g>\n   </g>\n  </g>\n  <g id=\"axes_2\">\n   <g id=\"patch_7\">\n    <path d=\"M 331.288636 275.954489 \nL 584.925 275.954489 \nL 584.925 22.318125 \nL 331.288636 22.318125 \nz\n\" style=\"fill:#ffffff;\"/>\n   </g>\n   <g clip-path=\"url(#pc323bb7871)\">\n    <image height=\"254\" id=\"image40e692a3db\" transform=\"scale(1 -1)translate(0 -254)\" width=\"254\" x=\"331.288636\" xlink:href=\"data:image/png;base64,\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\" y=\"-21.954489\"/>\n   </g>\n   <g id=\"matplotlib.axis_3\">\n    <g id=\"xtick_8\">\n     <g id=\"line2d_15\">\n      <g>\n       <use style=\"stroke:#000000;stroke-width:0.8;\" x=\"335.251705\" xlink:href=\"#m05dc786fcc\" y=\"275.954489\"/>\n      </g>\n     </g>\n     <g id=\"text_16\">\n      <!-- 0 -->\n      <g transform=\"translate(332.070455 290.552926)scale(0.1 -0.1)\">\n       <use xlink:href=\"#DejaVuSans-48\"/>\n      </g>\n     </g>\n    </g>\n    <g id=\"xtick_9\">\n     <g id=\"line2d_16\">\n      <g>\n       <use style=\"stroke:#000000;stroke-width:0.8;\" x=\"374.882386\" xlink:href=\"#m05dc786fcc\" y=\"275.954489\"/>\n      </g>\n     </g>\n     <g id=\"text_17\">\n      <!-- 5 -->\n      <g transform=\"translate(371.701136 290.552926)scale(0.1 -0.1)\">\n       <use xlink:href=\"#DejaVuSans-53\"/>\n      </g>\n     </g>\n    </g>\n    <g id=\"xtick_10\">\n     <g id=\"line2d_17\">\n      <g>\n       <use style=\"stroke:#000000;stroke-width:0.8;\" x=\"414.513068\" xlink:href=\"#m05dc786fcc\" y=\"275.954489\"/>\n      </g>\n     </g>\n     <g id=\"text_18\">\n      <!-- 10 -->\n      <g transform=\"translate(408.150568 290.552926)scale(0.1 -0.1)\">\n       <use xlink:href=\"#DejaVuSans-49\"/>\n       <use x=\"63.623047\" xlink:href=\"#DejaVuSans-48\"/>\n      </g>\n     </g>\n    </g>\n    <g id=\"xtick_11\">\n     <g id=\"line2d_18\">\n      <g>\n       <use style=\"stroke:#000000;stroke-width:0.8;\" x=\"454.14375\" xlink:href=\"#m05dc786fcc\" y=\"275.954489\"/>\n      </g>\n     </g>\n     <g id=\"text_19\">\n      <!-- 15 -->\n      <g transform=\"translate(447.78125 290.552926)scale(0.1 -0.1)\">\n       <use xlink:href=\"#DejaVuSans-49\"/>\n       <use x=\"63.623047\" xlink:href=\"#DejaVuSans-53\"/>\n      </g>\n     </g>\n    </g>\n    <g id=\"xtick_12\">\n     <g id=\"line2d_19\">\n      <g>\n       <use style=\"stroke:#000000;stroke-width:0.8;\" x=\"493.774432\" xlink:href=\"#m05dc786fcc\" y=\"275.954489\"/>\n      </g>\n     </g>\n     <g id=\"text_20\">\n      <!-- 20 -->\n      <g transform=\"translate(487.411932 290.552926)scale(0.1 -0.1)\">\n       <use xlink:href=\"#DejaVuSans-50\"/>\n       <use x=\"63.623047\" xlink:href=\"#DejaVuSans-48\"/>\n      </g>\n     </g>\n    </g>\n    <g id=\"xtick_13\">\n     <g id=\"line2d_20\">\n      <g>\n       <use style=\"stroke:#000000;stroke-width:0.8;\" x=\"533.405114\" xlink:href=\"#m05dc786fcc\" y=\"275.954489\"/>\n      </g>\n     </g>\n     <g id=\"text_21\">\n      <!-- 25 -->\n      <g transform=\"translate(527.042614 290.552926)scale(0.1 -0.1)\">\n       <use xlink:href=\"#DejaVuSans-50\"/>\n       <use x=\"63.623047\" xlink:href=\"#DejaVuSans-53\"/>\n      </g>\n     </g>\n    </g>\n    <g id=\"xtick_14\">\n     <g id=\"line2d_21\">\n      <g>\n       <use style=\"stroke:#000000;stroke-width:0.8;\" x=\"573.035795\" xlink:href=\"#m05dc786fcc\" y=\"275.954489\"/>\n      </g>\n     </g>\n     <g id=\"text_22\">\n      <!-- 30 -->\n      <g transform=\"translate(566.673295 290.552926)scale(0.1 -0.1)\">\n       <use xlink:href=\"#DejaVuSans-51\"/>\n       <use x=\"63.623047\" xlink:href=\"#DejaVuSans-48\"/>\n      </g>\n     </g>\n    </g>\n   </g>\n   <g id=\"matplotlib.axis_4\">\n    <g id=\"ytick_8\">\n     <g id=\"line2d_22\">\n      <g>\n       <use style=\"stroke:#000000;stroke-width:0.8;\" x=\"331.288636\" xlink:href=\"#m635bb02086\" y=\"26.281193\"/>\n      </g>\n     </g>\n     <g id=\"text_23\">\n      <!-- 0 -->\n      <g transform=\"translate(317.926136 30.080412)scale(0.1 -0.1)\">\n       <use xlink:href=\"#DejaVuSans-48\"/>\n      </g>\n     </g>\n    </g>\n    <g id=\"ytick_9\">\n     <g id=\"line2d_23\">\n      <g>\n       <use style=\"stroke:#000000;stroke-width:0.8;\" x=\"331.288636\" xlink:href=\"#m635bb02086\" y=\"65.911875\"/>\n      </g>\n     </g>\n     <g id=\"text_24\">\n      <!-- 5 -->\n      <g transform=\"translate(317.926136 69.711094)scale(0.1 -0.1)\">\n       <use xlink:href=\"#DejaVuSans-53\"/>\n      </g>\n     </g>\n    </g>\n    <g id=\"ytick_10\">\n     <g id=\"line2d_24\">\n      <g>\n       <use style=\"stroke:#000000;stroke-width:0.8;\" x=\"331.288636\" xlink:href=\"#m635bb02086\" y=\"105.542557\"/>\n      </g>\n     </g>\n     <g id=\"text_25\">\n      <!-- 10 -->\n      <g transform=\"translate(311.563636 109.341776)scale(0.1 -0.1)\">\n       <use xlink:href=\"#DejaVuSans-49\"/>\n       <use x=\"63.623047\" xlink:href=\"#DejaVuSans-48\"/>\n      </g>\n     </g>\n    </g>\n    <g id=\"ytick_11\">\n     <g id=\"line2d_25\">\n      <g>\n       <use style=\"stroke:#000000;stroke-width:0.8;\" x=\"331.288636\" xlink:href=\"#m635bb02086\" y=\"145.173239\"/>\n      </g>\n     </g>\n     <g id=\"text_26\">\n      <!-- 15 -->\n      <g transform=\"translate(311.563636 148.972457)scale(0.1 -0.1)\">\n       <use xlink:href=\"#DejaVuSans-49\"/>\n       <use x=\"63.623047\" xlink:href=\"#DejaVuSans-53\"/>\n      </g>\n     </g>\n    </g>\n    <g id=\"ytick_12\">\n     <g id=\"line2d_26\">\n      <g>\n       <use style=\"stroke:#000000;stroke-width:0.8;\" x=\"331.288636\" xlink:href=\"#m635bb02086\" y=\"184.80392\"/>\n      </g>\n     </g>\n     <g id=\"text_27\">\n      <!-- 20 -->\n      <g transform=\"translate(311.563636 188.603139)scale(0.1 -0.1)\">\n       <use xlink:href=\"#DejaVuSans-50\"/>\n       <use x=\"63.623047\" xlink:href=\"#DejaVuSans-48\"/>\n      </g>\n     </g>\n    </g>\n    <g id=\"ytick_13\">\n     <g id=\"line2d_27\">\n      <g>\n       <use style=\"stroke:#000000;stroke-width:0.8;\" x=\"331.288636\" xlink:href=\"#m635bb02086\" y=\"224.434602\"/>\n      </g>\n     </g>\n     <g id=\"text_28\">\n      <!-- 25 -->\n      <g transform=\"translate(311.563636 228.233821)scale(0.1 -0.1)\">\n       <use xlink:href=\"#DejaVuSans-50\"/>\n       <use x=\"63.623047\" xlink:href=\"#DejaVuSans-53\"/>\n      </g>\n     </g>\n    </g>\n    <g id=\"ytick_14\">\n     <g id=\"line2d_28\">\n      <g>\n       <use style=\"stroke:#000000;stroke-width:0.8;\" x=\"331.288636\" xlink:href=\"#m635bb02086\" y=\"264.065284\"/>\n      </g>\n     </g>\n     <g id=\"text_29\">\n      <!-- 30 -->\n      <g transform=\"translate(311.563636 267.864503)scale(0.1 -0.1)\">\n       <use xlink:href=\"#DejaVuSans-51\"/>\n       <use x=\"63.623047\" xlink:href=\"#DejaVuSans-48\"/>\n      </g>\n     </g>\n    </g>\n   </g>\n   <g id=\"patch_8\">\n    <path d=\"M 331.288636 275.954489 \nL 331.288636 22.318125 \n\" style=\"fill:none;stroke:#000000;stroke-linecap:square;stroke-linejoin:miter;stroke-width:0.8;\"/>\n   </g>\n   <g id=\"patch_9\">\n    <path d=\"M 584.925 275.954489 \nL 584.925 22.318125 \n\" style=\"fill:none;stroke:#000000;stroke-linecap:square;stroke-linejoin:miter;stroke-width:0.8;\"/>\n   </g>\n   <g id=\"patch_10\">\n    <path d=\"M 331.288636 275.954489 \nL 584.925 275.954489 \n\" style=\"fill:none;stroke:#000000;stroke-linecap:square;stroke-linejoin:miter;stroke-width:0.8;\"/>\n   </g>\n   <g id=\"patch_11\">\n    <path d=\"M 331.288636 22.318125 \nL 584.925 22.318125 \n\" style=\"fill:none;stroke:#000000;stroke-linecap:square;stroke-linejoin:miter;stroke-width:0.8;\"/>\n   </g>\n   <g id=\"text_30\">\n    <!-- input -->\n    <g transform=\"translate(442.673693 16.318125)scale(0.12 -0.12)\">\n     <defs>\n      <path d=\"M 9.421875 54.6875 \nL 18.40625 54.6875 \nL 18.40625 0 \nL 9.421875 0 \nz\nM 9.421875 75.984375 \nL 18.40625 75.984375 \nL 18.40625 64.59375 \nL 9.421875 64.59375 \nz\n\" id=\"DejaVuSans-105\"/>\n      <path d=\"M 54.890625 33.015625 \nL 54.890625 0 \nL 45.90625 0 \nL 45.90625 32.71875 \nQ 45.90625 40.484375 42.875 44.328125 \nQ 39.84375 48.1875 33.796875 48.1875 \nQ 26.515625 48.1875 22.3125 43.546875 \nQ 18.109375 38.921875 18.109375 30.90625 \nL 18.109375 0 \nL 9.078125 0 \nL 9.078125 54.6875 \nL 18.109375 54.6875 \nL 18.109375 46.1875 \nQ 21.34375 51.125 25.703125 53.5625 \nQ 30.078125 56 35.796875 56 \nQ 45.21875 56 50.046875 50.171875 \nQ 54.890625 44.34375 54.890625 33.015625 \nz\n\" id=\"DejaVuSans-110\"/>\n     </defs>\n     <use xlink:href=\"#DejaVuSans-105\"/>\n     <use x=\"27.783203\" xlink:href=\"#DejaVuSans-110\"/>\n     <use x=\"91.162109\" xlink:href=\"#DejaVuSans-112\"/>\n     <use x=\"154.638672\" xlink:href=\"#DejaVuSans-117\"/>\n     <use x=\"218.017578\" xlink:href=\"#DejaVuSans-116\"/>\n    </g>\n   </g>\n  </g>\n </g>\n <defs>\n  <clipPath id=\"p05c779c5d6\">\n   <rect height=\"253.636364\" width=\"253.636364\" x=\"26.925\" y=\"22.318125\"/>\n  </clipPath>\n  <clipPath id=\"pc323bb7871\">\n   <rect height=\"253.636364\" width=\"253.636364\" x=\"331.288636\" y=\"22.318125\"/>\n  </clipPath>\n </defs>\n</svg>\n",
      "image/png": "[encoded data removed]"
     },
     "metadata": {
      "needs_background": "light"
     }
    }
   ],
   "source": [
    "output = conv(img.unsqueeze(0))\n",
    "plt.figure(figsize=(10, 4.8))\n",
    "ax1 = plt.subplot(1, 2, 1)\n",
    "plt.title('output')\n",
    "plt.imshow(output[0, 0].detach(), cmap='gray')\n",
    "plt.subplot(1, 2, 2, sharex= ax1, sharey = ax1)\n",
    "plt.imshow(img.mean(0), cmap='gray')\n",
    "plt.title('input')\n",
    "plt.savefig('Ch8_F5_PyTorch.png')\n",
    "plt.show()"
   ]
  },
  {
   "cell_type": "code",
   "execution_count": 21,
   "metadata": {},
   "outputs": [
    {
     "output_type": "execute_result",
     "data": {
      "text/plain": [
       "(torch.Size([1, 3, 32, 32]), torch.Size([1, 3, 16, 16]))"
      ]
     },
     "metadata": {},
     "execution_count": 21
    }
   ],
   "source": [
    "# downsampling \n",
    "pool = nn.MaxPool2d(2) # half of img\n",
    "output = pool(img.unsqueeze(0))\n",
    "\n",
    "img.unsqueeze(0).shape, output.shape"
   ]
  },
  {
   "cell_type": "code",
   "execution_count": 22,
   "metadata": {},
   "outputs": [],
   "source": [
    "model = nn.Sequential(\n",
    "    nn.Conv2d(3, 16, kernel_size=3, padding=1),\n",
    "    nn.Tanh(),\n",
    "    nn.MaxPool2d(2),\n",
    "    nn.Conv2d(16, 8, kernel_size=3, padding=1),\n",
    "    nn.Tanh(),\n",
    "    nn.MaxPool2d(2),\n",
    ")"
   ]
  },
  {
   "cell_type": "code",
   "execution_count": 23,
   "metadata": {},
   "outputs": [],
   "source": [
    "model = nn.Sequential(\n",
    "    nn.Conv2d(3, 16, kernel_size=3, padding=1),\n",
    "    nn.Tanh(),\n",
    "    nn.MaxPool2d(2),\n",
    "    nn.Conv2d(16, 8, kernel_size=3, padding=1),\n",
    "    nn.Tanh(),\n",
    "    nn.MaxPool2d(2),\n",
    "    \n",
    "    nn.Linear(8 * 8 * 8, 32),\n",
    "    nn.Tanh(),\n",
    "    nn.Linear(32, 2)\n",
    ")"
   ]
  },
  {
   "cell_type": "code",
   "execution_count": 24,
   "metadata": {},
   "outputs": [
    {
     "output_type": "execute_result",
     "data": {
      "text/plain": [
       "Sequential(\n",
       "  (0): Conv2d(3, 16, kernel_size=(3, 3), stride=(1, 1), padding=(1, 1))\n",
       "  (1): Tanh()\n",
       "  (2): MaxPool2d(kernel_size=2, stride=2, padding=0, dilation=1, ceil_mode=False)\n",
       "  (3): Conv2d(16, 8, kernel_size=(3, 3), stride=(1, 1), padding=(1, 1))\n",
       "  (4): Tanh()\n",
       "  (5): MaxPool2d(kernel_size=2, stride=2, padding=0, dilation=1, ceil_mode=False)\n",
       "  (6): Linear(in_features=512, out_features=32, bias=True)\n",
       "  (7): Tanh()\n",
       "  (8): Linear(in_features=32, out_features=2, bias=True)\n",
       ")"
      ]
     },
     "metadata": {},
     "execution_count": 24
    }
   ],
   "source": [
    "model"
   ]
  },
  {
   "cell_type": "code",
   "execution_count": 25,
   "metadata": {},
   "outputs": [
    {
     "output_type": "execute_result",
     "data": {
      "text/plain": [
       "(18090, [432, 16, 1152, 8, 16384, 32, 64, 2])"
      ]
     },
     "metadata": {},
     "execution_count": 25
    }
   ],
   "source": [
    "numel_list = [p.numel() for p in model.parameters()]\n",
    "sum(numel_list), numel_list"
   ]
  },
  {
   "source": [
    "# 5，6层之间形状不对\n",
    "model(img.unsqueeze(0))"
   ],
   "cell_type": "markdown",
   "metadata": {}
  },
  {
   "cell_type": "code",
   "execution_count": 26,
   "metadata": {},
   "outputs": [],
   "source": [
    "class Net(nn.Module):\n",
    "    # 初始化模型\n",
    "    def __init__(self):\n",
    "        super().__init__() # 使用父类所有方法\n",
    "        self.conv1 = nn.Conv2d(3, 16, kernel_size=3, padding=1)\n",
    "        self.act1 = nn.Tanh()\n",
    "        self.pool1 = nn.MaxPool2d(2)\n",
    "        self.conv2 = nn.Conv2d(16, 8, kernel_size=3, padding=1)\n",
    "        self.act2 = nn.Tanh()\n",
    "        self.pool2 = nn.MaxPool2d(2)\n",
    "        self.fc1 = nn.Linear(8 * 8 * 8, 32)\n",
    "        self.act3 = nn.Tanh()\n",
    "        self.fc2 = nn.Linear(32, 2)\n",
    "\n",
    "    def forward(self, x):\n",
    "        out = self.pool1(self.act1(self.conv1(x)))\n",
    "        out = self.pool2(self.act2(self.conv2(out)))\n",
    "        out = out.view(-1, 8 * 8 * 8)\n",
    "        out = self.act3(self.fc1(out))\n",
    "        out = self.fc2(out)\n",
    "        return out"
   ]
  },
  {
   "cell_type": "code",
   "execution_count": 27,
   "metadata": {},
   "outputs": [
    {
     "output_type": "execute_result",
     "data": {
      "text/plain": [
       "(18090, [432, 16, 1152, 8, 16384, 32, 64, 2])"
      ]
     },
     "metadata": {},
     "execution_count": 27
    }
   ],
   "source": [
    "model = Net()\n",
    "\n",
    "numel_list = [p.numel() for p in model.parameters()]\n",
    "sum(numel_list), numel_list"
   ]
  },
  {
   "cell_type": "code",
   "execution_count": 28,
   "metadata": {},
   "outputs": [],
   "source": [
    "import torch.nn.functional as F\n",
    "\n",
    "class Net(nn.Module):\n",
    "    def __init__(self):\n",
    "        super().__init__()\n",
    "        self.conv1 = nn.Conv2d(3, 16, kernel_size=3, padding=1)\n",
    "        self.conv2 = nn.Conv2d(16, 8, kernel_size=3, padding=1)\n",
    "        self.fc1 = nn.Linear(8 * 8 * 8, 32)\n",
    "        self.fc2 = nn.Linear(32, 2)\n",
    "\n",
    "    def forward(self, x):\n",
    "        out = F.max_pool2d(torch.tanh(self.conv1(x)), 2)\n",
    "        out = F.max_pool2d(torch.tanh(self.conv2(out)), 2)\n",
    "        out = out.view(-1, 8 * 8 * 8)\n",
    "        out = torch.tanh(self.fc1(out))\n",
    "        out = self.fc2(out)\n",
    "        return out"
   ]
  },
  {
   "cell_type": "code",
   "execution_count": 29,
   "metadata": {},
   "outputs": [
    {
     "output_type": "execute_result",
     "data": {
      "text/plain": [
       "tensor([[-0.0157,  0.1143]], grad_fn=<AddmmBackward>)"
      ]
     },
     "metadata": {},
     "execution_count": 29
    }
   ],
   "source": [
    "model = Net()\n",
    "model(img.unsqueeze(0))"
   ]
  },
  {
   "cell_type": "code",
   "execution_count": 30,
   "metadata": {},
   "outputs": [],
   "source": [
    "import datetime\n",
    "\n",
    "def training_loop(n_epochs, optimizer, model, loss_fn, train_loader):\n",
    "    for epoch in range(1, n_epochs + 1):\n",
    "        loss_train = 0.0\n",
    "        for imgs, labels in train_loader:\n",
    "\n",
    "            outputs = model(imgs)\n",
    "\n",
    "            loss = loss_fn(outputs, labels)\n",
    "\n",
    "            optimizer.zero_grad()\n",
    "\n",
    "            loss.backward()\n",
    "\n",
    "            optimizer.step()\n",
    "\n",
    "            loss_train += loss.item()\n",
    "\n",
    "        if epoch == 1 or epoch % 10 == 0:\n",
    "            print('{} Epoch {}, Training loss {}'.format(\n",
    "                datetime.datetime.now(), epoch, loss_train / len(train_loader)\n",
    "            ))"
   ]
  },
  {
   "cell_type": "code",
   "execution_count": 31,
   "metadata": {},
   "outputs": [
    {
     "output_type": "stream",
     "name": "stdout",
     "text": [
      "2020-10-27 17:46:40.707345 Epoch 1, Training loss 0.5634810890361761\n",
      "2020-10-27 17:46:47.582818 Epoch 10, Training loss 0.3277621578638721\n",
      "2020-10-27 17:46:55.180270 Epoch 20, Training loss 0.30351272196906387\n",
      "2020-10-27 17:47:02.759225 Epoch 30, Training loss 0.2825085948796789\n",
      "2020-10-27 17:47:10.301848 Epoch 40, Training loss 0.2611393540338346\n",
      "2020-10-27 17:47:17.912904 Epoch 50, Training loss 0.2410738201467854\n",
      "2020-10-27 17:47:25.617024 Epoch 60, Training loss 0.22000028425531024\n",
      "2020-10-27 17:47:33.364954 Epoch 70, Training loss 0.20374622148503163\n",
      "2020-10-27 17:47:40.185158 Epoch 80, Training loss 0.1894119463054238\n",
      "2020-10-27 17:47:46.824028 Epoch 90, Training loss 0.1728621991291927\n",
      "2020-10-27 17:47:54.097665 Epoch 100, Training loss 0.1614482874987991\n"
     ]
    }
   ],
   "source": [
    "# 开始训练\n",
    "train_loader = torch.utils.data.DataLoader(cifar2, batch_size=64, shuffle=True)\n",
    "\n",
    "model = Net() # 实例化模型\n",
    "optimizer = optim.SGD(model.parameters(), lr = 1e-2)\n",
    "loss_fn = nn.CrossEntropyLoss()\n",
    "\n",
    "training_loop(\n",
    "    n_epochs=100,\n",
    "    optimizer=optimizer,\n",
    "    model=model,\n",
    "    loss_fn=loss_fn,\n",
    "    train_loader=train_loader,\n",
    ")"
   ]
  },
  {
   "cell_type": "code",
   "execution_count": 32,
   "metadata": {},
   "outputs": [
    {
     "output_type": "stream",
     "name": "stdout",
     "text": [
      "accuracy train: 0.93\naccuracy val: 0.89\n"
     ]
    }
   ],
   "source": [
    "train_loader = torch.utils.data.DataLoader(cifar2, batch_size=64, shuffle=False)\n",
    "val_loader = torch.utils.data.DataLoader(cifar2_val, batch_size=64, shuffle=False)\n",
    "\n",
    "def validate(model, train_loader, val_loader):\n",
    "    for name, loader in [(\"train\", train_loader), (\"val\", val_loader)]:\n",
    "        correct = 0\n",
    "        total = 0\n",
    "\n",
    "        with torch.no_grad():\n",
    "            for imgs, labels in loader:\n",
    "                outputs = model(imgs)\n",
    "                _, predicted = torch.max(outputs, dim=1) # Returns a namedtuple (values, indices)\n",
    "                total += labels.shape[0]\n",
    "                correct += int((predicted == labels).sum())\n",
    "\n",
    "        print('accuracy {}: {:.2f}'.format(name, correct / total))\n",
    "\n",
    "validate(model, train_loader, val_loader)"
   ]
  },
  {
   "cell_type": "code",
   "execution_count": 33,
   "metadata": {},
   "outputs": [],
   "source": [
    "# 保存模型\n",
    "# 只保存 weight 和 bias\n",
    "torch.save(model.state_dict(), data_path + 'birds_vs_airplanes.pt')"
   ]
  },
  {
   "cell_type": "code",
   "execution_count": 34,
   "metadata": {},
   "outputs": [
    {
     "output_type": "execute_result",
     "data": {
      "text/plain": [
       "<All keys matched successfully>"
      ]
     },
     "metadata": {},
     "execution_count": 34
    }
   ],
   "source": [
    "# 加载模型\n",
    "loaded_model = Net()\n",
    "loaded_model.load_state_dict(torch.load(data_path + 'birds_vs_airplanes.pt'))"
   ]
  },
  {
   "cell_type": "code",
   "execution_count": 35,
   "metadata": {},
   "outputs": [
    {
     "output_type": "stream",
     "name": "stdout",
     "text": [
      "Training on device cuda.\n"
     ]
    }
   ],
   "source": [
    "device = (torch.device('cuda') if torch.cuda.is_available()\n",
    "else torch.device('cpu'))\n",
    "print(f\"Training on device {device}.\")"
   ]
  },
  {
   "cell_type": "code",
   "execution_count": 36,
   "metadata": {},
   "outputs": [],
   "source": [
    "# 将数据放到gpu上训练\n",
    "import datetime\n",
    "\n",
    "def training_loop(n_epochs, optimizer, model, loss_fn, train_loader):\n",
    "    for epoch in range(1, n_epochs + 1):\n",
    "        loss_train = 0.0\n",
    "        for imgs, labels in train_loader:\n",
    "\n",
    "            imgs = imgs.to(device=device)\n",
    "            labels = labels.to(device=device)\n",
    "\n",
    "            outputs = model(imgs)\n",
    "            loss = loss_fn(outputs, labels)\n",
    "\n",
    "            optimizer.zero_grad()\n",
    "            loss.backward()\n",
    "            optimizer.step()\n",
    "\n",
    "            loss_train += loss.item()\n",
    "\n",
    "        if epoch == 1 or epoch % 10 ==0:\n",
    "            print('{} Epoch {}, Training loss {}'.format(datetime.datetime.now(), epoch, loss_train / len(train_loader)))"
   ]
  },
  {
   "cell_type": "code",
   "execution_count": 37,
   "metadata": {},
   "outputs": [
    {
     "output_type": "stream",
     "name": "stdout",
     "text": [
      "2020-10-27 17:48:57.907200 Epoch 1, Training loss 0.5717792224352527\n",
      "2020-10-27 17:48:59.640826 Epoch 10, Training loss 0.3285275893226551\n",
      "2020-10-27 17:49:01.564645 Epoch 20, Training loss 0.2949430201273815\n",
      "2020-10-27 17:49:03.486984 Epoch 30, Training loss 0.26964475214481354\n",
      "2020-10-27 17:49:05.399588 Epoch 40, Training loss 0.24710934015975636\n",
      "2020-10-27 17:49:07.310876 Epoch 50, Training loss 0.22624936982230015\n",
      "2020-10-27 17:49:09.222629 Epoch 60, Training loss 0.2099768923251492\n",
      "2020-10-27 17:49:11.135430 Epoch 70, Training loss 0.19350984426820353\n",
      "2020-10-27 17:49:13.048893 Epoch 80, Training loss 0.17992867529392242\n",
      "2020-10-27 17:49:14.968861 Epoch 90, Training loss 0.16622693471278355\n",
      "2020-10-27 17:49:16.888856 Epoch 100, Training loss 0.15665086230654626\n"
     ]
    }
   ],
   "source": [
    "train_loader = torch.utils.data.DataLoader(cifar2, batch_size = 64, shuffle=True)\n",
    "\n",
    "model = Net().to(device=device) # gpu\n",
    "optimizer = optim.SGD(model.parameters(), lr=1e-2)\n",
    "loss_fn = nn.CrossEntropyLoss()\n",
    "\n",
    "training_loop(\n",
    "    n_epochs=100, \n",
    "    optimizer=optimizer,\n",
    "    loss_fn=loss_fn,\n",
    "    model=model,\n",
    "    train_loader=train_loader,\n",
    ")"
   ]
  },
  {
   "cell_type": "code",
   "execution_count": 38,
   "metadata": {},
   "outputs": [
    {
     "output_type": "stream",
     "name": "stdout",
     "text": [
      "accuracy train: 0.93\naccuracy val: 0.89\n"
     ]
    }
   ],
   "source": [
    "# 验证中的东西也要放到gpu上\n",
    "train_loader = torch.utils.data.DataLoader(cifar2, batch_size=64, shuffle=False)\n",
    "val_loader = torch.utils.data.DataLoader(cifar2_val, batch_size=64, shuffle=False)\n",
    "all_act_dict = collections.OrderedDict()\n",
    "\n",
    "def validate(model, train_loader, val_loader):\n",
    "    accdict = {}\n",
    "    for name, loader in [(\"train\", train_loader), (\"val\", val_loader)]:\n",
    "        correct = 0\n",
    "        total = 0\n",
    "\n",
    "        with torch.no_grad():\n",
    "            for imgs, labels in loader:\n",
    "                imgs = imgs.to(device=device)\n",
    "                labels = labels.to(device=device)\n",
    "\n",
    "                outpus = model(imgs)\n",
    "                _, predicted = torch.max(outpus, dim=1)\n",
    "                total += labels.shape[0]\n",
    "                correct += int((predicted == labels).sum())\n",
    "        \n",
    "        print(\"accuracy {}: {:.2f}\".format(name, correct/total))\n",
    "        accdict[name] = correct / total\n",
    "    \n",
    "    return accdict\n",
    "\n",
    "all_act_dict[\"baseline\"] = validate(model, train_loader, val_loader)\n"
   ]
  },
  {
   "cell_type": "code",
   "execution_count": 39,
   "metadata": {},
   "outputs": [
    {
     "output_type": "execute_result",
     "data": {
      "text/plain": [
       "<All keys matched successfully>"
      ]
     },
     "metadata": {},
     "execution_count": 39
    }
   ],
   "source": [
    "# 防止模型导入时parm在不同的cpu，gpu上\n",
    "loaded_model = Net().to(device=device)\n",
    "loaded_model.load_state_dict(torch.load(data_path + 'birds_vs_airplanes.pt', map_location=device))"
   ]
  },
  {
   "cell_type": "code",
   "execution_count": 40,
   "metadata": {},
   "outputs": [],
   "source": [
    "class NetWidth(nn.Module):\n",
    "    def __init__(self):\n",
    "        super().__init__()\n",
    "        self.conv1 = nn.Conv2d(3, 32, kernel_size=3, padding=1)\n",
    "        self.conv2 = nn.Conv2d(32, 16, kernel_size=3, padding=1)\n",
    "        self.fc1 = nn.Linear(16 * 8 * 8, 32)\n",
    "        self.fc2 = nn.Linear(32, 2)\n",
    "\n",
    "    def forward(self, x):\n",
    "        out = F.max_pool2d(torch.tanh(self.conv1(x)), 2)\n",
    "        out = F.max_pool2d(torch.tanh(self.conv2(out)), 2)\n",
    "        out = out.view(-1, 16 * 8 * 8)\n",
    "        out = torch.tanh(self.fc1(out))\n",
    "        out = self.fc2(out)\n",
    "        return out "
   ]
  },
  {
   "cell_type": "code",
   "execution_count": 41,
   "metadata": {},
   "outputs": [
    {
     "output_type": "stream",
     "name": "stdout",
     "text": [
      "2020-10-27 17:50:06.025506 Epoch 1, Training loss 0.5696581562233579\n",
      "2020-10-27 17:50:08.033040 Epoch 10, Training loss 0.32219540038306244\n",
      "2020-10-27 17:50:10.257836 Epoch 20, Training loss 0.2805871392131611\n",
      "2020-10-27 17:50:12.483133 Epoch 30, Training loss 0.24590190409854717\n",
      "2020-10-27 17:50:14.708959 Epoch 40, Training loss 0.21835067360454305\n",
      "2020-10-27 17:50:16.941291 Epoch 50, Training loss 0.19438091176710312\n",
      "2020-10-27 17:50:19.156272 Epoch 60, Training loss 0.17157918143614082\n",
      "2020-10-27 17:50:21.398487 Epoch 70, Training loss 0.14896330607544844\n",
      "2020-10-27 17:50:23.630331 Epoch 80, Training loss 0.12718237101272412\n",
      "2020-10-27 17:50:25.861178 Epoch 90, Training loss 0.10674886258354613\n",
      "2020-10-27 17:50:28.089044 Epoch 100, Training loss 0.08838534486853773\n",
      "accuracy train: 0.96\n",
      "accuracy val: 0.89\n"
     ]
    },
    {
     "output_type": "execute_result",
     "data": {
      "text/plain": [
       "{'train': 0.963, 'val': 0.8895}"
      ]
     },
     "metadata": {},
     "execution_count": 41
    }
   ],
   "source": [
    "model = NetWidth().to(device=device)\n",
    "optimizer = optim.SGD(model.parameters(), lr=1e-2)\n",
    "loss_fn = nn.CrossEntropyLoss()\n",
    "\n",
    "training_loop(\n",
    "    n_epochs=100,\n",
    "    optimizer= optimizer,\n",
    "    model = model,\n",
    "    loss_fn=loss_fn,\n",
    "    train_loader=train_loader,\n",
    ")\n",
    "\n",
    "validate(model, train_loader, val_loader)"
   ]
  },
  {
   "cell_type": "code",
   "execution_count": 42,
   "metadata": {},
   "outputs": [],
   "source": [
    "class NetWidth(nn.Module):\n",
    "    def __init__(self, n_chans1=32):\n",
    "        super().__init__()\n",
    "        self.n_chans1 = n_chans1\n",
    "        self.conv1 = nn.Conv2d(3, n_chans1, kernel_size=3, padding=1)\n",
    "        self.conv2 = nn.Conv2d(n_chans1, n_chans1 // 2, kernel_size=3, padding=1)\n",
    "        self.fc1 = nn.Linear(8 * 8 * n_chans1 // 2, 32)\n",
    "        self.fc2 = nn.Linear(32, 2)\n",
    "\n",
    "    def forward(self, x):\n",
    "        out = F.max_pool2d(torch.tanh(self.conv1(x)), 2)\n",
    "        out = F.max_pool2d(torch.tanh(self.conv2(out)), 2)\n",
    "        out = out.view(-1, 8 * 8 * self.n_chans1 // 2)\n",
    "        out = torch.tanh(self.fc1(out))\n",
    "        out = self.fc2(out)\n",
    "        return out"
   ]
  },
  {
   "cell_type": "code",
   "execution_count": 43,
   "metadata": {},
   "outputs": [
    {
     "output_type": "stream",
     "name": "stdout",
     "text": [
      "2020-10-27 17:51:06.003437 Epoch 1, Training loss 0.5444508238582854\n",
      "2020-10-27 17:51:08.031437 Epoch 10, Training loss 0.3170700021989786\n",
      "2020-10-27 17:51:10.276322 Epoch 20, Training loss 0.2745387403258852\n",
      "2020-10-27 17:51:12.504257 Epoch 30, Training loss 0.24255863448996454\n",
      "2020-10-27 17:51:14.732502 Epoch 40, Training loss 0.21337010573809315\n",
      "2020-10-27 17:51:16.960308 Epoch 50, Training loss 0.1869511068531662\n",
      "2020-10-27 17:51:19.186874 Epoch 60, Training loss 0.1631440440560602\n",
      "2020-10-27 17:51:21.417709 Epoch 70, Training loss 0.1408410418043091\n",
      "2020-10-27 17:51:23.639674 Epoch 80, Training loss 0.11990224033783956\n",
      "2020-10-27 17:51:25.861505 Epoch 90, Training loss 0.10069689966121297\n",
      "2020-10-27 17:51:28.091970 Epoch 100, Training loss 0.08321491784303431\n",
      "accuracy train: 0.96\n",
      "accuracy val: 0.90\n"
     ]
    }
   ],
   "source": [
    "model = NetWidth(n_chans1=32).to(device=device)\n",
    "optimizer = optim.SGD(model.parameters(), lr=1e-2)\n",
    "loss_fn = nn.CrossEntropyLoss()\n",
    "\n",
    "training_loop(\n",
    "    n_epochs=100, \n",
    "    optimizer = optimizer,\n",
    "    model = model, \n",
    "    loss_fn = loss_fn,\n",
    "    train_loader = train_loader,\n",
    ")\n",
    "\n",
    "all_act_dict[\"width\"] = validate(model, train_loader, val_loader)"
   ]
  },
  {
   "cell_type": "code",
   "execution_count": 44,
   "metadata": {},
   "outputs": [
    {
     "output_type": "execute_result",
     "data": {
      "text/plain": [
       "38386"
      ]
     },
     "metadata": {},
     "execution_count": 44
    }
   ],
   "source": [
    "# 参数增加代表模型能力变强，但是更加容易过拟合\n",
    "sum(p.numel() for p in model.parameters())"
   ]
  },
  {
   "cell_type": "code",
   "execution_count": 45,
   "metadata": {},
   "outputs": [],
   "source": [
    "# 正则化（降低过拟合）\n",
    "def training_loop_l2reg(n_epochs, optimizer, model, loss_fn, train_loader):\n",
    "    for epoch in range(1, n_epochs + 1):\n",
    "        loss_train = 0.0\n",
    "        for imgs, labels in train_loader:\n",
    "            imgs = imgs.to(device = device)\n",
    "            labels = labels.to(device=device)\n",
    "            outputs = model(imgs)\n",
    "            loss = loss_fn(outputs, labels)\n",
    "\n",
    "            # 正则化超参数\n",
    "            l2_lambda = 0.001\n",
    "            l2_norm = sum(p.pow(2.0).sum() # p的平方和 L2正则化\n",
    "                        for p in model.parameters())\n",
    "            \n",
    "            loss = loss + l2_lambda * l2_norm\n",
    "\n",
    "            optimizer.zero_grad()\n",
    "            loss.backward()\n",
    "            optimizer.step()\n",
    "\n",
    "            loss_train += loss.item()\n",
    "        \n",
    "        if epoch == 1 or epoch % 10 == 0:\n",
    "            print('{} Epoch {}, Training loss {}'.format(\n",
    "                datetime.datetime.now(), epoch, loss_train / len(train_loader)\n",
    "            ))"
   ]
  },
  {
   "cell_type": "code",
   "execution_count": 46,
   "metadata": {},
   "outputs": [
    {
     "output_type": "stream",
     "name": "stdout",
     "text": [
      "2020-10-27 17:51:41.188888 Epoch 1, Training loss 0.5842778845957131\n",
      "2020-10-27 17:51:43.782025 Epoch 10, Training loss 0.366337840249584\n",
      "2020-10-27 17:51:46.665491 Epoch 20, Training loss 0.3225773044262722\n",
      "2020-10-27 17:51:49.520152 Epoch 30, Training loss 0.296157845076482\n",
      "2020-10-27 17:51:52.414895 Epoch 40, Training loss 0.27756449352404117\n",
      "2020-10-27 17:51:55.301963 Epoch 50, Training loss 0.26362315142989917\n",
      "2020-10-27 17:51:58.189379 Epoch 60, Training loss 0.25154368474984623\n",
      "2020-10-27 17:52:01.079320 Epoch 70, Training loss 0.24004859837946618\n",
      "2020-10-27 17:52:03.966544 Epoch 80, Training loss 0.229327915153306\n",
      "2020-10-27 17:52:06.847501 Epoch 90, Training loss 0.21893906095035517\n",
      "2020-10-27 17:52:09.736112 Epoch 100, Training loss 0.20912677690291862\n",
      "accuracy train: 0.90\n",
      "accuracy val: 0.87\n"
     ]
    }
   ],
   "source": [
    "model = Net().to(device=device)\n",
    "optimizer = optim.SGD(model.parameters(), lr = 1e-2)\n",
    "loss_fn = nn.CrossEntropyLoss()\n",
    "\n",
    "training_loop_l2reg(\n",
    "    n_epochs=100, \n",
    "    optimizer=optimizer,\n",
    "    model = model,\n",
    "    loss_fn = loss_fn,\n",
    "    train_loader = train_loader,\n",
    ")\n",
    "\n",
    "all_act_dict[\"l2 reg\"] = validate(model, train_loader, val_loader)"
   ]
  },
  {
   "cell_type": "code",
   "execution_count": 47,
   "metadata": {},
   "outputs": [],
   "source": [
    "class NetDropout(nn.Module):\n",
    "    def __init__(self, n_chans1=32):\n",
    "        super().__init__()\n",
    "        self.n_chans1 = n_chans1\n",
    "        self.conv1 = nn.Conv2d(3, n_chans1, kernel_size=3, padding=1)\n",
    "        # During training, randomly zeroes some of the elements of the input tensor with probability p using samples from a                Bernoulli distribution.\n",
    "        self.conv1_dropout = nn.Dropout2d(p = 0.4)\n",
    "        self.conv2 = nn.Conv2d(n_chans1, n_chans1 // 2,kernel_size=3,padding=1)\n",
    "        self.conv2_dropout = nn.Dropout2d(p=0.4)\n",
    "        self.fc1 = nn.Linear(8 * 8 * n_chans1 // 2, 32)\n",
    "        self.fc2 = nn.Linear(32, 2)\n",
    "\n",
    "    def forward(self, x):\n",
    "        out = F.max_pool2d(torch.tanh(self.conv1(x)), 2)\n",
    "        out = self.conv1_dropout(out)\n",
    "        out = F.max_pool2d(torch.tanh(self.conv2(out)), 2)\n",
    "        out = self.conv2_dropout(out)\n",
    "        out = out.view(-1, 8 * 8 * self.n_chans1 // 2)\n",
    "        out = torch.tanh(self.fc1(out))\n",
    "        out = self.fc2(out)\n",
    "        return out "
   ]
  },
  {
   "cell_type": "code",
   "execution_count": 48,
   "metadata": {},
   "outputs": [
    {
     "output_type": "stream",
     "name": "stdout",
     "text": [
      "2020-10-27 17:52:24.947036 Epoch 1, Training loss 0.5800064297238733\n",
      "2020-10-27 17:52:27.117473 Epoch 10, Training loss 0.3807507089938328\n",
      "2020-10-27 17:52:29.510555 Epoch 20, Training loss 0.34909636152398055\n",
      "2020-10-27 17:52:31.894926 Epoch 30, Training loss 0.3297840468822771\n",
      "2020-10-27 17:52:34.281859 Epoch 40, Training loss 0.3125590352685588\n",
      "2020-10-27 17:52:36.686032 Epoch 50, Training loss 0.29206441504180813\n",
      "2020-10-27 17:52:39.099559 Epoch 60, Training loss 0.2820613627221174\n",
      "2020-10-27 17:52:41.516976 Epoch 70, Training loss 0.27233606425060586\n",
      "2020-10-27 17:52:43.926191 Epoch 80, Training loss 0.2628108785030948\n",
      "2020-10-27 17:52:46.341336 Epoch 90, Training loss 0.25364449420931995\n",
      "2020-10-27 17:52:48.758016 Epoch 100, Training loss 0.23999611112722166\n",
      "accuracy train: 0.89\n",
      "accuracy val: 0.88\n"
     ]
    }
   ],
   "source": [
    "model = NetDropout(n_chans1=32).to(device=device)\n",
    "optimizer = optim.SGD(model.parameters(), lr=1e-2)\n",
    "loss_fn = nn.CrossEntropyLoss()\n",
    "\n",
    "training_loop(\n",
    "    n_epochs=100, \n",
    "    optimizer = optimizer,\n",
    "    model = model,\n",
    "    loss_fn = loss_fn,\n",
    "    train_loader = train_loader,\n",
    ")\n",
    "\n",
    "all_act_dict[\"dropout\"] = validate(model, train_loader, val_loader)"
   ]
  },
  {
   "cell_type": "code",
   "execution_count": 49,
   "metadata": {},
   "outputs": [],
   "source": [
    "class NetBatchNorm(nn.Module):\n",
    "    def __init__(self, n_chans1=32):\n",
    "        super().__init__()\n",
    "        self.n_chans1 = n_chans1\n",
    "        self.conv1 = nn.Conv2d(3, n_chans1, kernel_size=3, padding=1)\n",
    "        self.conv1_batchnorm = nn.BatchNorm2d(num_features=n_chans1)\n",
    "        self.conv2 = nn.Conv2d(n_chans1, n_chans1 // 2, kernel_size=3, \n",
    "                               padding=1)\n",
    "        self.conv2_batchnorm = nn.BatchNorm2d(num_features=n_chans1 // 2)\n",
    "        self.fc1 = nn.Linear(8 * 8 * n_chans1 // 2, 32)\n",
    "        self.fc2 = nn.Linear(32, 2)\n",
    "        \n",
    "    def forward(self, x):\n",
    "        out = self.conv1_batchnorm(self.conv1(x))\n",
    "        out = F.max_pool2d(torch.tanh(out), 2)\n",
    "        out = self.conv2_batchnorm(self.conv2(out))\n",
    "        out = F.max_pool2d(torch.tanh(out), 2)\n",
    "        out = out.view(-1, 8 * 8 * self.n_chans1 // 2)\n",
    "        out = torch.tanh(self.fc1(out))\n",
    "        out = self.fc2(out)\n",
    "        return out"
   ]
  },
  {
   "cell_type": "code",
   "execution_count": 50,
   "metadata": {},
   "outputs": [
    {
     "output_type": "stream",
     "name": "stdout",
     "text": [
      "2020-10-27 17:53:12.254305 Epoch 1, Training loss 0.47399359542852754\n",
      "2020-10-27 17:53:14.700656 Epoch 10, Training loss 0.25992414715943063\n",
      "2020-10-27 17:53:17.396848 Epoch 20, Training loss 0.1945777485609814\n",
      "2020-10-27 17:53:20.093615 Epoch 30, Training loss 0.1442410928333641\n",
      "2020-10-27 17:53:22.791405 Epoch 40, Training loss 0.10276865384950759\n",
      "2020-10-27 17:53:25.481416 Epoch 50, Training loss 0.0674566314881964\n",
      "2020-10-27 17:53:28.166451 Epoch 60, Training loss 0.04050419429779812\n",
      "2020-10-27 17:53:30.851330 Epoch 70, Training loss 0.0429234330892373\n",
      "2020-10-27 17:53:33.538759 Epoch 80, Training loss 0.017211677589613922\n",
      "2020-10-27 17:53:36.221521 Epoch 90, Training loss 0.010823181622726902\n",
      "2020-10-27 17:53:38.907298 Epoch 100, Training loss 0.007121785057435749\n",
      "accuracy train: 1.00\n",
      "accuracy val: 0.88\n"
     ]
    }
   ],
   "source": [
    "model = NetBatchNorm(n_chans1=32).to(device=device)\n",
    "optimizer = optim.SGD(model.parameters(), lr=1e-2)\n",
    "loss_fn = nn.CrossEntropyLoss()\n",
    "\n",
    "training_loop(\n",
    "    n_epochs = 100,\n",
    "    optimizer = optimizer,\n",
    "    model = model,\n",
    "    loss_fn = loss_fn,\n",
    "    train_loader = train_loader,\n",
    ")\n",
    "\n",
    "all_act_dict[\"batch_norm\"] = validate(model, train_loader, val_loader)"
   ]
  },
  {
   "cell_type": "code",
   "execution_count": 51,
   "metadata": {},
   "outputs": [],
   "source": [
    "class NetDepth(nn.Module):\n",
    "    def __init__(self, n_chans1=32):\n",
    "        super().__init__()\n",
    "        self.n_chans1 = n_chans1\n",
    "        self.conv1 = nn.Conv2d(3, n_chans1, kernel_size=3, padding=1)\n",
    "        self.conv2 = nn.Conv2d(n_chans1, n_chans1 // 2, kernel_size=3, padding=1)\n",
    "        self.conv3 = nn.Conv2d(n_chans1 // 2, n_chans1 // 2, kernel_size=3, padding=1)\n",
    "\n",
    "        self.fc1 = nn.Linear(4 * 4 * n_chans1 // 2, 32)\n",
    "        self.fc2 = nn.Linear(32, 2)\n",
    "\n",
    "    def forward(self, x):\n",
    "        out = F.max_pool2d(torch.relu(self.conv1(x)), 2)\n",
    "        out = F.max_pool2d(torch.relu(self.conv2(out)), 2)\n",
    "        out = F.max_pool2d(torch.relu(self.conv3(out)), 2)\n",
    "        out = out.view(-1, 4 * 4 * self.n_chans1 // 2)\n",
    "        out = torch.relu(self.fc1(out))\n",
    "        out = self.fc2(out)\n",
    "        return out "
   ]
  },
  {
   "cell_type": "code",
   "execution_count": 52,
   "metadata": {},
   "outputs": [
    {
     "output_type": "stream",
     "name": "stdout",
     "text": [
      "2020-10-27 17:54:04.420645 Epoch 1, Training loss 0.6548043470473806\n",
      "2020-10-27 17:54:06.892539 Epoch 10, Training loss 0.3400014505075042\n",
      "2020-10-27 17:54:09.964863 Epoch 20, Training loss 0.30154374564529224\n",
      "2020-10-27 17:54:13.040884 Epoch 30, Training loss 0.2728621114021654\n",
      "2020-10-27 17:54:15.697748 Epoch 40, Training loss 0.24442388259681166\n",
      "2020-10-27 17:54:18.270979 Epoch 50, Training loss 0.21723966831993904\n",
      "2020-10-27 17:54:20.851153 Epoch 60, Training loss 0.19132162891565616\n",
      "2020-10-27 17:54:23.430421 Epoch 70, Training loss 0.1674400788678485\n",
      "2020-10-27 17:54:26.008994 Epoch 80, Training loss 0.14456504341333534\n",
      "2020-10-27 17:54:28.587175 Epoch 90, Training loss 0.12120718819795141\n",
      "2020-10-27 17:54:31.167465 Epoch 100, Training loss 0.0982655059000489\n",
      "accuracy train: 0.96\n",
      "accuracy val: 0.90\n"
     ]
    }
   ],
   "source": [
    "model = NetDepth(n_chans1=32).to(device=device)\n",
    "optimizer = optim.SGD(model.parameters(), lr=1e-2)\n",
    "loss_fn = nn.CrossEntropyLoss()\n",
    "\n",
    "training_loop(\n",
    "    n_epochs=100,\n",
    "    optimizer=optimizer,\n",
    "    model= model,\n",
    "    loss_fn=loss_fn,\n",
    "    train_loader=train_loader\n",
    ")\n",
    "\n",
    "all_act_dict[\"depth\"] = validate(model, train_loader, val_loader)"
   ]
  },
  {
   "cell_type": "code",
   "execution_count": 53,
   "metadata": {},
   "outputs": [],
   "source": [
    "class NetRes(nn.Module):\n",
    "    def __init__(self, n_chans1=32):\n",
    "        super().__init__()\n",
    "        self.n_chans1 = n_chans1\n",
    "        self.conv1 = nn.Conv2d(3, n_chans1, kernel_size=3, padding=1)\n",
    "        self.conv2 = nn.Conv2d(n_chans1, n_chans1 // 2, kernel_size=3, padding=1)\n",
    "        self.conv3 = nn.Conv2d(n_chans1 // 2, n_chans1 // 2, kernel_size=3, padding=1)\n",
    "        \n",
    "        self.fc1 = nn.Linear(4 * 4 * n_chans1 // 2, 32)\n",
    "        self.fc2 = nn.Linear(32, 2)\n",
    "\n",
    "    def forward(self, x):\n",
    "        out = F.max_pool2d(torch.relu(self.conv1(x)), 2)\n",
    "        out = F.max_pool2d(torch.relu(self.conv2(out)), 2)\n",
    "        out1 = out # skip\n",
    "        out = F.max_pool2d(torch.relu(self.conv3(out)) + out1, 2)\n",
    "        out = out.view(-1, 4 * 4 * self.n_chans1 // 2)\n",
    "        out = torch.relu(self.fc1(out))\n",
    "        out = self.fc2(out)\n",
    "        return out\n",
    "        "
   ]
  },
  {
   "cell_type": "code",
   "execution_count": 54,
   "metadata": {},
   "outputs": [
    {
     "output_type": "stream",
     "name": "stdout",
     "text": [
      "2020-10-27 17:54:46.244513 Epoch 1, Training loss 0.6650018969159217\n",
      "2020-10-27 17:54:48.611064 Epoch 10, Training loss 0.3292901647888171\n",
      "2020-10-27 17:54:51.228349 Epoch 20, Training loss 0.2862075178106879\n",
      "2020-10-27 17:54:53.839989 Epoch 30, Training loss 0.25521448719653356\n",
      "2020-10-27 17:54:56.451866 Epoch 40, Training loss 0.2279798646641385\n",
      "2020-10-27 17:54:59.063869 Epoch 50, Training loss 0.2016522283576856\n",
      "2020-10-27 17:55:01.805578 Epoch 60, Training loss 0.1760909477853851\n",
      "2020-10-27 17:55:04.893440 Epoch 70, Training loss 0.1513449186399864\n",
      "2020-10-27 17:55:07.972153 Epoch 80, Training loss 0.1264056845265589\n",
      "2020-10-27 17:55:10.670162 Epoch 90, Training loss 0.10043424866191901\n",
      "2020-10-27 17:55:13.294270 Epoch 100, Training loss 0.07885381177210124\n",
      "accuracy train: 0.96\n",
      "accuracy val: 0.90\n"
     ]
    }
   ],
   "source": [
    "model = NetRes(n_chans1=32).to(device=device)\n",
    "optimizer = optim.SGD(model.parameters(), lr=1e-2)\n",
    "loss_fn = nn.CrossEntropyLoss()\n",
    "\n",
    "training_loop(\n",
    "    n_epochs=100,\n",
    "    optimizer = optimizer, \n",
    "    model = model, \n",
    "    loss_fn = loss_fn,\n",
    "    train_loader = train_loader,\n",
    ")\n",
    "\n",
    "all_act_dict['res'] = validate(model, train_loader, val_loader)"
   ]
  },
  {
   "cell_type": "code",
   "execution_count": 55,
   "metadata": {},
   "outputs": [],
   "source": [
    "# 深层网络中的一小块\n",
    "class ResBlock(nn.Module):\n",
    "    def __init__(self, n_chans):\n",
    "        super(ResBlock, self).__init__()\n",
    "        self.conv = nn.Conv2d(n_chans, n_chans, kernel_size=3, padding=1, bias=False)\n",
    "        self.batch_norm = nn.BatchNorm2d(num_features=n_chans)\n",
    "        torch.nn.init.kaiming_normal_(self.conv.weight, nonlinearity='relu')\n",
    "        torch.nn.init.constant_(self.batch_norm.weight, 0.5) # Fills the input Tensor with the value \\text{val}val .\n",
    "        torch.nn.init.zeros_(self.batch_norm.bias) # Fills the input Tensor with the scalar value 0.\n",
    "\n",
    "    def forward(self, x):\n",
    "        out = self.conv(x)\n",
    "        out = self.batch_norm(out)\n",
    "        out = torch.relu(out)\n",
    "        return out + x"
   ]
  },
  {
   "cell_type": "code",
   "execution_count": 61,
   "metadata": {},
   "outputs": [],
   "source": [
    "class NetResDeep(nn.Module):\n",
    "    def __init__(self, n_chans1 = 32,  n_blocks = 10):\n",
    "        super().__init__()\n",
    "        self.n_chans1 = n_chans1\n",
    "        self.conv1 = nn.Conv2d(3, n_chans1, kernel_size=3, padding = 1)\n",
    "        self.resblocks = nn.Sequential(\n",
    "            *(n_blocks * [ResBlock(n_chans = n_chans1)]))\n",
    "        self.fc1 = nn.Linear(8 * 8 * n_chans1, 32)\n",
    "        self.fc2 = nn.Linear(32, 2)\n",
    "\n",
    "    def forward(self, x):\n",
    "        out = F.max_pool2d(torch.relu(self.conv1(x)), 2)\n",
    "        out = self.resblocks(out)\n",
    "        out = F.max_pool2d(out, 2)\n",
    "        out = out.view(-1, 8 * 8 * self.n_chans1)\n",
    "        out = torch.relu(self.fc1(out))\n",
    "        out = self.fc2(out)\n",
    "        return out "
   ]
  },
  {
   "cell_type": "code",
   "execution_count": 62,
   "metadata": {},
   "outputs": [
    {
     "output_type": "stream",
     "name": "stdout",
     "text": [
      "2020-10-27 19:03:07.223764 Epoch 1, Training loss 1.4996130836617416\n",
      "2020-10-27 19:03:56.333438 Epoch 10, Training loss 0.3086315898378943\n",
      "2020-10-27 19:04:51.358291 Epoch 20, Training loss 0.2117100392177606\n",
      "2020-10-27 19:05:46.535146 Epoch 30, Training loss 0.14944075344569363\n",
      "2020-10-27 19:06:41.866359 Epoch 40, Training loss 0.11774772360541258\n",
      "2020-10-27 19:07:37.213343 Epoch 50, Training loss 0.07389695913038531\n",
      "2020-10-27 19:08:32.614792 Epoch 60, Training loss 0.15944417614703346\n",
      "2020-10-27 19:09:28.150938 Epoch 70, Training loss 0.028523778782380375\n",
      "2020-10-27 19:10:23.689352 Epoch 80, Training loss 0.03368857453108593\n",
      "2020-10-27 19:11:19.306736 Epoch 90, Training loss 0.015992638726190778\n",
      "2020-10-27 19:12:15.063215 Epoch 100, Training loss 0.012264126194173849\n",
      "accuracy train: 0.99\n",
      "accuracy val: 0.87\n"
     ]
    }
   ],
   "source": [
    "model = NetResDeep(n_chans1=32, n_blocks=100).to(device=device)\n",
    "optimizer = optim.SGD(model.parameters(), lr = 3e-3)\n",
    "loss_fn = nn.CrossEntropyLoss()\n",
    "\n",
    "training_loop(\n",
    "    n_epochs=100,\n",
    "    optimizer=optimizer,\n",
    "    model = model,\n",
    "    loss_fn = loss_fn,\n",
    "    train_loader=train_loader,\n",
    ")\n",
    "\n",
    "all_act_dict['res deep'] = validate(model, train_loader, val_loader)"
   ]
  },
  {
   "cell_type": "code",
   "execution_count": 63,
   "metadata": {},
   "outputs": [
    {
     "output_type": "display_data",
     "data": {
      "text/plain": "<Figure size 432x288 with 1 Axes>",
      "image/svg+xml": "<?xml version=\"1.0\" encoding=\"utf-8\" standalone=\"no\"?>\n<!DOCTYPE svg PUBLIC \"-//W3C//DTD SVG 1.1//EN\"\n  \"http://www.w3.org/Graphics/SVG/1.1/DTD/svg11.dtd\">\n<!-- Created with matplotlib (https://matplotlib.org/) -->\n<svg height=\"299.029483pt\" version=\"1.1\" viewBox=\"0 0 392.14375 299.029483\" width=\"392.14375pt\" xmlns=\"http://www.w3.org/2000/svg\" xmlns:xlink=\"http://www.w3.org/1999/xlink\">\n <metadata>\n  <rdf:RDF xmlns:cc=\"http://creativecommons.org/ns#\" xmlns:dc=\"http://purl.org/dc/elements/1.1/\" xmlns:rdf=\"http://www.w3.org/1999/02/22-rdf-syntax-ns#\">\n   <cc:Work>\n    <dc:type rdf:resource=\"http://purl.org/dc/dcmitype/StillImage\"/>\n    <dc:date>2020-10-27T19:26:51.522217</dc:date>\n    <dc:format>image/svg+xml</dc:format>\n    <dc:creator>\n     <cc:Agent>\n      <dc:title>Matplotlib v3.3.1, https://matplotlib.org/</dc:title>\n     </cc:Agent>\n    </dc:creator>\n   </cc:Work>\n  </rdf:RDF>\n </metadata>\n <defs>\n  <style type=\"text/css\">*{stroke-linecap:butt;stroke-linejoin:round;}</style>\n </defs>\n <g id=\"figure_1\">\n  <g id=\"patch_1\">\n   <path d=\"M 0 299.029483 \nL 392.14375 299.029483 \nL 392.14375 0 \nL 0 0 \nz\n\" style=\"fill:none;\"/>\n  </g>\n  <g id=\"axes_1\">\n   <g id=\"patch_2\">\n    <path d=\"M 50.14375 228.439219 \nL 384.94375 228.439219 \nL 384.94375 10.999219 \nL 50.14375 10.999219 \nz\n\" style=\"fill:#ffffff;\"/>\n   </g>\n   <g id=\"patch_3\">\n    <path clip-path=\"url(#p5f6ae9ad4b)\" d=\"M 65.361932 735.799219 \nL 77.376286 735.799219 \nL 77.376286 60.285619 \nL 65.361932 60.285619 \nz\n\" style=\"fill:#1f77b4;\"/>\n   </g>\n   <g id=\"patch_4\">\n    <path clip-path=\"url(#p5f6ae9ad4b)\" d=\"M 105.409779 735.799219 \nL 117.424133 735.799219 \nL 117.424133 38.106739 \nL 105.409779 38.106739 \nz\n\" style=\"fill:#1f77b4;\"/>\n   </g>\n   <g id=\"patch_5\">\n    <path clip-path=\"url(#p5f6ae9ad4b)\" d=\"M 145.457626 735.799219 \nL 157.47198 735.799219 \nL 157.47198 81.449779 \nL 145.457626 81.449779 \nz\n\" style=\"fill:#1f77b4;\"/>\n   </g>\n   <g id=\"patch_6\">\n    <path clip-path=\"url(#p5f6ae9ad4b)\" d=\"M 185.505472 735.799219 \nL 197.519827 735.799219 \nL 197.519827 87.320659 \nL 185.505472 87.320659 \nz\n\" style=\"fill:#1f77b4;\"/>\n   </g>\n   <g id=\"patch_7\">\n    <path clip-path=\"url(#p5f6ae9ad4b)\" d=\"M 225.553319 735.799219 \nL 237.567673 735.799219 \nL 237.567673 14.260819 \nL 225.553319 14.260819 \nz\n\" style=\"fill:#1f77b4;\"/>\n   </g>\n   <g id=\"patch_8\">\n    <path clip-path=\"url(#p5f6ae9ad4b)\" d=\"M 265.601166 735.799219 \nL 277.61552 735.799219 \nL 277.61552 41.440819 \nL 265.601166 41.440819 \nz\n\" style=\"fill:#1f77b4;\"/>\n   </g>\n   <g id=\"patch_9\">\n    <path clip-path=\"url(#p5f6ae9ad4b)\" d=\"M 305.649013 735.799219 \nL 317.663367 735.799219 \nL 317.663367 38.106739 \nL 305.649013 38.106739 \nz\n\" style=\"fill:#1f77b4;\"/>\n   </g>\n   <g id=\"patch_10\">\n    <path clip-path=\"url(#p5f6ae9ad4b)\" d=\"M 345.69686 735.799219 \nL 357.711214 735.799219 \nL 357.711214 16.145299 \nL 345.69686 16.145299 \nz\n\" style=\"fill:#1f77b4;\"/>\n   </g>\n   <g id=\"patch_11\">\n    <path clip-path=\"url(#p5f6ae9ad4b)\" d=\"M 77.376286 735.799219 \nL 89.39064 735.799219 \nL 89.39064 90.727219 \nL 77.376286 90.727219 \nz\n\" style=\"fill:#ff7f0e;\"/>\n   </g>\n   <g id=\"patch_12\">\n    <path clip-path=\"url(#p5f6ae9ad4b)\" d=\"M 117.424133 735.799219 \nL 129.438487 735.799219 \nL 129.438487 85.653619 \nL 117.424133 85.653619 \nz\n\" style=\"fill:#ff7f0e;\"/>\n   </g>\n   <g id=\"patch_13\">\n    <path clip-path=\"url(#p5f6ae9ad4b)\" d=\"M 157.47198 735.799219 \nL 169.486334 735.799219 \nL 169.486334 104.136019 \nL 157.47198 104.136019 \nz\n\" style=\"fill:#ff7f0e;\"/>\n   </g>\n   <g id=\"patch_14\">\n    <path clip-path=\"url(#p5f6ae9ad4b)\" d=\"M 197.519827 735.799219 \nL 209.534181 735.799219 \nL 209.534181 97.975219 \nL 197.519827 97.975219 \nz\n\" style=\"fill:#ff7f0e;\"/>\n   </g>\n   <g id=\"patch_15\">\n    <path clip-path=\"url(#p5f6ae9ad4b)\" d=\"M 237.567673 735.799219 \nL 249.582028 735.799219 \nL 249.582028 97.975219 \nL 237.567673 97.975219 \nz\n\" style=\"fill:#ff7f0e;\"/>\n   </g>\n   <g id=\"patch_16\">\n    <path clip-path=\"url(#p5f6ae9ad4b)\" d=\"M 277.61552 735.799219 \nL 289.629874 735.799219 \nL 289.629874 81.667219 \nL 277.61552 81.667219 \nz\n\" style=\"fill:#ff7f0e;\"/>\n   </g>\n   <g id=\"patch_17\">\n    <path clip-path=\"url(#p5f6ae9ad4b)\" d=\"M 317.663367 735.799219 \nL 329.677721 735.799219 \nL 329.677721 85.653619 \nL 317.663367 85.653619 \nz\n\" style=\"fill:#ff7f0e;\"/>\n   </g>\n   <g id=\"patch_18\">\n    <path clip-path=\"url(#p5f6ae9ad4b)\" d=\"M 357.711214 735.799219 \nL 369.725568 735.799219 \nL 369.725568 108.484819 \nL 357.711214 108.484819 \nz\n\" style=\"fill:#ff7f0e;\"/>\n   </g>\n   <g id=\"matplotlib.axis_1\">\n    <g id=\"xtick_1\">\n     <g id=\"line2d_1\">\n      <defs>\n       <path d=\"M 0 0 \nL 0 3.5 \n\" id=\"m46185c8234\" style=\"stroke:#000000;stroke-width:0.8;\"/>\n      </defs>\n      <g>\n       <use style=\"stroke:#000000;stroke-width:0.8;\" x=\"77.376286\" xlink:href=\"#m46185c8234\" y=\"228.439219\"/>\n      </g>\n     </g>\n     <g id=\"text_1\">\n      <!-- baseline -->\n      <g transform=\"translate(69.29449 275.512723)rotate(-60)scale(0.1 -0.1)\">\n       <defs>\n        <path d=\"M 48.6875 27.296875 \nQ 48.6875 37.203125 44.609375 42.84375 \nQ 40.53125 48.484375 33.40625 48.484375 \nQ 26.265625 48.484375 22.1875 42.84375 \nQ 18.109375 37.203125 18.109375 27.296875 \nQ 18.109375 17.390625 22.1875 11.75 \nQ 26.265625 6.109375 33.40625 6.109375 \nQ 40.53125 6.109375 44.609375 11.75 \nQ 48.6875 17.390625 48.6875 27.296875 \nz\nM 18.109375 46.390625 \nQ 20.953125 51.265625 25.265625 53.625 \nQ 29.59375 56 35.59375 56 \nQ 45.5625 56 51.78125 48.09375 \nQ 58.015625 40.1875 58.015625 27.296875 \nQ 58.015625 14.40625 51.78125 6.484375 \nQ 45.5625 -1.421875 35.59375 -1.421875 \nQ 29.59375 -1.421875 25.265625 0.953125 \nQ 20.953125 3.328125 18.109375 8.203125 \nL 18.109375 0 \nL 9.078125 0 \nL 9.078125 75.984375 \nL 18.109375 75.984375 \nz\n\" id=\"DejaVuSans-98\"/>\n        <path d=\"M 34.28125 27.484375 \nQ 23.390625 27.484375 19.1875 25 \nQ 14.984375 22.515625 14.984375 16.5 \nQ 14.984375 11.71875 18.140625 8.90625 \nQ 21.296875 6.109375 26.703125 6.109375 \nQ 34.1875 6.109375 38.703125 11.40625 \nQ 43.21875 16.703125 43.21875 25.484375 \nL 43.21875 27.484375 \nz\nM 52.203125 31.203125 \nL 52.203125 0 \nL 43.21875 0 \nL 43.21875 8.296875 \nQ 40.140625 3.328125 35.546875 0.953125 \nQ 30.953125 -1.421875 24.3125 -1.421875 \nQ 15.921875 -1.421875 10.953125 3.296875 \nQ 6 8.015625 6 15.921875 \nQ 6 25.140625 12.171875 29.828125 \nQ 18.359375 34.515625 30.609375 34.515625 \nL 43.21875 34.515625 \nL 43.21875 35.40625 \nQ 43.21875 41.609375 39.140625 45 \nQ 35.0625 48.390625 27.6875 48.390625 \nQ 23 48.390625 18.546875 47.265625 \nQ 14.109375 46.140625 10.015625 43.890625 \nL 10.015625 52.203125 \nQ 14.9375 54.109375 19.578125 55.046875 \nQ 24.21875 56 28.609375 56 \nQ 40.484375 56 46.34375 49.84375 \nQ 52.203125 43.703125 52.203125 31.203125 \nz\n\" id=\"DejaVuSans-97\"/>\n        <path d=\"M 44.28125 53.078125 \nL 44.28125 44.578125 \nQ 40.484375 46.53125 36.375 47.5 \nQ 32.28125 48.484375 27.875 48.484375 \nQ 21.1875 48.484375 17.84375 46.4375 \nQ 14.5 44.390625 14.5 40.28125 \nQ 14.5 37.15625 16.890625 35.375 \nQ 19.28125 33.59375 26.515625 31.984375 \nL 29.59375 31.296875 \nQ 39.15625 29.25 43.1875 25.515625 \nQ 47.21875 21.78125 47.21875 15.09375 \nQ 47.21875 7.46875 41.1875 3.015625 \nQ 35.15625 -1.421875 24.609375 -1.421875 \nQ 20.21875 -1.421875 15.453125 -0.5625 \nQ 10.6875 0.296875 5.421875 2 \nL 5.421875 11.28125 \nQ 10.40625 8.6875 15.234375 7.390625 \nQ 20.0625 6.109375 24.8125 6.109375 \nQ 31.15625 6.109375 34.5625 8.28125 \nQ 37.984375 10.453125 37.984375 14.40625 \nQ 37.984375 18.0625 35.515625 20.015625 \nQ 33.0625 21.96875 24.703125 23.78125 \nL 21.578125 24.515625 \nQ 13.234375 26.265625 9.515625 29.90625 \nQ 5.8125 33.546875 5.8125 39.890625 \nQ 5.8125 47.609375 11.28125 51.796875 \nQ 16.75 56 26.8125 56 \nQ 31.78125 56 36.171875 55.265625 \nQ 40.578125 54.546875 44.28125 53.078125 \nz\n\" id=\"DejaVuSans-115\"/>\n        <path d=\"M 56.203125 29.59375 \nL 56.203125 25.203125 \nL 14.890625 25.203125 \nQ 15.484375 15.921875 20.484375 11.0625 \nQ 25.484375 6.203125 34.421875 6.203125 \nQ 39.59375 6.203125 44.453125 7.46875 \nQ 49.3125 8.734375 54.109375 11.28125 \nL 54.109375 2.78125 \nQ 49.265625 0.734375 44.1875 -0.34375 \nQ 39.109375 -1.421875 33.890625 -1.421875 \nQ 20.796875 -1.421875 13.15625 6.1875 \nQ 5.515625 13.8125 5.515625 26.8125 \nQ 5.515625 40.234375 12.765625 48.109375 \nQ 20.015625 56 32.328125 56 \nQ 43.359375 56 49.78125 48.890625 \nQ 56.203125 41.796875 56.203125 29.59375 \nz\nM 47.21875 32.234375 \nQ 47.125 39.59375 43.09375 43.984375 \nQ 39.0625 48.390625 32.421875 48.390625 \nQ 24.90625 48.390625 20.390625 44.140625 \nQ 15.875 39.890625 15.1875 32.171875 \nz\n\" id=\"DejaVuSans-101\"/>\n        <path d=\"M 9.421875 75.984375 \nL 18.40625 75.984375 \nL 18.40625 0 \nL 9.421875 0 \nz\n\" id=\"DejaVuSans-108\"/>\n        <path d=\"M 9.421875 54.6875 \nL 18.40625 54.6875 \nL 18.40625 0 \nL 9.421875 0 \nz\nM 9.421875 75.984375 \nL 18.40625 75.984375 \nL 18.40625 64.59375 \nL 9.421875 64.59375 \nz\n\" id=\"DejaVuSans-105\"/>\n        <path d=\"M 54.890625 33.015625 \nL 54.890625 0 \nL 45.90625 0 \nL 45.90625 32.71875 \nQ 45.90625 40.484375 42.875 44.328125 \nQ 39.84375 48.1875 33.796875 48.1875 \nQ 26.515625 48.1875 22.3125 43.546875 \nQ 18.109375 38.921875 18.109375 30.90625 \nL 18.109375 0 \nL 9.078125 0 \nL 9.078125 54.6875 \nL 18.109375 54.6875 \nL 18.109375 46.1875 \nQ 21.34375 51.125 25.703125 53.5625 \nQ 30.078125 56 35.796875 56 \nQ 45.21875 56 50.046875 50.171875 \nQ 54.890625 44.34375 54.890625 33.015625 \nz\n\" id=\"DejaVuSans-110\"/>\n       </defs>\n       <use xlink:href=\"#DejaVuSans-98\"/>\n       <use x=\"63.476562\" xlink:href=\"#DejaVuSans-97\"/>\n       <use x=\"124.755859\" xlink:href=\"#DejaVuSans-115\"/>\n       <use x=\"176.855469\" xlink:href=\"#DejaVuSans-101\"/>\n       <use x=\"238.378906\" xlink:href=\"#DejaVuSans-108\"/>\n       <use x=\"266.162109\" xlink:href=\"#DejaVuSans-105\"/>\n       <use x=\"293.945312\" xlink:href=\"#DejaVuSans-110\"/>\n       <use x=\"357.324219\" xlink:href=\"#DejaVuSans-101\"/>\n      </g>\n     </g>\n    </g>\n    <g id=\"xtick_2\">\n     <g id=\"line2d_2\">\n      <g>\n       <use style=\"stroke:#000000;stroke-width:0.8;\" x=\"117.424133\" xlink:href=\"#m46185c8234\" y=\"228.439219\"/>\n      </g>\n     </g>\n     <g id=\"text_2\">\n      <!-- width -->\n      <g transform=\"translate(112.923197 263.108263)rotate(-60)scale(0.1 -0.1)\">\n       <defs>\n        <path d=\"M 4.203125 54.6875 \nL 13.1875 54.6875 \nL 24.421875 12.015625 \nL 35.59375 54.6875 \nL 46.1875 54.6875 \nL 57.421875 12.015625 \nL 68.609375 54.6875 \nL 77.59375 54.6875 \nL 63.28125 0 \nL 52.6875 0 \nL 40.921875 44.828125 \nL 29.109375 0 \nL 18.5 0 \nz\n\" id=\"DejaVuSans-119\"/>\n        <path d=\"M 45.40625 46.390625 \nL 45.40625 75.984375 \nL 54.390625 75.984375 \nL 54.390625 0 \nL 45.40625 0 \nL 45.40625 8.203125 \nQ 42.578125 3.328125 38.25 0.953125 \nQ 33.9375 -1.421875 27.875 -1.421875 \nQ 17.96875 -1.421875 11.734375 6.484375 \nQ 5.515625 14.40625 5.515625 27.296875 \nQ 5.515625 40.1875 11.734375 48.09375 \nQ 17.96875 56 27.875 56 \nQ 33.9375 56 38.25 53.625 \nQ 42.578125 51.265625 45.40625 46.390625 \nz\nM 14.796875 27.296875 \nQ 14.796875 17.390625 18.875 11.75 \nQ 22.953125 6.109375 30.078125 6.109375 \nQ 37.203125 6.109375 41.296875 11.75 \nQ 45.40625 17.390625 45.40625 27.296875 \nQ 45.40625 37.203125 41.296875 42.84375 \nQ 37.203125 48.484375 30.078125 48.484375 \nQ 22.953125 48.484375 18.875 42.84375 \nQ 14.796875 37.203125 14.796875 27.296875 \nz\n\" id=\"DejaVuSans-100\"/>\n        <path d=\"M 18.3125 70.21875 \nL 18.3125 54.6875 \nL 36.8125 54.6875 \nL 36.8125 47.703125 \nL 18.3125 47.703125 \nL 18.3125 18.015625 \nQ 18.3125 11.328125 20.140625 9.421875 \nQ 21.96875 7.515625 27.59375 7.515625 \nL 36.8125 7.515625 \nL 36.8125 0 \nL 27.59375 0 \nQ 17.1875 0 13.234375 3.875 \nQ 9.28125 7.765625 9.28125 18.015625 \nL 9.28125 47.703125 \nL 2.6875 47.703125 \nL 2.6875 54.6875 \nL 9.28125 54.6875 \nL 9.28125 70.21875 \nz\n\" id=\"DejaVuSans-116\"/>\n        <path d=\"M 54.890625 33.015625 \nL 54.890625 0 \nL 45.90625 0 \nL 45.90625 32.71875 \nQ 45.90625 40.484375 42.875 44.328125 \nQ 39.84375 48.1875 33.796875 48.1875 \nQ 26.515625 48.1875 22.3125 43.546875 \nQ 18.109375 38.921875 18.109375 30.90625 \nL 18.109375 0 \nL 9.078125 0 \nL 9.078125 75.984375 \nL 18.109375 75.984375 \nL 18.109375 46.1875 \nQ 21.34375 51.125 25.703125 53.5625 \nQ 30.078125 56 35.796875 56 \nQ 45.21875 56 50.046875 50.171875 \nQ 54.890625 44.34375 54.890625 33.015625 \nz\n\" id=\"DejaVuSans-104\"/>\n       </defs>\n       <use xlink:href=\"#DejaVuSans-119\"/>\n       <use x=\"81.787109\" xlink:href=\"#DejaVuSans-105\"/>\n       <use x=\"109.570312\" xlink:href=\"#DejaVuSans-100\"/>\n       <use x=\"173.046875\" xlink:href=\"#DejaVuSans-116\"/>\n       <use x=\"212.255859\" xlink:href=\"#DejaVuSans-104\"/>\n      </g>\n     </g>\n    </g>\n    <g id=\"xtick_3\">\n     <g id=\"line2d_3\">\n      <g>\n       <use style=\"stroke:#000000;stroke-width:0.8;\" x=\"157.47198\" xlink:href=\"#m46185c8234\" y=\"228.439219\"/>\n      </g>\n     </g>\n     <g id=\"text_3\">\n      <!-- l2 reg -->\n      <g transform=\"translate(152.685106 264.098779)rotate(-60)scale(0.1 -0.1)\">\n       <defs>\n        <path d=\"M 19.1875 8.296875 \nL 53.609375 8.296875 \nL 53.609375 0 \nL 7.328125 0 \nL 7.328125 8.296875 \nQ 12.9375 14.109375 22.625 23.890625 \nQ 32.328125 33.6875 34.8125 36.53125 \nQ 39.546875 41.84375 41.421875 45.53125 \nQ 43.3125 49.21875 43.3125 52.78125 \nQ 43.3125 58.59375 39.234375 62.25 \nQ 35.15625 65.921875 28.609375 65.921875 \nQ 23.96875 65.921875 18.8125 64.3125 \nQ 13.671875 62.703125 7.8125 59.421875 \nL 7.8125 69.390625 \nQ 13.765625 71.78125 18.9375 73 \nQ 24.125 74.21875 28.421875 74.21875 \nQ 39.75 74.21875 46.484375 68.546875 \nQ 53.21875 62.890625 53.21875 53.421875 \nQ 53.21875 48.921875 51.53125 44.890625 \nQ 49.859375 40.875 45.40625 35.40625 \nQ 44.1875 33.984375 37.640625 27.21875 \nQ 31.109375 20.453125 19.1875 8.296875 \nz\n\" id=\"DejaVuSans-50\"/>\n        <path id=\"DejaVuSans-32\"/>\n        <path d=\"M 41.109375 46.296875 \nQ 39.59375 47.171875 37.8125 47.578125 \nQ 36.03125 48 33.890625 48 \nQ 26.265625 48 22.1875 43.046875 \nQ 18.109375 38.09375 18.109375 28.8125 \nL 18.109375 0 \nL 9.078125 0 \nL 9.078125 54.6875 \nL 18.109375 54.6875 \nL 18.109375 46.1875 \nQ 20.953125 51.171875 25.484375 53.578125 \nQ 30.03125 56 36.53125 56 \nQ 37.453125 56 38.578125 55.875 \nQ 39.703125 55.765625 41.0625 55.515625 \nz\n\" id=\"DejaVuSans-114\"/>\n        <path d=\"M 45.40625 27.984375 \nQ 45.40625 37.75 41.375 43.109375 \nQ 37.359375 48.484375 30.078125 48.484375 \nQ 22.859375 48.484375 18.828125 43.109375 \nQ 14.796875 37.75 14.796875 27.984375 \nQ 14.796875 18.265625 18.828125 12.890625 \nQ 22.859375 7.515625 30.078125 7.515625 \nQ 37.359375 7.515625 41.375 12.890625 \nQ 45.40625 18.265625 45.40625 27.984375 \nz\nM 54.390625 6.78125 \nQ 54.390625 -7.171875 48.1875 -13.984375 \nQ 42 -20.796875 29.203125 -20.796875 \nQ 24.46875 -20.796875 20.265625 -20.09375 \nQ 16.0625 -19.390625 12.109375 -17.921875 \nL 12.109375 -9.1875 \nQ 16.0625 -11.328125 19.921875 -12.34375 \nQ 23.78125 -13.375 27.78125 -13.375 \nQ 36.625 -13.375 41.015625 -8.765625 \nQ 45.40625 -4.15625 45.40625 5.171875 \nL 45.40625 9.625 \nQ 42.625 4.78125 38.28125 2.390625 \nQ 33.9375 0 27.875 0 \nQ 17.828125 0 11.671875 7.65625 \nQ 5.515625 15.328125 5.515625 27.984375 \nQ 5.515625 40.671875 11.671875 48.328125 \nQ 17.828125 56 27.875 56 \nQ 33.9375 56 38.28125 53.609375 \nQ 42.625 51.21875 45.40625 46.390625 \nL 45.40625 54.6875 \nL 54.390625 54.6875 \nz\n\" id=\"DejaVuSans-103\"/>\n       </defs>\n       <use xlink:href=\"#DejaVuSans-108\"/>\n       <use x=\"27.783203\" xlink:href=\"#DejaVuSans-50\"/>\n       <use x=\"91.40625\" xlink:href=\"#DejaVuSans-32\"/>\n       <use x=\"123.193359\" xlink:href=\"#DejaVuSans-114\"/>\n       <use x=\"162.056641\" xlink:href=\"#DejaVuSans-101\"/>\n       <use x=\"223.580078\" xlink:href=\"#DejaVuSans-103\"/>\n      </g>\n     </g>\n    </g>\n    <g id=\"xtick_4\">\n     <g id=\"line2d_4\">\n      <g>\n       <use style=\"stroke:#000000;stroke-width:0.8;\" x=\"197.519827\" xlink:href=\"#m46185c8234\" y=\"228.439219\"/>\n      </g>\n     </g>\n     <g id=\"text_4\">\n      <!-- dropout -->\n      <g transform=\"translate(190.139984 273.081086)rotate(-60)scale(0.1 -0.1)\">\n       <defs>\n        <path d=\"M 30.609375 48.390625 \nQ 23.390625 48.390625 19.1875 42.75 \nQ 14.984375 37.109375 14.984375 27.296875 \nQ 14.984375 17.484375 19.15625 11.84375 \nQ 23.34375 6.203125 30.609375 6.203125 \nQ 37.796875 6.203125 41.984375 11.859375 \nQ 46.1875 17.53125 46.1875 27.296875 \nQ 46.1875 37.015625 41.984375 42.703125 \nQ 37.796875 48.390625 30.609375 48.390625 \nz\nM 30.609375 56 \nQ 42.328125 56 49.015625 48.375 \nQ 55.71875 40.765625 55.71875 27.296875 \nQ 55.71875 13.875 49.015625 6.21875 \nQ 42.328125 -1.421875 30.609375 -1.421875 \nQ 18.84375 -1.421875 12.171875 6.21875 \nQ 5.515625 13.875 5.515625 27.296875 \nQ 5.515625 40.765625 12.171875 48.375 \nQ 18.84375 56 30.609375 56 \nz\n\" id=\"DejaVuSans-111\"/>\n        <path d=\"M 18.109375 8.203125 \nL 18.109375 -20.796875 \nL 9.078125 -20.796875 \nL 9.078125 54.6875 \nL 18.109375 54.6875 \nL 18.109375 46.390625 \nQ 20.953125 51.265625 25.265625 53.625 \nQ 29.59375 56 35.59375 56 \nQ 45.5625 56 51.78125 48.09375 \nQ 58.015625 40.1875 58.015625 27.296875 \nQ 58.015625 14.40625 51.78125 6.484375 \nQ 45.5625 -1.421875 35.59375 -1.421875 \nQ 29.59375 -1.421875 25.265625 0.953125 \nQ 20.953125 3.328125 18.109375 8.203125 \nz\nM 48.6875 27.296875 \nQ 48.6875 37.203125 44.609375 42.84375 \nQ 40.53125 48.484375 33.40625 48.484375 \nQ 26.265625 48.484375 22.1875 42.84375 \nQ 18.109375 37.203125 18.109375 27.296875 \nQ 18.109375 17.390625 22.1875 11.75 \nQ 26.265625 6.109375 33.40625 6.109375 \nQ 40.53125 6.109375 44.609375 11.75 \nQ 48.6875 17.390625 48.6875 27.296875 \nz\n\" id=\"DejaVuSans-112\"/>\n        <path d=\"M 8.5 21.578125 \nL 8.5 54.6875 \nL 17.484375 54.6875 \nL 17.484375 21.921875 \nQ 17.484375 14.15625 20.5 10.265625 \nQ 23.53125 6.390625 29.59375 6.390625 \nQ 36.859375 6.390625 41.078125 11.03125 \nQ 45.3125 15.671875 45.3125 23.6875 \nL 45.3125 54.6875 \nL 54.296875 54.6875 \nL 54.296875 0 \nL 45.3125 0 \nL 45.3125 8.40625 \nQ 42.046875 3.421875 37.71875 1 \nQ 33.40625 -1.421875 27.6875 -1.421875 \nQ 18.265625 -1.421875 13.375 4.4375 \nQ 8.5 10.296875 8.5 21.578125 \nz\nM 31.109375 56 \nz\n\" id=\"DejaVuSans-117\"/>\n       </defs>\n       <use xlink:href=\"#DejaVuSans-100\"/>\n       <use x=\"63.476562\" xlink:href=\"#DejaVuSans-114\"/>\n       <use x=\"102.339844\" xlink:href=\"#DejaVuSans-111\"/>\n       <use x=\"163.521484\" xlink:href=\"#DejaVuSans-112\"/>\n       <use x=\"226.998047\" xlink:href=\"#DejaVuSans-111\"/>\n       <use x=\"288.179688\" xlink:href=\"#DejaVuSans-117\"/>\n       <use x=\"351.558594\" xlink:href=\"#DejaVuSans-116\"/>\n      </g>\n     </g>\n    </g>\n    <g id=\"xtick_5\">\n     <g id=\"line2d_5\">\n      <g>\n       <use style=\"stroke:#000000;stroke-width:0.8;\" x=\"237.567673\" xlink:href=\"#m46185c8234\" y=\"228.439219\"/>\n      </g>\n     </g>\n     <g id=\"text_5\">\n      <!-- batch_norm -->\n      <g transform=\"translate(224.995524 290.650577)rotate(-60)scale(0.1 -0.1)\">\n       <defs>\n        <path d=\"M 48.78125 52.59375 \nL 48.78125 44.1875 \nQ 44.96875 46.296875 41.140625 47.34375 \nQ 37.3125 48.390625 33.40625 48.390625 \nQ 24.65625 48.390625 19.8125 42.84375 \nQ 14.984375 37.3125 14.984375 27.296875 \nQ 14.984375 17.28125 19.8125 11.734375 \nQ 24.65625 6.203125 33.40625 6.203125 \nQ 37.3125 6.203125 41.140625 7.25 \nQ 44.96875 8.296875 48.78125 10.40625 \nL 48.78125 2.09375 \nQ 45.015625 0.34375 40.984375 -0.53125 \nQ 36.96875 -1.421875 32.421875 -1.421875 \nQ 20.0625 -1.421875 12.78125 6.34375 \nQ 5.515625 14.109375 5.515625 27.296875 \nQ 5.515625 40.671875 12.859375 48.328125 \nQ 20.21875 56 33.015625 56 \nQ 37.15625 56 41.109375 55.140625 \nQ 45.0625 54.296875 48.78125 52.59375 \nz\n\" id=\"DejaVuSans-99\"/>\n        <path d=\"M 50.984375 -16.609375 \nL 50.984375 -23.578125 \nL -0.984375 -23.578125 \nL -0.984375 -16.609375 \nz\n\" id=\"DejaVuSans-95\"/>\n        <path d=\"M 52 44.1875 \nQ 55.375 50.25 60.0625 53.125 \nQ 64.75 56 71.09375 56 \nQ 79.640625 56 84.28125 50.015625 \nQ 88.921875 44.046875 88.921875 33.015625 \nL 88.921875 0 \nL 79.890625 0 \nL 79.890625 32.71875 \nQ 79.890625 40.578125 77.09375 44.375 \nQ 74.3125 48.1875 68.609375 48.1875 \nQ 61.625 48.1875 57.5625 43.546875 \nQ 53.515625 38.921875 53.515625 30.90625 \nL 53.515625 0 \nL 44.484375 0 \nL 44.484375 32.71875 \nQ 44.484375 40.625 41.703125 44.40625 \nQ 38.921875 48.1875 33.109375 48.1875 \nQ 26.21875 48.1875 22.15625 43.53125 \nQ 18.109375 38.875 18.109375 30.90625 \nL 18.109375 0 \nL 9.078125 0 \nL 9.078125 54.6875 \nL 18.109375 54.6875 \nL 18.109375 46.1875 \nQ 21.1875 51.21875 25.484375 53.609375 \nQ 29.78125 56 35.6875 56 \nQ 41.65625 56 45.828125 52.96875 \nQ 50 49.953125 52 44.1875 \nz\n\" id=\"DejaVuSans-109\"/>\n       </defs>\n       <use xlink:href=\"#DejaVuSans-98\"/>\n       <use x=\"63.476562\" xlink:href=\"#DejaVuSans-97\"/>\n       <use x=\"124.755859\" xlink:href=\"#DejaVuSans-116\"/>\n       <use x=\"163.964844\" xlink:href=\"#DejaVuSans-99\"/>\n       <use x=\"218.945312\" xlink:href=\"#DejaVuSans-104\"/>\n       <use x=\"282.324219\" xlink:href=\"#DejaVuSans-95\"/>\n       <use x=\"332.324219\" xlink:href=\"#DejaVuSans-110\"/>\n       <use x=\"395.703125\" xlink:href=\"#DejaVuSans-111\"/>\n       <use x=\"456.884766\" xlink:href=\"#DejaVuSans-114\"/>\n       <use x=\"496.248047\" xlink:href=\"#DejaVuSans-109\"/>\n      </g>\n     </g>\n    </g>\n    <g id=\"xtick_6\">\n     <g id=\"line2d_6\">\n      <g>\n       <use style=\"stroke:#000000;stroke-width:0.8;\" x=\"277.61552\" xlink:href=\"#m46185c8234\" y=\"228.439219\"/>\n      </g>\n     </g>\n     <g id=\"text_6\">\n      <!-- depth -->\n      <g transform=\"translate(272.728256 264.446543)rotate(-60)scale(0.1 -0.1)\">\n       <use xlink:href=\"#DejaVuSans-100\"/>\n       <use x=\"63.476562\" xlink:href=\"#DejaVuSans-101\"/>\n       <use x=\"125\" xlink:href=\"#DejaVuSans-112\"/>\n       <use x=\"188.476562\" xlink:href=\"#DejaVuSans-116\"/>\n       <use x=\"227.685547\" xlink:href=\"#DejaVuSans-104\"/>\n      </g>\n     </g>\n    </g>\n    <g id=\"xtick_7\">\n     <g id=\"line2d_7\">\n      <g>\n       <use style=\"stroke:#000000;stroke-width:0.8;\" x=\"317.663367\" xlink:href=\"#m46185c8234\" y=\"228.439219\"/>\n      </g>\n     </g>\n     <g id=\"text_7\">\n      <!-- res -->\n      <g transform=\"translate(316.240947 252.443972)rotate(-60)scale(0.1 -0.1)\">\n       <use xlink:href=\"#DejaVuSans-114\"/>\n       <use x=\"38.863281\" xlink:href=\"#DejaVuSans-101\"/>\n       <use x=\"100.386719\" xlink:href=\"#DejaVuSans-115\"/>\n      </g>\n     </g>\n    </g>\n    <g id=\"xtick_8\">\n     <g id=\"line2d_8\">\n      <g>\n       <use style=\"stroke:#000000;stroke-width:0.8;\" x=\"357.711214\" xlink:href=\"#m46185c8234\" y=\"228.439219\"/>\n      </g>\n     </g>\n     <g id=\"text_8\">\n      <!-- res deep -->\n      <g transform=\"translate(349.243481 276.84965)rotate(-60)scale(0.1 -0.1)\">\n       <use xlink:href=\"#DejaVuSans-114\"/>\n       <use x=\"38.863281\" xlink:href=\"#DejaVuSans-101\"/>\n       <use x=\"100.386719\" xlink:href=\"#DejaVuSans-115\"/>\n       <use x=\"152.486328\" xlink:href=\"#DejaVuSans-32\"/>\n       <use x=\"184.273438\" xlink:href=\"#DejaVuSans-100\"/>\n       <use x=\"247.75\" xlink:href=\"#DejaVuSans-101\"/>\n       <use x=\"309.273438\" xlink:href=\"#DejaVuSans-101\"/>\n       <use x=\"370.796875\" xlink:href=\"#DejaVuSans-112\"/>\n      </g>\n     </g>\n    </g>\n   </g>\n   <g id=\"matplotlib.axis_2\">\n    <g id=\"ytick_1\">\n     <g id=\"line2d_9\">\n      <defs>\n       <path d=\"M 0 0 \nL -3.5 0 \n\" id=\"m24bab066f1\" style=\"stroke:#000000;stroke-width:0.8;\"/>\n      </defs>\n      <g>\n       <use style=\"stroke:#000000;stroke-width:0.8;\" x=\"50.14375\" xlink:href=\"#m24bab066f1\" y=\"228.439219\"/>\n      </g>\n     </g>\n     <g id=\"text_9\">\n      <!-- 0.70 -->\n      <g transform=\"translate(20.878125 232.238437)scale(0.1 -0.1)\">\n       <defs>\n        <path d=\"M 31.78125 66.40625 \nQ 24.171875 66.40625 20.328125 58.90625 \nQ 16.5 51.421875 16.5 36.375 \nQ 16.5 21.390625 20.328125 13.890625 \nQ 24.171875 6.390625 31.78125 6.390625 \nQ 39.453125 6.390625 43.28125 13.890625 \nQ 47.125 21.390625 47.125 36.375 \nQ 47.125 51.421875 43.28125 58.90625 \nQ 39.453125 66.40625 31.78125 66.40625 \nz\nM 31.78125 74.21875 \nQ 44.046875 74.21875 50.515625 64.515625 \nQ 56.984375 54.828125 56.984375 36.375 \nQ 56.984375 17.96875 50.515625 8.265625 \nQ 44.046875 -1.421875 31.78125 -1.421875 \nQ 19.53125 -1.421875 13.0625 8.265625 \nQ 6.59375 17.96875 6.59375 36.375 \nQ 6.59375 54.828125 13.0625 64.515625 \nQ 19.53125 74.21875 31.78125 74.21875 \nz\n\" id=\"DejaVuSans-48\"/>\n        <path d=\"M 10.6875 12.40625 \nL 21 12.40625 \nL 21 0 \nL 10.6875 0 \nz\n\" id=\"DejaVuSans-46\"/>\n        <path d=\"M 8.203125 72.90625 \nL 55.078125 72.90625 \nL 55.078125 68.703125 \nL 28.609375 0 \nL 18.3125 0 \nL 43.21875 64.59375 \nL 8.203125 64.59375 \nz\n\" id=\"DejaVuSans-55\"/>\n       </defs>\n       <use xlink:href=\"#DejaVuSans-48\"/>\n       <use x=\"63.623047\" xlink:href=\"#DejaVuSans-46\"/>\n       <use x=\"95.410156\" xlink:href=\"#DejaVuSans-55\"/>\n       <use x=\"159.033203\" xlink:href=\"#DejaVuSans-48\"/>\n      </g>\n     </g>\n    </g>\n    <g id=\"ytick_2\">\n     <g id=\"line2d_10\">\n      <g>\n       <use style=\"stroke:#000000;stroke-width:0.8;\" x=\"50.14375\" xlink:href=\"#m24bab066f1\" y=\"192.199219\"/>\n      </g>\n     </g>\n     <g id=\"text_10\">\n      <!-- 0.75 -->\n      <g transform=\"translate(20.878125 195.998438)scale(0.1 -0.1)\">\n       <defs>\n        <path d=\"M 10.796875 72.90625 \nL 49.515625 72.90625 \nL 49.515625 64.59375 \nL 19.828125 64.59375 \nL 19.828125 46.734375 \nQ 21.96875 47.46875 24.109375 47.828125 \nQ 26.265625 48.1875 28.421875 48.1875 \nQ 40.625 48.1875 47.75 41.5 \nQ 54.890625 34.8125 54.890625 23.390625 \nQ 54.890625 11.625 47.5625 5.09375 \nQ 40.234375 -1.421875 26.90625 -1.421875 \nQ 22.3125 -1.421875 17.546875 -0.640625 \nQ 12.796875 0.140625 7.71875 1.703125 \nL 7.71875 11.625 \nQ 12.109375 9.234375 16.796875 8.0625 \nQ 21.484375 6.890625 26.703125 6.890625 \nQ 35.15625 6.890625 40.078125 11.328125 \nQ 45.015625 15.765625 45.015625 23.390625 \nQ 45.015625 31 40.078125 35.4375 \nQ 35.15625 39.890625 26.703125 39.890625 \nQ 22.75 39.890625 18.8125 39.015625 \nQ 14.890625 38.140625 10.796875 36.28125 \nz\n\" id=\"DejaVuSans-53\"/>\n       </defs>\n       <use xlink:href=\"#DejaVuSans-48\"/>\n       <use x=\"63.623047\" xlink:href=\"#DejaVuSans-46\"/>\n       <use x=\"95.410156\" xlink:href=\"#DejaVuSans-55\"/>\n       <use x=\"159.033203\" xlink:href=\"#DejaVuSans-53\"/>\n      </g>\n     </g>\n    </g>\n    <g id=\"ytick_3\">\n     <g id=\"line2d_11\">\n      <g>\n       <use style=\"stroke:#000000;stroke-width:0.8;\" x=\"50.14375\" xlink:href=\"#m24bab066f1\" y=\"155.959219\"/>\n      </g>\n     </g>\n     <g id=\"text_11\">\n      <!-- 0.80 -->\n      <g transform=\"translate(20.878125 159.758437)scale(0.1 -0.1)\">\n       <defs>\n        <path d=\"M 31.78125 34.625 \nQ 24.75 34.625 20.71875 30.859375 \nQ 16.703125 27.09375 16.703125 20.515625 \nQ 16.703125 13.921875 20.71875 10.15625 \nQ 24.75 6.390625 31.78125 6.390625 \nQ 38.8125 6.390625 42.859375 10.171875 \nQ 46.921875 13.96875 46.921875 20.515625 \nQ 46.921875 27.09375 42.890625 30.859375 \nQ 38.875 34.625 31.78125 34.625 \nz\nM 21.921875 38.8125 \nQ 15.578125 40.375 12.03125 44.71875 \nQ 8.5 49.078125 8.5 55.328125 \nQ 8.5 64.0625 14.71875 69.140625 \nQ 20.953125 74.21875 31.78125 74.21875 \nQ 42.671875 74.21875 48.875 69.140625 \nQ 55.078125 64.0625 55.078125 55.328125 \nQ 55.078125 49.078125 51.53125 44.71875 \nQ 48 40.375 41.703125 38.8125 \nQ 48.828125 37.15625 52.796875 32.3125 \nQ 56.78125 27.484375 56.78125 20.515625 \nQ 56.78125 9.90625 50.3125 4.234375 \nQ 43.84375 -1.421875 31.78125 -1.421875 \nQ 19.734375 -1.421875 13.25 4.234375 \nQ 6.78125 9.90625 6.78125 20.515625 \nQ 6.78125 27.484375 10.78125 32.3125 \nQ 14.796875 37.15625 21.921875 38.8125 \nz\nM 18.3125 54.390625 \nQ 18.3125 48.734375 21.84375 45.5625 \nQ 25.390625 42.390625 31.78125 42.390625 \nQ 38.140625 42.390625 41.71875 45.5625 \nQ 45.3125 48.734375 45.3125 54.390625 \nQ 45.3125 60.0625 41.71875 63.234375 \nQ 38.140625 66.40625 31.78125 66.40625 \nQ 25.390625 66.40625 21.84375 63.234375 \nQ 18.3125 60.0625 18.3125 54.390625 \nz\n\" id=\"DejaVuSans-56\"/>\n       </defs>\n       <use xlink:href=\"#DejaVuSans-48\"/>\n       <use x=\"63.623047\" xlink:href=\"#DejaVuSans-46\"/>\n       <use x=\"95.410156\" xlink:href=\"#DejaVuSans-56\"/>\n       <use x=\"159.033203\" xlink:href=\"#DejaVuSans-48\"/>\n      </g>\n     </g>\n    </g>\n    <g id=\"ytick_4\">\n     <g id=\"line2d_12\">\n      <g>\n       <use style=\"stroke:#000000;stroke-width:0.8;\" x=\"50.14375\" xlink:href=\"#m24bab066f1\" y=\"119.719219\"/>\n      </g>\n     </g>\n     <g id=\"text_12\">\n      <!-- 0.85 -->\n      <g transform=\"translate(20.878125 123.518437)scale(0.1 -0.1)\">\n       <use xlink:href=\"#DejaVuSans-48\"/>\n       <use x=\"63.623047\" xlink:href=\"#DejaVuSans-46\"/>\n       <use x=\"95.410156\" xlink:href=\"#DejaVuSans-56\"/>\n       <use x=\"159.033203\" xlink:href=\"#DejaVuSans-53\"/>\n      </g>\n     </g>\n    </g>\n    <g id=\"ytick_5\">\n     <g id=\"line2d_13\">\n      <g>\n       <use style=\"stroke:#000000;stroke-width:0.8;\" x=\"50.14375\" xlink:href=\"#m24bab066f1\" y=\"83.479219\"/>\n      </g>\n     </g>\n     <g id=\"text_13\">\n      <!-- 0.90 -->\n      <g transform=\"translate(20.878125 87.278438)scale(0.1 -0.1)\">\n       <defs>\n        <path d=\"M 10.984375 1.515625 \nL 10.984375 10.5 \nQ 14.703125 8.734375 18.5 7.8125 \nQ 22.3125 6.890625 25.984375 6.890625 \nQ 35.75 6.890625 40.890625 13.453125 \nQ 46.046875 20.015625 46.78125 33.40625 \nQ 43.953125 29.203125 39.59375 26.953125 \nQ 35.25 24.703125 29.984375 24.703125 \nQ 19.046875 24.703125 12.671875 31.3125 \nQ 6.296875 37.9375 6.296875 49.421875 \nQ 6.296875 60.640625 12.9375 67.421875 \nQ 19.578125 74.21875 30.609375 74.21875 \nQ 43.265625 74.21875 49.921875 64.515625 \nQ 56.59375 54.828125 56.59375 36.375 \nQ 56.59375 19.140625 48.40625 8.859375 \nQ 40.234375 -1.421875 26.421875 -1.421875 \nQ 22.703125 -1.421875 18.890625 -0.6875 \nQ 15.09375 0.046875 10.984375 1.515625 \nz\nM 30.609375 32.421875 \nQ 37.25 32.421875 41.125 36.953125 \nQ 45.015625 41.5 45.015625 49.421875 \nQ 45.015625 57.28125 41.125 61.84375 \nQ 37.25 66.40625 30.609375 66.40625 \nQ 23.96875 66.40625 20.09375 61.84375 \nQ 16.21875 57.28125 16.21875 49.421875 \nQ 16.21875 41.5 20.09375 36.953125 \nQ 23.96875 32.421875 30.609375 32.421875 \nz\n\" id=\"DejaVuSans-57\"/>\n       </defs>\n       <use xlink:href=\"#DejaVuSans-48\"/>\n       <use x=\"63.623047\" xlink:href=\"#DejaVuSans-46\"/>\n       <use x=\"95.410156\" xlink:href=\"#DejaVuSans-57\"/>\n       <use x=\"159.033203\" xlink:href=\"#DejaVuSans-48\"/>\n      </g>\n     </g>\n    </g>\n    <g id=\"ytick_6\">\n     <g id=\"line2d_14\">\n      <g>\n       <use style=\"stroke:#000000;stroke-width:0.8;\" x=\"50.14375\" xlink:href=\"#m24bab066f1\" y=\"47.239219\"/>\n      </g>\n     </g>\n     <g id=\"text_14\">\n      <!-- 0.95 -->\n      <g transform=\"translate(20.878125 51.038437)scale(0.1 -0.1)\">\n       <use xlink:href=\"#DejaVuSans-48\"/>\n       <use x=\"63.623047\" xlink:href=\"#DejaVuSans-46\"/>\n       <use x=\"95.410156\" xlink:href=\"#DejaVuSans-57\"/>\n       <use x=\"159.033203\" xlink:href=\"#DejaVuSans-53\"/>\n      </g>\n     </g>\n    </g>\n    <g id=\"ytick_7\">\n     <g id=\"line2d_15\">\n      <g>\n       <use style=\"stroke:#000000;stroke-width:0.8;\" x=\"50.14375\" xlink:href=\"#m24bab066f1\" y=\"10.999219\"/>\n      </g>\n     </g>\n     <g id=\"text_15\">\n      <!-- 1.00 -->\n      <g transform=\"translate(20.878125 14.798438)scale(0.1 -0.1)\">\n       <defs>\n        <path d=\"M 12.40625 8.296875 \nL 28.515625 8.296875 \nL 28.515625 63.921875 \nL 10.984375 60.40625 \nL 10.984375 69.390625 \nL 28.421875 72.90625 \nL 38.28125 72.90625 \nL 38.28125 8.296875 \nL 54.390625 8.296875 \nL 54.390625 0 \nL 12.40625 0 \nz\n\" id=\"DejaVuSans-49\"/>\n       </defs>\n       <use xlink:href=\"#DejaVuSans-49\"/>\n       <use x=\"63.623047\" xlink:href=\"#DejaVuSans-46\"/>\n       <use x=\"95.410156\" xlink:href=\"#DejaVuSans-48\"/>\n       <use x=\"159.033203\" xlink:href=\"#DejaVuSans-48\"/>\n      </g>\n     </g>\n    </g>\n    <g id=\"text_16\">\n     <!-- accuracy -->\n     <g transform=\"translate(14.798438 142.278594)rotate(-90)scale(0.1 -0.1)\">\n      <defs>\n       <path d=\"M 32.171875 -5.078125 \nQ 28.375 -14.84375 24.75 -17.8125 \nQ 21.140625 -20.796875 15.09375 -20.796875 \nL 7.90625 -20.796875 \nL 7.90625 -13.28125 \nL 13.1875 -13.28125 \nQ 16.890625 -13.28125 18.9375 -11.515625 \nQ 21 -9.765625 23.484375 -3.21875 \nL 25.09375 0.875 \nL 2.984375 54.6875 \nL 12.5 54.6875 \nL 29.59375 11.921875 \nL 46.6875 54.6875 \nL 56.203125 54.6875 \nz\n\" id=\"DejaVuSans-121\"/>\n      </defs>\n      <use xlink:href=\"#DejaVuSans-97\"/>\n      <use x=\"61.279297\" xlink:href=\"#DejaVuSans-99\"/>\n      <use x=\"116.259766\" xlink:href=\"#DejaVuSans-99\"/>\n      <use x=\"171.240234\" xlink:href=\"#DejaVuSans-117\"/>\n      <use x=\"234.619141\" xlink:href=\"#DejaVuSans-114\"/>\n      <use x=\"275.732422\" xlink:href=\"#DejaVuSans-97\"/>\n      <use x=\"337.011719\" xlink:href=\"#DejaVuSans-99\"/>\n      <use x=\"391.992188\" xlink:href=\"#DejaVuSans-121\"/>\n     </g>\n    </g>\n   </g>\n   <g id=\"patch_19\">\n    <path d=\"M 50.14375 228.439219 \nL 50.14375 10.999219 \n\" style=\"fill:none;stroke:#000000;stroke-linecap:square;stroke-linejoin:miter;stroke-width:0.8;\"/>\n   </g>\n   <g id=\"patch_20\">\n    <path d=\"M 384.94375 228.439219 \nL 384.94375 10.999219 \n\" style=\"fill:none;stroke:#000000;stroke-linecap:square;stroke-linejoin:miter;stroke-width:0.8;\"/>\n   </g>\n   <g id=\"patch_21\">\n    <path d=\"M 50.14375 228.439219 \nL 384.94375 228.439219 \n\" style=\"fill:none;stroke:#000000;stroke-linecap:square;stroke-linejoin:miter;stroke-width:0.8;\"/>\n   </g>\n   <g id=\"patch_22\">\n    <path d=\"M 50.14375 10.999219 \nL 384.94375 10.999219 \n\" style=\"fill:none;stroke:#000000;stroke-linecap:square;stroke-linejoin:miter;stroke-width:0.8;\"/>\n   </g>\n   <g id=\"legend_1\">\n    <g id=\"patch_23\">\n     <path d=\"M 322.66875 223.439219 \nL 377.94375 223.439219 \nQ 379.94375 223.439219 379.94375 221.439219 \nL 379.94375 193.082969 \nQ 379.94375 191.082969 377.94375 191.082969 \nL 322.66875 191.082969 \nQ 320.66875 191.082969 320.66875 193.082969 \nL 320.66875 221.439219 \nQ 320.66875 223.439219 322.66875 223.439219 \nz\n\" style=\"fill:#ffffff;opacity:0.8;stroke:#cccccc;stroke-linejoin:miter;\"/>\n    </g>\n    <g id=\"patch_24\">\n     <path d=\"M 324.66875 202.681406 \nL 344.66875 202.681406 \nL 344.66875 195.681406 \nL 324.66875 195.681406 \nz\n\" style=\"fill:#1f77b4;\"/>\n    </g>\n    <g id=\"text_17\">\n     <!-- train -->\n     <g transform=\"translate(352.66875 202.681406)scale(0.1 -0.1)\">\n      <use xlink:href=\"#DejaVuSans-116\"/>\n      <use x=\"39.208984\" xlink:href=\"#DejaVuSans-114\"/>\n      <use x=\"80.322266\" xlink:href=\"#DejaVuSans-97\"/>\n      <use x=\"141.601562\" xlink:href=\"#DejaVuSans-105\"/>\n      <use x=\"169.384766\" xlink:href=\"#DejaVuSans-110\"/>\n     </g>\n    </g>\n    <g id=\"patch_25\">\n     <path d=\"M 324.66875 217.359531 \nL 344.66875 217.359531 \nL 344.66875 210.359531 \nL 324.66875 210.359531 \nz\n\" style=\"fill:#ff7f0e;\"/>\n    </g>\n    <g id=\"text_18\">\n     <!-- val -->\n     <g transform=\"translate(352.66875 217.359531)scale(0.1 -0.1)\">\n      <defs>\n       <path d=\"M 2.984375 54.6875 \nL 12.5 54.6875 \nL 29.59375 8.796875 \nL 46.6875 54.6875 \nL 56.203125 54.6875 \nL 35.6875 0 \nL 23.484375 0 \nz\n\" id=\"DejaVuSans-118\"/>\n      </defs>\n      <use xlink:href=\"#DejaVuSans-118\"/>\n      <use x=\"59.179688\" xlink:href=\"#DejaVuSans-97\"/>\n      <use x=\"120.458984\" xlink:href=\"#DejaVuSans-108\"/>\n     </g>\n    </g>\n   </g>\n  </g>\n </g>\n <defs>\n  <clipPath id=\"p5f6ae9ad4b\">\n   <rect height=\"217.44\" width=\"334.8\" x=\"50.14375\" y=\"10.999219\"/>\n  </clipPath>\n </defs>\n</svg>\n",
      "image/png": "[encoded data removed]"
     },
     "metadata": {
      "needs_background": "light"
     }
    }
   ],
   "source": [
    "trn_acc = [v['train'] for k, v in all_act_dict.items()]\n",
    "val_acc = [v['val'] for k, v in all_act_dict.items()]\n",
    "\n",
    "width = 0.3\n",
    "plt.bar(np.arange(len(trn_acc)), trn_acc, width=width, label='train')\n",
    "plt.bar(np.arange(len(val_acc))+ width, val_acc, width=width, label='val')\n",
    "plt.xticks(np.arange(len(val_acc)) + width/2, list(all_act_dict.keys()), rotation=60)\n",
    "plt.ylabel('accuracy')\n",
    "plt.legend(loc='lower right')\n",
    "plt.ylim(0.7, 1)\n",
    "plt.savefig('accuracy_comparison.png', bbox_inches='tight')\n",
    "plt.show()"
   ]
  },
  {
   "cell_type": "code",
   "execution_count": null,
   "metadata": {},
   "outputs": [],
   "source": []
  }
 ]
}